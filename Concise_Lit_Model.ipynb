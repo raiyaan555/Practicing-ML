{
  

  "nbformat": 4,
  "nbformat_minor": 0,
  "metadata": {
    "colab": {
      "provenance": [],
      "collapsed_sections": [],
      "authorship_tag": "ABX9TyNrAYgOhz2k5gzM/5cM9Dyf",
      "include_colab_link": true
    },
    "kernelspec": {
      "name": "python3",
      "display_name": "Python 3"
    },
    "language_info": {
      "name": "python"
    },
    "accelerator": "GPU",
    "gpuClass": "standard"
  },
  "cells": [
    {
      "cell_type": "markdown",
      "metadata": {
        "id": "view-in-github",
        "colab_type": "text"
      },
      "source": [
        "<a href=\"https://colab.research.google.com/github/raiyaan555/Practicing-ML/blob/main/Concise_Lit_Model.ipynb\" target=\"_parent\"><img src=\"https://colab.research.google.com/assets/colab-badge.svg\" alt=\"Open In Colab\"/></a>"
      ]
    },
    {
      "cell_type": "markdown",
      "source": [
        "\n",
        "\n",
        "\n",
        "\n",
        "# ***Concise Lit***\n",
        "************************"
      ],
      "metadata": {
        "id": "7jmNb6gyTXB2"
      }
    },
    {
      "cell_type": "markdown",
      "source": [
        "## The Data X Project for the 5th semester\n",
        "\n",
        "\n",
        "Researched and Prepared By -\n",
        "\n",
        "- `Raiyaan Ali Khan RA2011003010743`\n",
        "- `Harsh Yadav RA2011003010746`\n",
        "- `Bhavyam Vashishtha RA2011003010705`\n",
        "- `Aadhitya R RA2011003010730 `\n",
        "- `Rohan Kishor Shinde RA2011031010122`\n",
        "\n",
        "\n"
      ],
      "metadata": {
        "id": "uvshAEe-TiBB"
      }
    },
    {
      "cell_type": "markdown",
      "source": [
        "\n",
        "\n",
        "\n",
        "We're going to be replicating the deep learning model behind the 2017 paper [*PubMed 200k RCT: a Dataset for Sequenctial Sentence Classification in Medical Abstracts*](https://arxiv.org/abs/1710.06071).\n",
        "\n",
        "When it was released, the paper presented a new dataset called PubMed 200k RCT which consists of ~200,000 labelled Randomized Controlled Trial (RCT) abstracts.\n",
        "\n",
        "The goal of the dataset was to explore the ability for NLP models to classify sentences which appear in sequential order.\n",
        "\n",
        "In other words, given the abstract of a RCT, what role does each sentence serve in the abstract?\n",
        "\n",
        "\n",
        "*Example inputs ([harder to read abstract from PubMed](https://pubmed.ncbi.nlm.nih.gov/28942748/)) and outputs ([easier to read abstract](https://pubmed.ncbi.nlm.nih.gov/32537182/)) of the model we're going to build. The model will take an abstract wall of text and predict the section label each sentence should have.*  \n",
        "\n",
        "### Model Input\n",
        "\n",
        "For example, can we train an NLP model which takes the following input (note: the following sample has had all numerical symbols replaced with \"@\"):\n",
        "\n",
        "> To investigate the efficacy of @ weeks of daily low-dose oral prednisolone in improving pain , mobility , and systemic low-grade inflammation in the short term and whether the effect would be sustained at @ weeks in older adults with moderate to severe knee osteoarthritis ( OA ). A total of @ patients with primary knee OA were randomized @:@ ; @ received @ mg/day of prednisolone and @ received placebo for @ weeks. Outcome measures included pain reduction and improvement in function scores and systemic inflammation markers. Pain was assessed using the visual analog pain scale ( @-@ mm ).\n",
        "Secondary outcome measures included the Western Ontario and McMaster Universities Osteoarthritis Index scores , patient global assessment ( PGA ) of the severity of knee OA , and @-min walk distance ( @MWD ).,\n",
        "Serum levels of interleukin @ ( IL-@ ) , IL-@ , tumor necrosis factor ( TNF ) - , and high-sensitivity C-reactive protein ( hsCRP ) were measured.\n",
        "There was a clinically relevant reduction in the intervention group compared to the placebo group for knee pain , physical function , PGA , and @MWD at @ weeks. The mean difference between treatment arms ( @ % CI ) was @ ( @-@ @ ) , p < @ ; @ ( @-@ @ ) , p < @ ; @ ( @-@ @ ) , p < @ ; and @ ( @-@ @ ) , p < @ , respectively. Further , there was a clinically relevant reduction in the serum levels of IL-@ , IL-@ , TNF - , and hsCRP at @ weeks in the intervention group when compared to the placebo group. These differences remained significant at @ weeks. The Outcome Measures in Rheumatology Clinical Trials-Osteoarthritis Research Society International responder rate was @ % in the intervention group and @ % in the placebo group ( p < @ ). Low-dose oral prednisolone had both a short-term and a longer sustained effect resulting in less knee pain , better physical function , and attenuation of systemic inflammation in older patients with knee OA ( ClinicalTrials.gov identifier NCT@ ).\n",
        "\n",
        "### Model output\n",
        "\n",
        "And returns the following output:\n",
        "\n",
        "```\n",
        "['###24293578\\n',\n",
        " 'OBJECTIVE\\tTo investigate the efficacy of @ weeks of daily low-dose oral prednisolone in improving pain , mobility , and systemic low-grade inflammation in the short term and whether the effect would be sustained at @ weeks in older adults with moderate to severe knee osteoarthritis ( OA ) .\\n',\n",
        " 'METHODS\\tA total of @ patients with primary knee OA were randomized @:@ ; @ received @ mg/day of prednisolone and @ received placebo for @ weeks .\\n',\n",
        " 'METHODS\\tOutcome measures included pain reduction and improvement in function scores and systemic inflammation markers .\\n',\n",
        " 'METHODS\\tPain was assessed using the visual analog pain scale ( @-@ mm ) .\\n',\n",
        " 'METHODS\\tSecondary outcome measures included the Western Ontario and McMaster Universities Osteoarthritis Index scores , patient global assessment ( PGA ) of the severity of knee OA , and @-min walk distance ( @MWD ) .\\n',\n",
        " 'METHODS\\tSerum levels of interleukin @ ( IL-@ ) , IL-@ , tumor necrosis factor ( TNF ) - , and high-sensitivity C-reactive protein ( hsCRP ) were measured .\\n',\n",
        " 'RESULTS\\tThere was a clinically relevant reduction in the intervention group compared to the placebo group for knee pain , physical function , PGA , and @MWD at @ weeks .\\n',\n",
        " 'RESULTS\\tThe mean difference between treatment arms ( @ % CI ) was @ ( @-@ @ ) , p < @ ; @ ( @-@ @ ) , p < @ ; @ ( @-@ @ ) , p < @ ; and @ ( @-@ @ ) , p < @ , respectively .\\n',\n",
        " 'RESULTS\\tFurther , there was a clinically relevant reduction in the serum levels of IL-@ , IL-@ , TNF - , and hsCRP at @ weeks in the intervention group when compared to the placebo group .\\n',\n",
        " 'RESULTS\\tThese differences remained significant at @ weeks .\\n',\n",
        " 'RESULTS\\tThe Outcome Measures in Rheumatology Clinical Trials-Osteoarthritis Research Society International responder rate was @ % in the intervention group and @ % in the placebo group ( p < @ ) .\\n',\n",
        " 'CONCLUSIONS\\tLow-dose oral prednisolone had both a short-term and a longer sustained effect resulting in less knee pain , better physical function , and attenuation of systemic inflammation in older patients with knee OA ( ClinicalTrials.gov identifier NCT@ ) .\\n',\n",
        " '\\n']\n",
        " ```\n",
        "\n",
        "### Problem in a sentence\n",
        "\n",
        "The number of RCT papers released is continuing to increase, those without structured abstracts can be hard to read and in turn slow down researchers moving through the literature. \n",
        "\n",
        "### Solution in a sentence\n",
        "\n",
        "Create an NLP model to classify abstract sentences into the role they play (e.g. objective, methods, results, etc)  to enable researchers to skim through the literature (hence Concise Lit) and dive deeper when necessary.\n",
        "\n",
        "> 📖 **Resources:** Before going through the code in this notebook, you might want to get a background of what we're going to be doing. To do so, we had to thoroughly go through two of these datasets-\n",
        "1. Where our data is coming from: [*PubMed 200k RCT: a Dataset for Sequential Sentence Classification in Medical Abstracts*](https://arxiv.org/abs/1710.06071)\n",
        "2. Where our model is coming from: [*Neural networks for joint sentence\n",
        "classification in medical paper abstracts*](https://arxiv.org/pdf/1612.05251.pdf).\n",
        "\n",
        "## What we're going to do in this project\n",
        "\n",
        "* Downloading a text dataset ([PubMed RCT200k from GitHub](https://github.com/Franck-Dernoncourt/pubmed-rct))\n",
        "* Writing a preprocessing function to prepare our data for modelling\n",
        "* Setting up a series of modelling experiments\n",
        "  * Making a baseline (TF-IDF classifier)\n",
        "  * Deep models with different combinations of: token embeddings, character embeddings, pretrained embeddings, positional embeddings\n",
        "* Building our first multimodal model (taking multiple types of data inputs)\n",
        "  * Replicating the model architecture from https://arxiv.org/pdf/1612.05251.pdf \n",
        "* Find the most wrong predictions\n",
        "* Making predictions on PubMed abstracts from the wild\n"
      ],
      "metadata": {
        "id": "MdRjTqFATzMt"
      }
    },
    {
      "cell_type": "markdown",
      "source": [
        "## Accessing GPU\n",
        "\n",
        "Since we're going to be building deep learning models, let's make sure we have a GPU.\n",
        "\n",
        "If we don't have access to a GPU, the models we're building here will likely take up to 10x longer to run."
      ],
      "metadata": {
        "id": "JSPsv9B2Uwdb"
      }
    },
    {
      "cell_type": "code",
      "source": [
        "# Check for GPU\n",
        "!nvidia-smi -L"
      ],
      "metadata": {
        "id": "h_f2TfnGU2gG",
        "colab": {
          "base_uri": "https://localhost:8080/"
        },
        "outputId": "e53ddced-4872-4f99-e6a9-67b1d17ba42a"
      },
      "execution_count": 1,
      "outputs": [
        {
          "output_type": "stream",
          "name": "stdout",
          "text": [
            "GPU 0: Tesla T4 (UUID: GPU-9882efcf-4b79-d94b-3292-aa8d8baf9df7)\n"
          ]
        }
      ]
    },
    {
      "cell_type": "markdown",
      "source": [
        "## Get data\n",
        "\n",
        "Before we can start building a model, we've got to download the PubMed 200k RCT dataset.\n",
        "\n",
        "Data they used for their research is available for free publically and for txt files [on GitHub](https://github.com/Franck-Dernoncourt/pubmed-rct).\n",
        "\n",
        "We can copy them to our local directory using `git clone https://github.com/Franck-Dernoncourt/pubmed-rct`."
      ],
      "metadata": {
        "id": "4KRyamu1WPGz"
      }
    },
    {
      "cell_type": "code",
      "source": [
        "!git clone https://github.com/Franck-Dernoncourt/pubmed-rct.git\n",
        "!ls pubmed-rct"
      ],
      "metadata": {
        "colab": {
          "base_uri": "https://localhost:8080/"
        },
        "id": "0Z7Hp4SKWec2",
        "outputId": "7f55147b-2250-43a7-bcf6-31df64379da5"
      },
      "execution_count": 2,
      "outputs": [
        {
          "output_type": "stream",
          "name": "stdout",
          "text": [
            "Cloning into 'pubmed-rct'...\n",
            "remote: Enumerating objects: 33, done.\u001b[K\n",
            "remote: Counting objects: 100% (8/8), done.\u001b[K\n",
            "remote: Compressing objects: 100% (3/3), done.\u001b[K\n",
            "remote: Total 33 (delta 5), reused 5 (delta 5), pack-reused 25\u001b[K\n",
            "Unpacking objects: 100% (33/33), done.\n",
            "Checking out files: 100% (13/13), done.\n",
            "PubMed_200k_RCT\n",
            "PubMed_200k_RCT_numbers_replaced_with_at_sign\n",
            "PubMed_20k_RCT\n",
            "PubMed_20k_RCT_numbers_replaced_with_at_sign\n",
            "README.md\n"
          ]
        }
      ]
    },
    {
      "cell_type": "markdown",
      "source": [
        "Checking the contents of the downloaded repository, we can see there are four folders.\n",
        "\n",
        "Each contains a different version of the PubMed 200k RCT dataset.\n",
        "\n",
        "Looking at the [README file](https://github.com/Franck-Dernoncourt/pubmed-rct) from the GitHub page, we get the following information:\n",
        "* PubMed 20k is a subset of PubMed 200k. I.e., any abstract present in PubMed 20k is also present in PubMed 200k.\n",
        "* `PubMed_200k_RCT` is the same as `PubMed_200k_RCT_numbers_replaced_with_at_sign`, except that in the latter all numbers had been replaced by `@`. (same for `PubMed_20k_RCT` vs. `PubMed_20k_RCT_numbers_replaced_with_at_sign`).\n",
        "* Since Github file size limit is 100 MiB, we had to compress `PubMed_200k_RCT\\train.7z` and `PubMed_200k_RCT_numbers_replaced_with_at_sign\\train.zip`. To uncompress `train.7z`, you may use 7-Zip on Windows, Keka on Mac OS X, or p7zip on Linux.\n",
        "\n",
        "To begin with, the dataset we're going to be focused on is `PubMed_20k_RCT_numbers_replaced_with_at_sign`.\n",
        "\n",
        "Why this one?\n",
        "\n",
        "Rather than working with the whole 200k dataset, we'll keep our experiments quick by starting with a smaller subset. We could've chosen the dataset with numbers instead of having them replaced with `@` but we didn't.\n",
        "\n",
        "Let's check the file contents. "
      ],
      "metadata": {
        "id": "0nt0U1BGWgKX"
      }
    },
    {
      "cell_type": "code",
      "source": [
        "# Check what files are in the PubMed_20K dataset \n",
        "!ls pubmed-rct/PubMed_20k_RCT_numbers_replaced_with_at_sign"
      ],
      "metadata": {
        "colab": {
          "base_uri": "https://localhost:8080/"
        },
        "id": "iWFqb53TWl8p",
        "outputId": "92d47b49-cd0d-4d3f-d29e-e9bbd21799d8"
      },
      "execution_count": 3,
      "outputs": [
        {
          "output_type": "stream",
          "name": "stdout",
          "text": [
            "dev.txt  test.txt  train.txt\n"
          ]
        }
      ]
    },
    {
      "cell_type": "markdown",
      "source": [
        "We've got three separate text files:\n",
        "* `train.txt` - training samples.\n",
        "* `dev.txt` - dev is short for development set, which is another name for validation set (in our case, we'll be using and referring to this file as our validation set).\n",
        "* `test.txt` - test samples.\n",
        "\n",
        "To save ourselves typing out the filepath to our target directory each time, let's turn it into a variable."
      ],
      "metadata": {
        "id": "DFIGVURqWwhx"
      }
    },
    {
      "cell_type": "code",
      "source": [
        "# Start by using the 20k dataset\n",
        "data_dir = \"pubmed-rct/PubMed_20k_RCT_numbers_replaced_with_at_sign/\""
      ],
      "metadata": {
        "id": "rwNMWqg5W19Y"
      },
      "execution_count": 4,
      "outputs": []
    },
    {
      "cell_type": "code",
      "source": [
        "# Check all of the filenames in the target directory\n",
        "import os\n",
        "filenames = [data_dir + filename for filename in os.listdir(data_dir)]\n",
        "filenames"
      ],
      "metadata": {
        "colab": {
          "base_uri": "https://localhost:8080/"
        },
        "id": "lcyjXDxLXAuz",
        "outputId": "641b1ec2-8061-40ca-b05c-e086ab6cd1e7"
      },
      "execution_count": 5,
      "outputs": [
        {
          "output_type": "execute_result",
          "data": {
            "text/plain": [
              "['pubmed-rct/PubMed_20k_RCT_numbers_replaced_with_at_sign/test.txt',\n",
              " 'pubmed-rct/PubMed_20k_RCT_numbers_replaced_with_at_sign/train.txt',\n",
              " 'pubmed-rct/PubMed_20k_RCT_numbers_replaced_with_at_sign/dev.txt']"
            ]
          },
          "metadata": {},
          "execution_count": 5
        }
      ]
    },
    {
      "cell_type": "markdown",
      "source": [
        "## Preprocess data\n",
        "\n",
        "\n",
        "We've downloaded the data but we haven't even looked at it yet.\n",
        "To get familiar and understand how we have to prepare our data for our deep learning models, we've got to visualize it.\n",
        "\n",
        "Because our data is in the form of text files, let's write some code to read each of the lines in a target file."
      ],
      "metadata": {
        "id": "__wsACnyXCsz"
      }
    },
    {
      "cell_type": "code",
      "source": [
        "# Create function to read the lines of a document\n",
        "def get_lines(filename):\n",
        "  \"\"\"\n",
        "  Reads filename (a text file) and returns the lines of text as a list.\n",
        "  \n",
        "  Args:\n",
        "      filename: a string containing the target filepath to read.\n",
        "  \n",
        "  Returns:\n",
        "      A list of strings with one string per line from the target filename.\n",
        "      For example:\n",
        "      [\"this is the first line of filename\",\n",
        "       \"this is the second line of filename\",\n",
        "       \"...\"]\n",
        "  \"\"\"\n",
        "  with open(filename, \"r\") as f:\n",
        "    return f.readlines()"
      ],
      "metadata": {
        "id": "EI5FprvyXQQ1"
      },
      "execution_count": 6,
      "outputs": []
    },
    {
      "cell_type": "markdown",
      "source": [
        "We've got a little function, `get_lines()` which takes the filepath of a text file, opens it, reads each of the lines and returns them.\n",
        "\n",
        "Let's try it out on the training data (`train.txt`)."
      ],
      "metadata": {
        "id": "lquCJdPoXTl3"
      }
    },
    {
      "cell_type": "code",
      "source": [
        "train_lines = get_lines(data_dir+\"train.txt\")\n",
        "train_lines[:20] # the whole first example of an abstract + a little more of the next one"
      ],
      "metadata": {
        "colab": {
          "base_uri": "https://localhost:8080/"
        },
        "id": "p5z09KBHXbJf",
        "outputId": "163f038f-ee90-4682-9f58-3d07802ed335"
      },
      "execution_count": 7,
      "outputs": [
        {
          "output_type": "execute_result",
          "data": {
            "text/plain": [
              "['###24293578\\n',\n",
              " 'OBJECTIVE\\tTo investigate the efficacy of @ weeks of daily low-dose oral prednisolone in improving pain , mobility , and systemic low-grade inflammation in the short term and whether the effect would be sustained at @ weeks in older adults with moderate to severe knee osteoarthritis ( OA ) .\\n',\n",
              " 'METHODS\\tA total of @ patients with primary knee OA were randomized @:@ ; @ received @ mg/day of prednisolone and @ received placebo for @ weeks .\\n',\n",
              " 'METHODS\\tOutcome measures included pain reduction and improvement in function scores and systemic inflammation markers .\\n',\n",
              " 'METHODS\\tPain was assessed using the visual analog pain scale ( @-@ mm ) .\\n',\n",
              " 'METHODS\\tSecondary outcome measures included the Western Ontario and McMaster Universities Osteoarthritis Index scores , patient global assessment ( PGA ) of the severity of knee OA , and @-min walk distance ( @MWD ) .\\n',\n",
              " 'METHODS\\tSerum levels of interleukin @ ( IL-@ ) , IL-@ , tumor necrosis factor ( TNF ) - , and high-sensitivity C-reactive protein ( hsCRP ) were measured .\\n',\n",
              " 'RESULTS\\tThere was a clinically relevant reduction in the intervention group compared to the placebo group for knee pain , physical function , PGA , and @MWD at @ weeks .\\n',\n",
              " 'RESULTS\\tThe mean difference between treatment arms ( @ % CI ) was @ ( @-@ @ ) , p < @ ; @ ( @-@ @ ) , p < @ ; @ ( @-@ @ ) , p < @ ; and @ ( @-@ @ ) , p < @ , respectively .\\n',\n",
              " 'RESULTS\\tFurther , there was a clinically relevant reduction in the serum levels of IL-@ , IL-@ , TNF - , and hsCRP at @ weeks in the intervention group when compared to the placebo group .\\n',\n",
              " 'RESULTS\\tThese differences remained significant at @ weeks .\\n',\n",
              " 'RESULTS\\tThe Outcome Measures in Rheumatology Clinical Trials-Osteoarthritis Research Society International responder rate was @ % in the intervention group and @ % in the placebo group ( p < @ ) .\\n',\n",
              " 'CONCLUSIONS\\tLow-dose oral prednisolone had both a short-term and a longer sustained effect resulting in less knee pain , better physical function , and attenuation of systemic inflammation in older patients with knee OA ( ClinicalTrials.gov identifier NCT@ ) .\\n',\n",
              " '\\n',\n",
              " '###24854809\\n',\n",
              " 'BACKGROUND\\tEmotional eating is associated with overeating and the development of obesity .\\n',\n",
              " 'BACKGROUND\\tYet , empirical evidence for individual ( trait ) differences in emotional eating and cognitive mechanisms that contribute to eating during sad mood remain equivocal .\\n',\n",
              " 'OBJECTIVE\\tThe aim of this study was to test if attention bias for food moderates the effect of self-reported emotional eating during sad mood ( vs neutral mood ) on actual food intake .\\n',\n",
              " 'OBJECTIVE\\tIt was expected that emotional eating is predictive of elevated attention for food and higher food intake after an experimentally induced sad mood and that attentional maintenance on food predicts food intake during a sad versus a neutral mood .\\n',\n",
              " 'METHODS\\tParticipants ( N = @ ) were randomly assigned to one of the two experimental mood induction conditions ( sad/neutral ) .\\n']"
            ]
          },
          "metadata": {},
          "execution_count": 7
        }
      ]
    },
    {
      "cell_type": "markdown",
      "source": [
        "Reading the lines from the training text file results in a list of strings containing different abstract samples, the sentences in a sample along with the role the sentence plays in the abstract.\n",
        "\n",
        "Let's write a function to perform the following steps:\n",
        "* Take a target file of abstract samples.\n",
        "* Read the lines in the target file.\n",
        "* For each line in the target file:  \n",
        "  * If the line begins with `###` mark it as an abstract ID and the beginning of a new abstract.\n",
        "    * Keep count of the number of lines in a sample.\n",
        "  * If the line begins with `\\n` mark it as the end of an abstract sample.\n",
        "    * Keep count of the total lines in a sample.\n",
        "  * Record the text before the `\\t` as the label of the line.\n",
        "  * Record the text after the `\\t` as the text of the line.\n",
        "* Return all of the lines in the target text file as a list of dictionaries containing the key/value pairs:\n",
        "  * `\"line_number\"` - the position of the line in the abstract (e.g. `3`).\n",
        "  * `\"target\"` - the role of the line in the abstract (e.g. `OBJECTIVE`).\n",
        "  * `\"text\"` - the text of the line in the abstract.\n",
        "  * `\"total_lines\"` - the total lines in an abstract sample (e.g. `14`).\n",
        "* Abstract ID's and newlines should be omitted from the returned preprocessed data.\n",
        "\n",
        "Example returned preprocessed sample (a single line from an abstract):\n",
        "\n",
        "```\n",
        "[{'line_number': 0,\n",
        "  'target': 'OBJECTIVE',\n",
        "  'text': 'to investigate the efficacy of @ weeks of daily low-dose oral prednisolone in improving pain , mobility , and systemic low-grade inflammation in the short term and whether the effect would be sustained at @ weeks in older adults with moderate to severe knee osteoarthritis ( oa ) .',\n",
        "  'total_lines': 11},\n",
        "  ...]\n",
        "```"
      ],
      "metadata": {
        "id": "KJXQnIzFXguA"
      }
    },
    {
      "cell_type": "code",
      "source": [
        "def preprocess_text_with_line_numbers(filename):\n",
        "  \"\"\"Returns a list of dictionaries of abstract line data.\n",
        "\n",
        "  Takes in filename, reads its contents and sorts through each line,\n",
        "  extracting things like the target label, the text of the sentence,\n",
        "  how many sentences are in the current abstract and what sentence number\n",
        "  the target line is.\n",
        "\n",
        "  Args:\n",
        "      filename: a string of the target text file to read and extract line data\n",
        "      from.\n",
        "\n",
        "  Returns:\n",
        "      A list of dictionaries each containing a line from an abstract,\n",
        "      the lines label, the lines position in the abstract and the total number\n",
        "      of lines in the abstract where the line is from. For example:\n",
        "\n",
        "      [{\"target\": 'CONCLUSION',\n",
        "        \"text\": The study couldn't have gone better, turns out people are kinder than you think\",\n",
        "        \"line_number\": 8,\n",
        "        \"total_lines\": 8}]\n",
        "  \"\"\"\n",
        "  input_lines = get_lines(filename) # get all lines from filename\n",
        "  abstract_lines = \"\" # create an empty abstract\n",
        "  abstract_samples = [] # create an empty list of abstracts\n",
        "  \n",
        "  # Loop through each line in target file\n",
        "  for line in input_lines:\n",
        "    if line.startswith(\"###\"): # check to see if line is an ID line\n",
        "      abstract_id = line\n",
        "      abstract_lines = \"\" # reset abstract string\n",
        "    elif line.isspace(): # check to see if line is a new line\n",
        "      abstract_line_split = abstract_lines.splitlines() # split abstract into separate lines\n",
        "\n",
        "      # Iterate through each line in abstract and count them at the same time\n",
        "      for abstract_line_number, abstract_line in enumerate(abstract_line_split):\n",
        "        line_data = {} # create empty dict to store data from line\n",
        "        target_text_split = abstract_line.split(\"\\t\") # split target label from text\n",
        "        line_data[\"target\"] = target_text_split[0] # get target label\n",
        "        line_data[\"text\"] = target_text_split[1].lower() # get target text and lower it\n",
        "        line_data[\"line_number\"] = abstract_line_number # what number line does the line appear in the abstract?\n",
        "        line_data[\"total_lines\"] = len(abstract_line_split) - 1 # how many total lines are in the abstract? (start from 0)\n",
        "        abstract_samples.append(line_data) # add line data to abstract samples list\n",
        "    \n",
        "    else: # if the above conditions aren't fulfilled, the line contains a labelled sentence\n",
        "      abstract_lines += line\n",
        "  \n",
        "  return abstract_samples"
      ],
      "metadata": {
        "id": "rWihT2eYXjm6"
      },
      "execution_count": 8,
      "outputs": []
    },
    {
      "cell_type": "code",
      "source": [
        "# Get data from file and preprocess it\n",
        "%%time\n",
        "train_samples = preprocess_text_with_line_numbers(data_dir + \"train.txt\")\n",
        "val_samples = preprocess_text_with_line_numbers(data_dir + \"dev.txt\") # dev is another name for validation set\n",
        "test_samples = preprocess_text_with_line_numbers(data_dir + \"test.txt\")\n",
        "len(train_samples), len(val_samples), len(test_samples)"
      ],
      "metadata": {
        "colab": {
          "base_uri": "https://localhost:8080/"
        },
        "id": "ITfjkEHnX20Y",
        "outputId": "75ed367d-0713-41d7-c9cf-09999fad8012"
      },
      "execution_count": 9,
      "outputs": [
        {
          "output_type": "stream",
          "name": "stdout",
          "text": [
            "CPU times: user 764 ms, sys: 115 ms, total: 880 ms\n",
            "Wall time: 2.03 s\n"
          ]
        },
        {
          "output_type": "execute_result",
          "data": {
            "text/plain": [
              "(180040, 30212, 30135)"
            ]
          },
          "metadata": {},
          "execution_count": 9
        }
      ]
    },
    {
      "cell_type": "markdown",
      "source": [
        "How do our training samples look?"
      ],
      "metadata": {
        "id": "i7fGXeacX3o9"
      }
    },
    {
      "cell_type": "code",
      "source": [
        "# Check the first abstract of our training data\n",
        "train_samples[:14]"
      ],
      "metadata": {
        "colab": {
          "base_uri": "https://localhost:8080/"
        },
        "id": "r6I2OjzsX6e9",
        "outputId": "30cb2408-577b-4ca7-f7b1-75361ea45e9c"
      },
      "execution_count": 10,
      "outputs": [
        {
          "output_type": "execute_result",
          "data": {
            "text/plain": [
              "[{'target': 'OBJECTIVE',\n",
              "  'text': 'to investigate the efficacy of @ weeks of daily low-dose oral prednisolone in improving pain , mobility , and systemic low-grade inflammation in the short term and whether the effect would be sustained at @ weeks in older adults with moderate to severe knee osteoarthritis ( oa ) .',\n",
              "  'line_number': 0,\n",
              "  'total_lines': 11},\n",
              " {'target': 'METHODS',\n",
              "  'text': 'a total of @ patients with primary knee oa were randomized @:@ ; @ received @ mg/day of prednisolone and @ received placebo for @ weeks .',\n",
              "  'line_number': 1,\n",
              "  'total_lines': 11},\n",
              " {'target': 'METHODS',\n",
              "  'text': 'outcome measures included pain reduction and improvement in function scores and systemic inflammation markers .',\n",
              "  'line_number': 2,\n",
              "  'total_lines': 11},\n",
              " {'target': 'METHODS',\n",
              "  'text': 'pain was assessed using the visual analog pain scale ( @-@ mm ) .',\n",
              "  'line_number': 3,\n",
              "  'total_lines': 11},\n",
              " {'target': 'METHODS',\n",
              "  'text': 'secondary outcome measures included the western ontario and mcmaster universities osteoarthritis index scores , patient global assessment ( pga ) of the severity of knee oa , and @-min walk distance ( @mwd ) .',\n",
              "  'line_number': 4,\n",
              "  'total_lines': 11},\n",
              " {'target': 'METHODS',\n",
              "  'text': 'serum levels of interleukin @ ( il-@ ) , il-@ , tumor necrosis factor ( tnf ) - , and high-sensitivity c-reactive protein ( hscrp ) were measured .',\n",
              "  'line_number': 5,\n",
              "  'total_lines': 11},\n",
              " {'target': 'RESULTS',\n",
              "  'text': 'there was a clinically relevant reduction in the intervention group compared to the placebo group for knee pain , physical function , pga , and @mwd at @ weeks .',\n",
              "  'line_number': 6,\n",
              "  'total_lines': 11},\n",
              " {'target': 'RESULTS',\n",
              "  'text': 'the mean difference between treatment arms ( @ % ci ) was @ ( @-@ @ ) , p < @ ; @ ( @-@ @ ) , p < @ ; @ ( @-@ @ ) , p < @ ; and @ ( @-@ @ ) , p < @ , respectively .',\n",
              "  'line_number': 7,\n",
              "  'total_lines': 11},\n",
              " {'target': 'RESULTS',\n",
              "  'text': 'further , there was a clinically relevant reduction in the serum levels of il-@ , il-@ , tnf - , and hscrp at @ weeks in the intervention group when compared to the placebo group .',\n",
              "  'line_number': 8,\n",
              "  'total_lines': 11},\n",
              " {'target': 'RESULTS',\n",
              "  'text': 'these differences remained significant at @ weeks .',\n",
              "  'line_number': 9,\n",
              "  'total_lines': 11},\n",
              " {'target': 'RESULTS',\n",
              "  'text': 'the outcome measures in rheumatology clinical trials-osteoarthritis research society international responder rate was @ % in the intervention group and @ % in the placebo group ( p < @ ) .',\n",
              "  'line_number': 10,\n",
              "  'total_lines': 11},\n",
              " {'target': 'CONCLUSIONS',\n",
              "  'text': 'low-dose oral prednisolone had both a short-term and a longer sustained effect resulting in less knee pain , better physical function , and attenuation of systemic inflammation in older patients with knee oa ( clinicaltrials.gov identifier nct@ ) .',\n",
              "  'line_number': 11,\n",
              "  'total_lines': 11},\n",
              " {'target': 'BACKGROUND',\n",
              "  'text': 'emotional eating is associated with overeating and the development of obesity .',\n",
              "  'line_number': 0,\n",
              "  'total_lines': 10},\n",
              " {'target': 'BACKGROUND',\n",
              "  'text': 'yet , empirical evidence for individual ( trait ) differences in emotional eating and cognitive mechanisms that contribute to eating during sad mood remain equivocal .',\n",
              "  'line_number': 1,\n",
              "  'total_lines': 10}]"
            ]
          },
          "metadata": {},
          "execution_count": 10
        }
      ]
    },
    {
      "cell_type": "code",
      "source": [
        "import pandas as pd\n",
        "train_df = pd.DataFrame(train_samples)\n",
        "val_df = pd.DataFrame(val_samples)\n",
        "test_df = pd.DataFrame(test_samples)\n",
        "train_df.head(14)"
      ],
      "metadata": {
        "colab": {
          "base_uri": "https://localhost:8080/",
          "height": 488
        },
        "id": "vuZd9pprX79u",
        "outputId": "de1ba1f3-ac5f-400c-f372-b7b9bd4d7a0f"
      },
      "execution_count": 11,
      "outputs": [
        {
          "output_type": "execute_result",
          "data": {
            "text/plain": [
              "         target                                               text  \\\n",
              "0     OBJECTIVE  to investigate the efficacy of @ weeks of dail...   \n",
              "1       METHODS  a total of @ patients with primary knee oa wer...   \n",
              "2       METHODS  outcome measures included pain reduction and i...   \n",
              "3       METHODS  pain was assessed using the visual analog pain...   \n",
              "4       METHODS  secondary outcome measures included the wester...   \n",
              "5       METHODS  serum levels of interleukin @ ( il-@ ) , il-@ ...   \n",
              "6       RESULTS  there was a clinically relevant reduction in t...   \n",
              "7       RESULTS  the mean difference between treatment arms ( @...   \n",
              "8       RESULTS  further , there was a clinically relevant redu...   \n",
              "9       RESULTS  these differences remained significant at @ we...   \n",
              "10      RESULTS  the outcome measures in rheumatology clinical ...   \n",
              "11  CONCLUSIONS  low-dose oral prednisolone had both a short-te...   \n",
              "12   BACKGROUND  emotional eating is associated with overeating...   \n",
              "13   BACKGROUND  yet , empirical evidence for individual ( trai...   \n",
              "\n",
              "    line_number  total_lines  \n",
              "0             0           11  \n",
              "1             1           11  \n",
              "2             2           11  \n",
              "3             3           11  \n",
              "4             4           11  \n",
              "5             5           11  \n",
              "6             6           11  \n",
              "7             7           11  \n",
              "8             8           11  \n",
              "9             9           11  \n",
              "10           10           11  \n",
              "11           11           11  \n",
              "12            0           10  \n",
              "13            1           10  "
            ],
            "text/html": [
              "\n",
              "  <div id=\"df-7332b8f1-1be1-4e7f-8f47-2396dd30e2e7\">\n",
              "    <div class=\"colab-df-container\">\n",
              "      <div>\n",
              "<style scoped>\n",
              "    .dataframe tbody tr th:only-of-type {\n",
              "        vertical-align: middle;\n",
              "    }\n",
              "\n",
              "    .dataframe tbody tr th {\n",
              "        vertical-align: top;\n",
              "    }\n",
              "\n",
              "    .dataframe thead th {\n",
              "        text-align: right;\n",
              "    }\n",
              "</style>\n",
              "<table border=\"1\" class=\"dataframe\">\n",
              "  <thead>\n",
              "    <tr style=\"text-align: right;\">\n",
              "      <th></th>\n",
              "      <th>target</th>\n",
              "      <th>text</th>\n",
              "      <th>line_number</th>\n",
              "      <th>total_lines</th>\n",
              "    </tr>\n",
              "  </thead>\n",
              "  <tbody>\n",
              "    <tr>\n",
              "      <th>0</th>\n",
              "      <td>OBJECTIVE</td>\n",
              "      <td>to investigate the efficacy of @ weeks of dail...</td>\n",
              "      <td>0</td>\n",
              "      <td>11</td>\n",
              "    </tr>\n",
              "    <tr>\n",
              "      <th>1</th>\n",
              "      <td>METHODS</td>\n",
              "      <td>a total of @ patients with primary knee oa wer...</td>\n",
              "      <td>1</td>\n",
              "      <td>11</td>\n",
              "    </tr>\n",
              "    <tr>\n",
              "      <th>2</th>\n",
              "      <td>METHODS</td>\n",
              "      <td>outcome measures included pain reduction and i...</td>\n",
              "      <td>2</td>\n",
              "      <td>11</td>\n",
              "    </tr>\n",
              "    <tr>\n",
              "      <th>3</th>\n",
              "      <td>METHODS</td>\n",
              "      <td>pain was assessed using the visual analog pain...</td>\n",
              "      <td>3</td>\n",
              "      <td>11</td>\n",
              "    </tr>\n",
              "    <tr>\n",
              "      <th>4</th>\n",
              "      <td>METHODS</td>\n",
              "      <td>secondary outcome measures included the wester...</td>\n",
              "      <td>4</td>\n",
              "      <td>11</td>\n",
              "    </tr>\n",
              "    <tr>\n",
              "      <th>5</th>\n",
              "      <td>METHODS</td>\n",
              "      <td>serum levels of interleukin @ ( il-@ ) , il-@ ...</td>\n",
              "      <td>5</td>\n",
              "      <td>11</td>\n",
              "    </tr>\n",
              "    <tr>\n",
              "      <th>6</th>\n",
              "      <td>RESULTS</td>\n",
              "      <td>there was a clinically relevant reduction in t...</td>\n",
              "      <td>6</td>\n",
              "      <td>11</td>\n",
              "    </tr>\n",
              "    <tr>\n",
              "      <th>7</th>\n",
              "      <td>RESULTS</td>\n",
              "      <td>the mean difference between treatment arms ( @...</td>\n",
              "      <td>7</td>\n",
              "      <td>11</td>\n",
              "    </tr>\n",
              "    <tr>\n",
              "      <th>8</th>\n",
              "      <td>RESULTS</td>\n",
              "      <td>further , there was a clinically relevant redu...</td>\n",
              "      <td>8</td>\n",
              "      <td>11</td>\n",
              "    </tr>\n",
              "    <tr>\n",
              "      <th>9</th>\n",
              "      <td>RESULTS</td>\n",
              "      <td>these differences remained significant at @ we...</td>\n",
              "      <td>9</td>\n",
              "      <td>11</td>\n",
              "    </tr>\n",
              "    <tr>\n",
              "      <th>10</th>\n",
              "      <td>RESULTS</td>\n",
              "      <td>the outcome measures in rheumatology clinical ...</td>\n",
              "      <td>10</td>\n",
              "      <td>11</td>\n",
              "    </tr>\n",
              "    <tr>\n",
              "      <th>11</th>\n",
              "      <td>CONCLUSIONS</td>\n",
              "      <td>low-dose oral prednisolone had both a short-te...</td>\n",
              "      <td>11</td>\n",
              "      <td>11</td>\n",
              "    </tr>\n",
              "    <tr>\n",
              "      <th>12</th>\n",
              "      <td>BACKGROUND</td>\n",
              "      <td>emotional eating is associated with overeating...</td>\n",
              "      <td>0</td>\n",
              "      <td>10</td>\n",
              "    </tr>\n",
              "    <tr>\n",
              "      <th>13</th>\n",
              "      <td>BACKGROUND</td>\n",
              "      <td>yet , empirical evidence for individual ( trai...</td>\n",
              "      <td>1</td>\n",
              "      <td>10</td>\n",
              "    </tr>\n",
              "  </tbody>\n",
              "</table>\n",
              "</div>\n",
              "      <button class=\"colab-df-convert\" onclick=\"convertToInteractive('df-7332b8f1-1be1-4e7f-8f47-2396dd30e2e7')\"\n",
              "              title=\"Convert this dataframe to an interactive table.\"\n",
              "              style=\"display:none;\">\n",
              "        \n",
              "  <svg xmlns=\"http://www.w3.org/2000/svg\" height=\"24px\"viewBox=\"0 0 24 24\"\n",
              "       width=\"24px\">\n",
              "    <path d=\"M0 0h24v24H0V0z\" fill=\"none\"/>\n",
              "    <path d=\"M18.56 5.44l.94 2.06.94-2.06 2.06-.94-2.06-.94-.94-2.06-.94 2.06-2.06.94zm-11 1L8.5 8.5l.94-2.06 2.06-.94-2.06-.94L8.5 2.5l-.94 2.06-2.06.94zm10 10l.94 2.06.94-2.06 2.06-.94-2.06-.94-.94-2.06-.94 2.06-2.06.94z\"/><path d=\"M17.41 7.96l-1.37-1.37c-.4-.4-.92-.59-1.43-.59-.52 0-1.04.2-1.43.59L10.3 9.45l-7.72 7.72c-.78.78-.78 2.05 0 2.83L4 21.41c.39.39.9.59 1.41.59.51 0 1.02-.2 1.41-.59l7.78-7.78 2.81-2.81c.8-.78.8-2.07 0-2.86zM5.41 20L4 18.59l7.72-7.72 1.47 1.35L5.41 20z\"/>\n",
              "  </svg>\n",
              "      </button>\n",
              "      \n",
              "  <style>\n",
              "    .colab-df-container {\n",
              "      display:flex;\n",
              "      flex-wrap:wrap;\n",
              "      gap: 12px;\n",
              "    }\n",
              "\n",
              "    .colab-df-convert {\n",
              "      background-color: #E8F0FE;\n",
              "      border: none;\n",
              "      border-radius: 50%;\n",
              "      cursor: pointer;\n",
              "      display: none;\n",
              "      fill: #1967D2;\n",
              "      height: 32px;\n",
              "      padding: 0 0 0 0;\n",
              "      width: 32px;\n",
              "    }\n",
              "\n",
              "    .colab-df-convert:hover {\n",
              "      background-color: #E2EBFA;\n",
              "      box-shadow: 0px 1px 2px rgba(60, 64, 67, 0.3), 0px 1px 3px 1px rgba(60, 64, 67, 0.15);\n",
              "      fill: #174EA6;\n",
              "    }\n",
              "\n",
              "    [theme=dark] .colab-df-convert {\n",
              "      background-color: #3B4455;\n",
              "      fill: #D2E3FC;\n",
              "    }\n",
              "\n",
              "    [theme=dark] .colab-df-convert:hover {\n",
              "      background-color: #434B5C;\n",
              "      box-shadow: 0px 1px 3px 1px rgba(0, 0, 0, 0.15);\n",
              "      filter: drop-shadow(0px 1px 2px rgba(0, 0, 0, 0.3));\n",
              "      fill: #FFFFFF;\n",
              "    }\n",
              "  </style>\n",
              "\n",
              "      <script>\n",
              "        const buttonEl =\n",
              "          document.querySelector('#df-7332b8f1-1be1-4e7f-8f47-2396dd30e2e7 button.colab-df-convert');\n",
              "        buttonEl.style.display =\n",
              "          google.colab.kernel.accessAllowed ? 'block' : 'none';\n",
              "\n",
              "        async function convertToInteractive(key) {\n",
              "          const element = document.querySelector('#df-7332b8f1-1be1-4e7f-8f47-2396dd30e2e7');\n",
              "          const dataTable =\n",
              "            await google.colab.kernel.invokeFunction('convertToInteractive',\n",
              "                                                     [key], {});\n",
              "          if (!dataTable) return;\n",
              "\n",
              "          const docLinkHtml = 'Like what you see? Visit the ' +\n",
              "            '<a target=\"_blank\" href=https://colab.research.google.com/notebooks/data_table.ipynb>data table notebook</a>'\n",
              "            + ' to learn more about interactive tables.';\n",
              "          element.innerHTML = '';\n",
              "          dataTable['output_type'] = 'display_data';\n",
              "          await google.colab.output.renderOutput(dataTable, element);\n",
              "          const docLink = document.createElement('div');\n",
              "          docLink.innerHTML = docLinkHtml;\n",
              "          element.appendChild(docLink);\n",
              "        }\n",
              "      </script>\n",
              "    </div>\n",
              "  </div>\n",
              "  "
            ]
          },
          "metadata": {},
          "execution_count": 11
        }
      ]
    },
    {
      "cell_type": "markdown",
      "source": [
        "Now our data is in DataFrame form, we can perform some data analysis on it. "
      ],
      "metadata": {
        "id": "d19n4N5KX_Ah"
      }
    },
    {
      "cell_type": "code",
      "source": [
        "# Distribution of labels in training data\n",
        "train_df.target.value_counts()"
      ],
      "metadata": {
        "colab": {
          "base_uri": "https://localhost:8080/"
        },
        "id": "o4dC2txFYCpV",
        "outputId": "7bcd37e9-a3ec-4d81-cece-eddf71f88830"
      },
      "execution_count": 12,
      "outputs": [
        {
          "output_type": "execute_result",
          "data": {
            "text/plain": [
              "METHODS        59353\n",
              "RESULTS        57953\n",
              "CONCLUSIONS    27168\n",
              "BACKGROUND     21727\n",
              "OBJECTIVE      13839\n",
              "Name: target, dtype: int64"
            ]
          },
          "metadata": {},
          "execution_count": 12
        }
      ]
    },
    {
      "cell_type": "markdown",
      "source": [
        "Looks like sentences with the `OBJECTIVE` label are the least common.\n",
        "\n",
        "How about we check the distribution of our abstract lengths?"
      ],
      "metadata": {
        "id": "YNwLymyqYD4o"
      }
    },
    {
      "cell_type": "markdown",
      "source": [
        "Okay, looks like most of the abstracts are around 7 to 15 sentences in length.\n",
        "\n",
        "It's good to check these things out to make sure when we do train a model or test it on unseen samples, our results aren't outlandish."
      ],
      "metadata": {
        "id": "im0g3pzvYHBc"
      }
    },
    {
      "cell_type": "code",
      "source": [
        "train_df.total_lines.plot.hist();"
      ],
      "metadata": {
        "colab": {
          "base_uri": "https://localhost:8080/",
          "height": 267
        },
        "id": "I9utMbU4YJ56",
        "outputId": "c0cb52a0-9868-46f9-cdec-34811039e86a"
      },
      "execution_count": 13,
      "outputs": [
        {
          "output_type": "display_data",
          "data": {
            "text/plain": [
              "<Figure size 432x288 with 1 Axes>"
            ],
            "image/png": "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\n"
          },
          "metadata": {
            "needs_background": "light"
          }
        }
      ]
    },
    {
      "cell_type": "markdown",
      "source": [
        "### Get lists of sentences\n",
        "\n",
        "When we build our deep learning model, one of its main inputs will be a list of strings (the lines of an abstract).\n",
        "\n",
        "We can get these easily from our DataFrames by calling the `tolist()` method on our `\"text\"` columns."
      ],
      "metadata": {
        "id": "esmFY5PtYOb9"
      }
    },
    {
      "cell_type": "code",
      "source": [
        "# Convert abstract text lines into lists \n",
        "train_sentences = train_df[\"text\"].tolist()\n",
        "val_sentences = val_df[\"text\"].tolist()\n",
        "test_sentences = test_df[\"text\"].tolist()\n",
        "len(train_sentences), len(val_sentences), len(test_sentences)"
      ],
      "metadata": {
        "colab": {
          "base_uri": "https://localhost:8080/"
        },
        "id": "djP9PCz8YUzD",
        "outputId": "7b075989-165c-4d26-c8a8-817cbe7066a2"
      },
      "execution_count": 14,
      "outputs": [
        {
          "output_type": "execute_result",
          "data": {
            "text/plain": [
              "(180040, 30212, 30135)"
            ]
          },
          "metadata": {},
          "execution_count": 14
        }
      ]
    },
    {
      "cell_type": "code",
      "source": [
        "# View first 10 lines of training sentences\n",
        "train_sentences[:10]"
      ],
      "metadata": {
        "colab": {
          "base_uri": "https://localhost:8080/"
        },
        "id": "sGaEIu0YYW5O",
        "outputId": "3c1b99c2-6d83-43f6-b2ac-9893b523a929"
      },
      "execution_count": 15,
      "outputs": [
        {
          "output_type": "execute_result",
          "data": {
            "text/plain": [
              "['to investigate the efficacy of @ weeks of daily low-dose oral prednisolone in improving pain , mobility , and systemic low-grade inflammation in the short term and whether the effect would be sustained at @ weeks in older adults with moderate to severe knee osteoarthritis ( oa ) .',\n",
              " 'a total of @ patients with primary knee oa were randomized @:@ ; @ received @ mg/day of prednisolone and @ received placebo for @ weeks .',\n",
              " 'outcome measures included pain reduction and improvement in function scores and systemic inflammation markers .',\n",
              " 'pain was assessed using the visual analog pain scale ( @-@ mm ) .',\n",
              " 'secondary outcome measures included the western ontario and mcmaster universities osteoarthritis index scores , patient global assessment ( pga ) of the severity of knee oa , and @-min walk distance ( @mwd ) .',\n",
              " 'serum levels of interleukin @ ( il-@ ) , il-@ , tumor necrosis factor ( tnf ) - , and high-sensitivity c-reactive protein ( hscrp ) were measured .',\n",
              " 'there was a clinically relevant reduction in the intervention group compared to the placebo group for knee pain , physical function , pga , and @mwd at @ weeks .',\n",
              " 'the mean difference between treatment arms ( @ % ci ) was @ ( @-@ @ ) , p < @ ; @ ( @-@ @ ) , p < @ ; @ ( @-@ @ ) , p < @ ; and @ ( @-@ @ ) , p < @ , respectively .',\n",
              " 'further , there was a clinically relevant reduction in the serum levels of il-@ , il-@ , tnf - , and hscrp at @ weeks in the intervention group when compared to the placebo group .',\n",
              " 'these differences remained significant at @ weeks .']"
            ]
          },
          "metadata": {},
          "execution_count": 15
        }
      ]
    },
    {
      "cell_type": "markdown",
      "source": [
        "## Make numeric labels (ML models require numeric labels)\n",
        "\n",
        "We're going to create one hot and label encoded labels.\n",
        "\n",
        "We could get away with just making label encoded labels, however, TensorFlow's CategoricalCrossentropy loss function likes to have one hot encoded labels (this will enable us to use label smoothing later on).\n",
        "\n",
        "To numerically encode labels we'll use Scikit-Learn's [`OneHotEncoder`](https://scikit-learn.org/stable/modules/generated/sklearn.preprocessing.OneHotEncoder.html) and [`LabelEncoder`](http://scikit-learn.org/stable/modules/generated/sklearn.preprocessing.LabelEncoder.html) classes."
      ],
      "metadata": {
        "id": "E5iPwwDqYZPu"
      }
    },
    {
      "cell_type": "code",
      "source": [
        "# One hot encode labels\n",
        "from sklearn.preprocessing import OneHotEncoder\n",
        "one_hot_encoder = OneHotEncoder(sparse=False)\n",
        "train_labels_one_hot = one_hot_encoder.fit_transform(train_df[\"target\"].to_numpy().reshape(-1, 1))\n",
        "val_labels_one_hot = one_hot_encoder.transform(val_df[\"target\"].to_numpy().reshape(-1, 1))\n",
        "test_labels_one_hot = one_hot_encoder.transform(test_df[\"target\"].to_numpy().reshape(-1, 1))\n",
        "\n",
        "# Check what training labels look like\n",
        "train_labels_one_hot"
      ],
      "metadata": {
        "colab": {
          "base_uri": "https://localhost:8080/"
        },
        "id": "W3i9sG5KYdxW",
        "outputId": "eed4f082-0fd4-43da-9d8c-84165c7feb11"
      },
      "execution_count": 16,
      "outputs": [
        {
          "output_type": "execute_result",
          "data": {
            "text/plain": [
              "array([[0., 0., 0., 1., 0.],\n",
              "       [0., 0., 1., 0., 0.],\n",
              "       [0., 0., 1., 0., 0.],\n",
              "       ...,\n",
              "       [0., 0., 0., 0., 1.],\n",
              "       [0., 1., 0., 0., 0.],\n",
              "       [0., 1., 0., 0., 0.]])"
            ]
          },
          "metadata": {},
          "execution_count": 16
        }
      ]
    },
    {
      "cell_type": "markdown",
      "source": [
        "### Label encode labels"
      ],
      "metadata": {
        "id": "fZL0FOS_Ygcl"
      }
    },
    {
      "cell_type": "code",
      "source": [
        "# Extract labels (\"target\" columns) and encode them into integers \n",
        "from sklearn.preprocessing import LabelEncoder\n",
        "label_encoder = LabelEncoder()\n",
        "train_labels_encoded = label_encoder.fit_transform(train_df[\"target\"].to_numpy())\n",
        "val_labels_encoded = label_encoder.transform(val_df[\"target\"].to_numpy())\n",
        "test_labels_encoded = label_encoder.transform(test_df[\"target\"].to_numpy())\n",
        "\n",
        "# Check what training labels look like\n",
        "train_labels_encoded"
      ],
      "metadata": {
        "colab": {
          "base_uri": "https://localhost:8080/"
        },
        "id": "g6r8iFBlYjgl",
        "outputId": "620cf362-c541-4e2f-dc9d-6a27bcf8658b"
      },
      "execution_count": 17,
      "outputs": [
        {
          "output_type": "execute_result",
          "data": {
            "text/plain": [
              "array([3, 2, 2, ..., 4, 1, 1])"
            ]
          },
          "metadata": {},
          "execution_count": 17
        }
      ]
    },
    {
      "cell_type": "markdown",
      "source": [
        "Now we've trained an instance of `LabelEncoder`, we can get the class names and number of classes using the `classes_` attribute."
      ],
      "metadata": {
        "id": "fuXtij5bYk3p"
      }
    },
    {
      "cell_type": "code",
      "source": [
        "# Get class names and number of classes from LabelEncoder instance \n",
        "num_classes = len(label_encoder.classes_)\n",
        "class_names = label_encoder.classes_\n",
        "num_classes, class_names"
      ],
      "metadata": {
        "colab": {
          "base_uri": "https://localhost:8080/"
        },
        "id": "gU8h-_XHYnS7",
        "outputId": "68a5e5d3-cd08-4572-8c64-d645d4c47b7f"
      },
      "execution_count": 18,
      "outputs": [
        {
          "output_type": "execute_result",
          "data": {
            "text/plain": [
              "(5, array(['BACKGROUND', 'CONCLUSIONS', 'METHODS', 'OBJECTIVE', 'RESULTS'],\n",
              "       dtype=object))"
            ]
          },
          "metadata": {},
          "execution_count": 18
        }
      ]
    },
    {
      "cell_type": "markdown",
      "source": [
        "## Creating a series of model experiments\n",
        "\n",
        "We've proprocessed our data so now it's time to setup a series of modelling experiments.\n",
        "\n",
        "We'll start by creating a simple baseline model to obtain a score we'll try to beat by building more and more complex models as we move towards replicating the sequence model outlined in [*Neural networks for joint sentence\n",
        "classification in medical paper abstracts*](https://arxiv.org/pdf/1612.05251.pdf).\n",
        "\n",
        "For each model, we'll train it on the training data and evaluate it on the validation data."
      ],
      "metadata": {
        "id": "AHCefROHYpfY"
      }
    },
    {
      "cell_type": "markdown",
      "source": [
        "## Model 0: Getting a baseline \n",
        "\n",
        "Our first model we'll be a TF-IDF Multinomial Naive Bayes as recommended by [Scikit-Learn's machine learning map](https://scikit-learn.org/stable/tutorial/machine_learning_map/index.html).\n",
        "\n",
        "To build it, we'll create a Scikit-Learn `Pipeline` which uses the [`TfidfVectorizer`](https://scikit-learn.org/stable/modules/generated/sklearn.feature_extraction.text.TfidfVectorizer.html) class to convert our abstract sentences to numbers using the TF-IDF (term frequency-inverse document frequecy) algorithm and then learns to classify our sentences using the [`MultinomialNB`](https://scikit-learn.org/stable/modules/generated/sklearn.naive_bayes.MultinomialNB.html) aglorithm"
      ],
      "metadata": {
        "id": "aSasD8dUY29X"
      }
    },
    {
      "cell_type": "code",
      "source": [
        "from sklearn.feature_extraction.text import TfidfVectorizer\n",
        "from sklearn.naive_bayes import MultinomialNB\n",
        "from sklearn.pipeline import Pipeline\n",
        "\n",
        "# Create a pipeline\n",
        "model_0 = Pipeline([\n",
        "  (\"tf-idf\", TfidfVectorizer()),\n",
        "  (\"clf\", MultinomialNB())\n",
        "])\n",
        "\n",
        "# Fit the pipeline to the training data\n",
        "model_0.fit(X=train_sentences, \n",
        "            y=train_labels_encoded);"
      ],
      "metadata": {
        "id": "7OLisJ3tY6ZT"
      },
      "execution_count": 19,
      "outputs": []
    },
    {
      "cell_type": "markdown",
      "source": [
        "Due to the speed of the Multinomial Naive Bayes algorithm, it trains very quickly.\n",
        "\n",
        "We can evaluate our model's accuracy on the validation dataset using the `score()` method."
      ],
      "metadata": {
        "id": "M86V3NCBZAew"
      }
    },
    {
      "cell_type": "code",
      "source": [
        "# Evaluate baseline on validation dataset\n",
        "model_0.score(X=val_sentences,\n",
        "              y=val_labels_encoded)"
      ],
      "metadata": {
        "colab": {
          "base_uri": "https://localhost:8080/"
        },
        "id": "e1soOGCvZD2k",
        "outputId": "dca31f50-7ae7-4346-cff1-2219424c4888"
      },
      "execution_count": 20,
      "outputs": [
        {
          "output_type": "execute_result",
          "data": {
            "text/plain": [
              "0.7218323844829869"
            ]
          },
          "metadata": {},
          "execution_count": 20
        }
      ]
    },
    {
      "cell_type": "markdown",
      "source": [
        "Looks like 72.1% accuracy will be the number to beat with our deeper models.\n",
        "\n",
        "Now let's make some predictions with our baseline model to further evaluate it."
      ],
      "metadata": {
        "id": "fj0IXlgzZFYn"
      }
    },
    {
      "cell_type": "code",
      "source": [
        "# Make predictions\n",
        "baseline_preds = model_0.predict(val_sentences)\n",
        "baseline_preds"
      ],
      "metadata": {
        "colab": {
          "base_uri": "https://localhost:8080/"
        },
        "id": "Kjb_fEe1ZKZT",
        "outputId": "628643d6-7550-4123-c06b-655a3c00ab08"
      },
      "execution_count": 21,
      "outputs": [
        {
          "output_type": "execute_result",
          "data": {
            "text/plain": [
              "array([4, 1, 3, ..., 4, 4, 1])"
            ]
          },
          "metadata": {},
          "execution_count": 21
        }
      ]
    },
    {
      "cell_type": "markdown",
      "source": [
        "To evaluate our baseline's predictions, we'll import the `calculate_results()` function we created in the [previous notebook](https://github.com/mrdbourke/tensorflow-deep-learning/blob/main/08_introduction_to_nlp_in_tensorflow.ipynb) and added it to our [`helper_functions.py` script](https://github.com/mrdbourke/tensorflow-deep-learning/blob/main/extras/helper_functions.py) to compare them to the ground truth labels.\n",
        "\n",
        "More specificially the `calculate_results()` function will help us obtain the following:\n",
        "* Accuracy\n",
        "* Precision\n",
        "* Recall\n",
        "* F1-score"
      ],
      "metadata": {
        "id": "Q4vUCS0DZPGa"
      }
    },
    {
      "cell_type": "markdown",
      "source": [
        "### Download helper functions script\n",
        "\n",
        "Borrowed from https://raw.githubusercontent.com/mrdbourke/tensorflow-deep-learning/main/extras/helper_functions.py"
      ],
      "metadata": {
        "id": "qMp6DbSLZTd0"
      }
    },
    {
      "cell_type": "code",
      "source": [
        "# Download helper functions script\n",
        "!wget https://raw.githubusercontent.com/mrdbourke/tensorflow-deep-learning/main/extras/helper_functions.py"
      ],
      "metadata": {
        "colab": {
          "base_uri": "https://localhost:8080/"
        },
        "id": "WgpZCFYjZXcT",
        "outputId": "1db360d6-f36b-4474-b176-a7cac6cc4f7a"
      },
      "execution_count": 22,
      "outputs": [
        {
          "output_type": "stream",
          "name": "stdout",
          "text": [
            "--2022-11-12 07:20:53--  https://raw.githubusercontent.com/mrdbourke/tensorflow-deep-learning/main/extras/helper_functions.py\n",
            "Resolving raw.githubusercontent.com (raw.githubusercontent.com)... 185.199.111.133, 185.199.110.133, 185.199.108.133, ...\n",
            "Connecting to raw.githubusercontent.com (raw.githubusercontent.com)|185.199.111.133|:443... connected.\n",
            "HTTP request sent, awaiting response... 200 OK\n",
            "Length: 10246 (10K) [text/plain]\n",
            "Saving to: ‘helper_functions.py’\n",
            "\n",
            "helper_functions.py 100%[===================>]  10.01K  --.-KB/s    in 0s      \n",
            "\n",
            "2022-11-12 07:20:53 (83.0 MB/s) - ‘helper_functions.py’ saved [10246/10246]\n",
            "\n"
          ]
        }
      ]
    },
    {
      "cell_type": "code",
      "source": [
        "# Import calculate_results helper function\n",
        "from helper_functions import calculate_results"
      ],
      "metadata": {
        "id": "YXcC8Ok7Zpyg"
      },
      "execution_count": 23,
      "outputs": []
    },
    {
      "cell_type": "code",
      "source": [
        "# Calculate baseline results\n",
        "baseline_results = calculate_results(y_true=val_labels_encoded,\n",
        "                                     y_pred=baseline_preds)\n",
        "baseline_results"
      ],
      "metadata": {
        "colab": {
          "base_uri": "https://localhost:8080/"
        },
        "id": "747x_oDpZs7S",
        "outputId": "f0fde39e-a51a-4594-82ea-3874cc495c25"
      },
      "execution_count": 24,
      "outputs": [
        {
          "output_type": "execute_result",
          "data": {
            "text/plain": [
              "{'accuracy': 72.1832384482987,\n",
              " 'precision': 0.7186466952323352,\n",
              " 'recall': 0.7218323844829869,\n",
              " 'f1': 0.6989250353450294}"
            ]
          },
          "metadata": {},
          "execution_count": 24
        }
      ]
    },
    {
      "cell_type": "markdown",
      "source": [
        "## Preparing our data for deep sequence models\n",
        "\n",
        "Excellent! We've got a working baseline to try and improve upon.\n",
        "\n",
        "But before we start building deeper models, we've got to create vectorization and embedding layers.\n",
        "\n",
        "The vectorization layer will convert our text to numbers and the embedding layer will capture the relationships between those numbers.\n",
        "\n",
        "To start creating our vectorization and embedding layers, we'll need to import the appropriate libraries (namely TensorFlow and NumPy)."
      ],
      "metadata": {
        "id": "7vF-sEAIZvBS"
      }
    },
    {
      "cell_type": "code",
      "source": [
        "import numpy as np\n",
        "import tensorflow as tf\n",
        "from tensorflow.keras import layers"
      ],
      "metadata": {
        "id": "3ba1EHYyZyhA"
      },
      "execution_count": 25,
      "outputs": []
    },
    {
      "cell_type": "markdown",
      "source": [
        "Since we'll be turning our sentences into numbers, it's a good idea to figure out how many words are in each sentence.\n",
        "\n",
        "When our model goes through our sentences, it works best when they're all the same length (this is important for creating batches of the same size tensors).\n",
        "\n",
        "For example, if one sentence is eight words long and another is 29 words long, we want to pad the eight word sentence with zeros so it ends up being the same length as the 29 word sentence.\n",
        "\n",
        "Let's write some code to find the average length of sentences in the training set."
      ],
      "metadata": {
        "id": "7vEXZXfKaEG1"
      }
    },
    {
      "cell_type": "code",
      "source": [
        "# How long is each sentence on average?\n",
        "sent_lens = [len(sentence.split()) for sentence in train_sentences]\n",
        "avg_sent_len = np.mean(sent_lens)\n",
        "avg_sent_len # return average sentence length (in tokens)"
      ],
      "metadata": {
        "colab": {
          "base_uri": "https://localhost:8080/"
        },
        "id": "Rd4g8SqmaHrY",
        "outputId": "c074641b-1ba1-4736-f0f9-cc5a33f86662"
      },
      "execution_count": 26,
      "outputs": [
        {
          "output_type": "execute_result",
          "data": {
            "text/plain": [
              "26.338269273494777"
            ]
          },
          "metadata": {},
          "execution_count": 26
        }
      ]
    },
    {
      "cell_type": "code",
      "source": [
        "# What's the distribution look like?\n",
        "import matplotlib.pyplot as plt\n",
        "plt.hist(sent_lens, bins=7);"
      ],
      "metadata": {
        "colab": {
          "base_uri": "https://localhost:8080/",
          "height": 265
        },
        "id": "cr1KEgqxaL4-",
        "outputId": "8fa449ce-6d4d-43fd-fe9b-f1fe667c0176"
      },
      "execution_count": 27,
      "outputs": [
        {
          "output_type": "display_data",
          "data": {
            "text/plain": [
              "<Figure size 432x288 with 1 Axes>"
            ],
            "image/png": "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\n"
          },
          "metadata": {
            "needs_background": "light"
          }
        }
      ]
    },
    {
      "cell_type": "markdown",
      "source": [
        "Looks like the vast majority of sentences are between 0 and 50 tokens in length.\n",
        "\n",
        "We can use NumPy's [`percentile`](https://numpy.org/doc/stable/reference/generated/numpy.percentile.html) to find the value which covers 95% of the sentence lengths"
      ],
      "metadata": {
        "id": "ssk7syHpaN6K"
      }
    },
    {
      "cell_type": "code",
      "source": [
        "# How long of a sentence covers 95% of the lengths?\n",
        "output_seq_len = int(np.percentile(sent_lens, 95))\n",
        "output_seq_len"
      ],
      "metadata": {
        "colab": {
          "base_uri": "https://localhost:8080/"
        },
        "id": "T_23aU4eaQX2",
        "outputId": "33135e4e-9e97-4a85-b0ea-e564eacb1b43"
      },
      "execution_count": 28,
      "outputs": [
        {
          "output_type": "execute_result",
          "data": {
            "text/plain": [
              "55"
            ]
          },
          "metadata": {},
          "execution_count": 28
        }
      ]
    },
    {
      "cell_type": "markdown",
      "source": [
        "It looks like 95% of the sentences in our training set have a length of 55 tokens or less.\n",
        "\n",
        "When we create our tokenization layer, we'll use this value to turn all of our sentences into the same length. Meaning sentences with a length below 55 get padded with zeros and sentences with a length above 55 get truncated (words after 55 get cut off).\n"
      ],
      "metadata": {
        "id": "kST6Z4siaUWJ"
      }
    },
    {
      "cell_type": "code",
      "source": [
        "# Maximum sentence length in the training set\n",
        "max(sent_lens)"
      ],
      "metadata": {
        "colab": {
          "base_uri": "https://localhost:8080/"
        },
        "id": "PQwFvLx1aajz",
        "outputId": "c17c3866-cd3d-415c-8478-097834952cab"
      },
      "execution_count": 29,
      "outputs": [
        {
          "output_type": "execute_result",
          "data": {
            "text/plain": [
              "296"
            ]
          },
          "metadata": {},
          "execution_count": 29
        }
      ]
    },
    {
      "cell_type": "markdown",
      "source": [
        "However, since hardly any sentences even come close to the max length, it would mean the majority of the data we pass to our model would be zeros (sinces all sentences below the max length would get padded with zeros)."
      ],
      "metadata": {
        "id": "9W-dhNV1aeE-"
      }
    },
    {
      "cell_type": "markdown",
      "source": [
        "### Create text vectorizer\n",
        "\n",
        "Now we've got a little more information about our texts, let's create a way to turn it into numbers.\n",
        "\n",
        "To do so, we'll use the [`TextVectorization`](https://www.tensorflow.org/api_docs/python/tf/keras/layers/experimental/preprocessing/TextVectorization) layer from TensorFlow.\n",
        "\n",
        "We'll keep all the parameters default except for `max_tokens` (the number of unique words in our dataset) and `output_sequence_length` (our desired output length for each vectorized sentence).\n",
        "\n",
        "Section 3.2 of the [PubMed 200k RCT paper](https://arxiv.org/pdf/1710.06071.pdf) states the vocabulary size of the PubMed 20k dataset as 68,000. So we'll use that as our `max_tokens` parameter."
      ],
      "metadata": {
        "id": "mUJdmm0xaijj"
      }
    },
    {
      "cell_type": "code",
      "source": [
        "# How many words are in our vocabulary? (taken from 3.2 in https://arxiv.org/pdf/1710.06071.pdf)\n",
        "max_tokens = 68000"
      ],
      "metadata": {
        "id": "vW3uDk_xamXa"
      },
      "execution_count": 30,
      "outputs": []
    },
    {
      "cell_type": "markdown",
      "source": [
        "And since discovered a sentence length of 55 covers 95% of the training sentences, we'll use that as our `output_sequence_length` parameter."
      ],
      "metadata": {
        "id": "UZ3JCI8vaoQ0"
      }
    },
    {
      "cell_type": "code",
      "source": [
        "# Create text vectorizer\n",
        "from tensorflow.keras.layers.experimental.preprocessing import TextVectorization\n",
        "\n",
        "text_vectorizer = TextVectorization(max_tokens=max_tokens, # number of words in vocabulary\n",
        "                                    output_sequence_length=55) # desired output length of vectorized sequences"
      ],
      "metadata": {
        "id": "vLaxJxYYaqjY"
      },
      "execution_count": 31,
      "outputs": []
    },
    {
      "cell_type": "markdown",
      "source": [
        "Looks like our `text_vectorizer` is ready, let's adapt it to the training data (let it read the training data and figure out what number should represent what word) and then test it out."
      ],
      "metadata": {
        "id": "q1SJYjDuaspb"
      }
    },
    {
      "cell_type": "code",
      "source": [
        "# Adapt text vectorizer to training sentences\n",
        "text_vectorizer.adapt(train_sentences)"
      ],
      "metadata": {
        "id": "PZZoER-yawMU"
      },
      "execution_count": 32,
      "outputs": []
    },
    {
      "cell_type": "code",
      "source": [
        "# Test out text vectorizer\n",
        "import random\n",
        "target_sentence = random.choice(train_sentences)\n",
        "print(f\"Text:\\n{target_sentence}\")\n",
        "print(f\"\\nLength of text: {len(target_sentence.split())}\")\n",
        "print(f\"\\nVectorized text:\\n{text_vectorizer([target_sentence])}\")"
      ],
      "metadata": {
        "colab": {
          "base_uri": "https://localhost:8080/"
        },
        "id": "55IQBKMTa04E",
        "outputId": "71598b92-f152-460d-9f1c-f0757104514d"
      },
      "execution_count": 33,
      "outputs": [
        {
          "output_type": "stream",
          "name": "stdout",
          "text": [
            "Text:\n",
            "however , verum itbs as an `` add-on '' to psychoeducation did not augment prefrontal activity .\n",
            "\n",
            "Length of text: 17\n",
            "\n",
            "Vectorized text:\n",
            "[[  140  7760 15848    25    26  2040     6  3719   112    31  6986  4187\n",
            "    190     0     0     0     0     0     0     0     0     0     0     0\n",
            "      0     0     0     0     0     0     0     0     0     0     0     0\n",
            "      0     0     0     0     0     0     0     0     0     0     0     0\n",
            "      0     0     0     0     0     0     0]]\n"
          ]
        }
      ]
    },
    {
      "cell_type": "markdown",
      "source": [
        "We've now got a way to turn our sequences into numbers.\n",
        "Using the [`get_vocabulary()`](https://www.tensorflow.org/api_docs/python/tf/keras/layers/experimental/preprocessing/TextVectorization) method of our `text_vectorizer` we can find out a few different tidbits about our text."
      ],
      "metadata": {
        "id": "zhYuGHXEa3CR"
      }
    },
    {
      "cell_type": "code",
      "source": [
        "# How many words in our training vocabulary?\n",
        "rct_20k_text_vocab = text_vectorizer.get_vocabulary()\n",
        "print(f\"Number of words in vocabulary: {len(rct_20k_text_vocab)}\"), \n",
        "print(f\"Most common words in the vocabulary: {rct_20k_text_vocab[:5]}\")\n",
        "print(f\"Least common words in the vocabulary: {rct_20k_text_vocab[-5:]}\")"
      ],
      "metadata": {
        "colab": {
          "base_uri": "https://localhost:8080/"
        },
        "id": "pqQWI-j7bAzm",
        "outputId": "1938a638-3884-4284-850c-3cb280b19bd4"
      },
      "execution_count": 34,
      "outputs": [
        {
          "output_type": "stream",
          "name": "stdout",
          "text": [
            "Number of words in vocabulary: 64841\n",
            "Most common words in the vocabulary: ['', '[UNK]', 'the', 'and', 'of']\n",
            "Least common words in the vocabulary: ['aainduced', 'aaigroup', 'aachener', 'aachen', 'aaacp']\n"
          ]
        }
      ]
    },
    {
      "cell_type": "markdown",
      "source": [
        "And if we wanted to figure out the configuration of our `text_vectorizer` we can use the `get_config()` method"
      ],
      "metadata": {
        "id": "CwPaflNkbEn1"
      }
    },
    {
      "cell_type": "code",
      "source": [
        "# Get the config of our text vectorizer\n",
        "text_vectorizer.get_config()"
      ],
      "metadata": {
        "colab": {
          "base_uri": "https://localhost:8080/"
        },
        "id": "mqgcA7e_bHSm",
        "outputId": "7ebe1a45-5c0b-4205-d1ee-1c888f317d3b"
      },
      "execution_count": 35,
      "outputs": [
        {
          "output_type": "execute_result",
          "data": {
            "text/plain": [
              "{'name': 'text_vectorization',\n",
              " 'trainable': True,\n",
              " 'batch_input_shape': (None,),\n",
              " 'dtype': 'string',\n",
              " 'max_tokens': 68000,\n",
              " 'standardize': 'lower_and_strip_punctuation',\n",
              " 'split': 'whitespace',\n",
              " 'ngrams': None,\n",
              " 'output_mode': 'int',\n",
              " 'output_sequence_length': 55,\n",
              " 'pad_to_max_tokens': False,\n",
              " 'sparse': False,\n",
              " 'ragged': False,\n",
              " 'vocabulary': None,\n",
              " 'idf_weights': None}"
            ]
          },
          "metadata": {},
          "execution_count": 35
        }
      ]
    },
    {
      "cell_type": "markdown",
      "source": [
        "### Create custom text embedding\n",
        "\n",
        "Our `token_vectorization` layer maps the words in our text directly to numbers. However, this doesn't necessarily capture the relationships between those numbers.\n",
        "\n",
        "To create a richer numerical representation of our text, we can use an **embedding**."
      ],
      "metadata": {
        "id": "Y3GEGEOEbPI_"
      }
    },
    {
      "cell_type": "code",
      "source": [
        "# Create token embedding layer\n",
        "token_embed = layers.Embedding(input_dim=len(rct_20k_text_vocab), # length of vocabulary\n",
        "                               output_dim=128, # Note: different embedding sizes result in drastically different numbers of parameters to train\n",
        "                               # Use masking to handle variable sequence lengths (save space)\n",
        "                               mask_zero=True,\n",
        "                               name=\"token_embedding\") \n",
        "\n",
        "# Show example embedding\n",
        "print(f\"Sentence before vectorization:\\n{target_sentence}\\n\")\n",
        "vectorized_sentence = text_vectorizer([target_sentence])\n",
        "print(f\"Sentence after vectorization (before embedding):\\n{vectorized_sentence}\\n\")\n",
        "embedded_sentence = token_embed(vectorized_sentence)\n",
        "print(f\"Sentence after embedding:\\n{embedded_sentence}\\n\")\n",
        "print(f\"Embedded sentence shape: {embedded_sentence.shape}\")"
      ],
      "metadata": {
        "colab": {
          "base_uri": "https://localhost:8080/"
        },
        "id": "Qv1slda5bcL7",
        "outputId": "9eb3fa49-7651-470a-e3b0-44ee66573d57"
      },
      "execution_count": 36,
      "outputs": [
        {
          "output_type": "stream",
          "name": "stdout",
          "text": [
            "Sentence before vectorization:\n",
            "however , verum itbs as an `` add-on '' to psychoeducation did not augment prefrontal activity .\n",
            "\n",
            "Sentence after vectorization (before embedding):\n",
            "[[  140  7760 15848    25    26  2040     6  3719   112    31  6986  4187\n",
            "    190     0     0     0     0     0     0     0     0     0     0     0\n",
            "      0     0     0     0     0     0     0     0     0     0     0     0\n",
            "      0     0     0     0     0     0     0     0     0     0     0     0\n",
            "      0     0     0     0     0     0     0]]\n",
            "\n",
            "Sentence after embedding:\n",
            "[[[-0.00609709  0.00749923 -0.04131073 ...  0.02177091  0.00637491\n",
            "   -0.04671444]\n",
            "  [ 0.0180478   0.03684175 -0.04315146 ...  0.01352712 -0.03112948\n",
            "   -0.01941875]\n",
            "  [-0.0180685   0.01306477  0.03399891 ... -0.00740936 -0.03001626\n",
            "   -0.00192849]\n",
            "  ...\n",
            "  [-0.04943314  0.03470229 -0.0226291  ... -0.03102556  0.03345612\n",
            "   -0.0196287 ]\n",
            "  [-0.04943314  0.03470229 -0.0226291  ... -0.03102556  0.03345612\n",
            "   -0.0196287 ]\n",
            "  [-0.04943314  0.03470229 -0.0226291  ... -0.03102556  0.03345612\n",
            "   -0.0196287 ]]]\n",
            "\n",
            "Embedded sentence shape: (1, 55, 128)\n"
          ]
        }
      ]
    },
    {
      "cell_type": "markdown",
      "source": [
        "## Create datasets (as fast as possible)\n",
        "\n",
        "We've gone through all the trouble of preprocessing our datasets to be used with a machine learning model, however, there are still a few steps we can use to make them work faster with our models.\n",
        "\n",
        "Namely, the `tf.data` API provides methods which enable faster data loading.\n",
        "\n",
        "> 📖 **Resource:** For best practices on data loading in TensorFlow, check out the following:\n",
        "* [tf.data: Build TensorFlow input pipelines](https://www.tensorflow.org/guide/data)\n",
        "* [Better performance with the tf.data API](https://www.tensorflow.org/guide/data_performance)\n",
        "\n",
        "The main steps we'll want to use with our data is to turn it into a `PrefetchDataset` of batches.\n",
        "\n",
        "Doing so we'll ensure TensorFlow loads our data onto the GPU as fast as possible, in turn leading to faster training time.\n",
        "\n",
        "To create a batched `PrefetchDataset` we can use the methods [`batch()`](https://www.tensorflow.org/api_docs/python/tf/data/Dataset#batch) and [`prefetch()`](https://www.tensorflow.org/api_docs/python/tf/data/Dataset#prefetch), the parameter [`tf.data.AUTOTUNE`](https://www.tensorflow.org/api_docs/python/tf/data#AUTOTUNE) will also allow TensorFlow to determine the optimal amount of compute to use to prepare datasets."
      ],
      "metadata": {
        "id": "lNkhc5I9bcs9"
      }
    },
    {
      "cell_type": "code",
      "source": [
        "# Turn our data into TensorFlow Datasets\n",
        "train_dataset = tf.data.Dataset.from_tensor_slices((train_sentences, train_labels_one_hot))\n",
        "valid_dataset = tf.data.Dataset.from_tensor_slices((val_sentences, val_labels_one_hot))\n",
        "test_dataset = tf.data.Dataset.from_tensor_slices((test_sentences, test_labels_one_hot))\n",
        "\n",
        "train_dataset"
      ],
      "metadata": {
        "colab": {
          "base_uri": "https://localhost:8080/"
        },
        "id": "sf8lqkRGbj-w",
        "outputId": "2f313707-888a-43e9-c298-639c2a4fbf7d"
      },
      "execution_count": 37,
      "outputs": [
        {
          "output_type": "execute_result",
          "data": {
            "text/plain": [
              "<TensorSliceDataset element_spec=(TensorSpec(shape=(), dtype=tf.string, name=None), TensorSpec(shape=(5,), dtype=tf.float64, name=None))>"
            ]
          },
          "metadata": {},
          "execution_count": 37
        }
      ]
    },
    {
      "cell_type": "code",
      "source": [
        "# Take the TensorSliceDataset's and turn them into prefetched batches\n",
        "train_dataset = train_dataset.batch(32).prefetch(tf.data.AUTOTUNE)\n",
        "valid_dataset = valid_dataset.batch(32).prefetch(tf.data.AUTOTUNE)\n",
        "test_dataset = test_dataset.batch(32).prefetch(tf.data.AUTOTUNE)\n",
        "\n",
        "train_dataset"
      ],
      "metadata": {
        "colab": {
          "base_uri": "https://localhost:8080/"
        },
        "id": "QucszQJDbl7x",
        "outputId": "afca0ea5-c57f-415f-eea7-10460738a815"
      },
      "execution_count": 38,
      "outputs": [
        {
          "output_type": "execute_result",
          "data": {
            "text/plain": [
              "<PrefetchDataset element_spec=(TensorSpec(shape=(None,), dtype=tf.string, name=None), TensorSpec(shape=(None, 5), dtype=tf.float64, name=None))>"
            ]
          },
          "metadata": {},
          "execution_count": 38
        }
      ]
    },
    {
      "cell_type": "markdown",
      "source": [
        "## Model 1: Conv1D with token embeddings\n",
        "\n",
        "Alright, we've now got a way to numerically represent our text and labels, time to build a series of deep models to try and improve upon our baseline.\n",
        "\n",
        "All of our deep models will follow a similar structure:\n",
        "\n",
        "```\n",
        "Input (text) -> Tokenize -> Embedding -> Layers -> Output (label probability)\n",
        "```\n",
        "\n",
        "The main component we'll be changing throughout is the `Layers` component. Because any modern deep NLP model requires text to be converted into an embedding before meaningful patterns can be discovered within.\n",
        "\n",
        "The first model we're going to build is a 1-dimensional Convolutional Neural Network. \n",
        "\n",
        "We're also going to be following the standard machine learning workflow of:\n",
        "- Build model\n",
        "- Train model\n",
        "- Evaluate model (make predictions and compare to ground truth)\n"
      ],
      "metadata": {
        "id": "pl3PPp2ybng_"
      }
    },
    {
      "cell_type": "code",
      "source": [
        "# Create 1D convolutional model to process sequences\n",
        "inputs = layers.Input(shape=(1,), dtype=tf.string)\n",
        "text_vectors = text_vectorizer(inputs) # vectorize text inputs\n",
        "token_embeddings = token_embed(text_vectors) # create embedding\n",
        "x = layers.Conv1D(64, kernel_size=5, padding=\"same\", activation=\"relu\")(token_embeddings)\n",
        "x = layers.GlobalAveragePooling1D()(x) # condense the output of our feature vector\n",
        "outputs = layers.Dense(num_classes, activation=\"softmax\")(x)\n",
        "model_1 = tf.keras.Model(inputs, outputs)\n",
        "\n",
        "# Compile\n",
        "model_1.compile(loss=\"categorical_crossentropy\", # if your labels are integer form (not one hot) use sparse_categorical_crossentropy\n",
        "                optimizer=tf.keras.optimizers.Adam(),\n",
        "                metrics=[\"accuracy\"])"
      ],
      "metadata": {
        "id": "YrzGgQf5bqwe"
      },
      "execution_count": 39,
      "outputs": []
    },
    {
      "cell_type": "code",
      "source": [
        "# Get summary of Conv1D model\n",
        "model_1.summary()"
      ],
      "metadata": {
        "colab": {
          "base_uri": "https://localhost:8080/"
        },
        "id": "VreMKIR3bs2V",
        "outputId": "fcf07a65-ce76-4f86-a3f6-ec5df7a5f22e"
      },
      "execution_count": 40,
      "outputs": [
        {
          "output_type": "stream",
          "name": "stdout",
          "text": [
            "Model: \"model\"\n",
            "_________________________________________________________________\n",
            " Layer (type)                Output Shape              Param #   \n",
            "=================================================================\n",
            " input_1 (InputLayer)        [(None, 1)]               0         \n",
            "                                                                 \n",
            " text_vectorization (TextVec  (None, 55)               0         \n",
            " torization)                                                     \n",
            "                                                                 \n",
            " token_embedding (Embedding)  (None, 55, 128)          8299648   \n",
            "                                                                 \n",
            " conv1d (Conv1D)             (None, 55, 64)            41024     \n",
            "                                                                 \n",
            " global_average_pooling1d (G  (None, 64)               0         \n",
            " lobalAveragePooling1D)                                          \n",
            "                                                                 \n",
            " dense (Dense)               (None, 5)                 325       \n",
            "                                                                 \n",
            "=================================================================\n",
            "Total params: 8,340,997\n",
            "Trainable params: 8,340,997\n",
            "Non-trainable params: 0\n",
            "_________________________________________________________________\n"
          ]
        }
      ]
    },
    {
      "cell_type": "markdown",
      "source": [
        "We've got our first deep sequence model built and ready to go. \n",
        "\n",
        "Checking out the model summary, you'll notice the majority of the trainable parameters are within the embedding layer. If we were to increase the size of the embedding (by increasing the `output_dim` parameter of the `Embedding` layer), the number of trainable parameters would increase dramatically.\n",
        "\n",
        "It's time to fit our model to the training data but we're going to make a mindful change.\n",
        "\n",
        "Since our training data contains nearly 200,000 sentences, fitting a deep model may take a while even with a GPU. So to keep our experiments swift, we're going to run them on a subset of the training dataset.\n",
        "\n",
        "More specifically, we'll only use the first 10% of batches (about 18,000 samples) of the training set to train on and the first 10% of batches from the validation set to validate on.\n",
        "\n",
        "> 🔑 **Note:** It's a standard practice in machine learning to test your models on smaller subsets of data first to make sure they work before scaling them to larger amounts of data. You should aim to run many smaller experiments rather than only a handful of large experiments. And since your time is limited, one of the best ways to run smaller experiments is to reduce the amount of data you're working with (10% of the full dataset is usually a good amount, as long as it covers a similar distribution)."
      ],
      "metadata": {
        "id": "Ve85TaD1buPz"
      }
    },
    {
      "cell_type": "code",
      "source": [
        "# Fit the model\n",
        "model_1_history = model_1.fit(train_dataset,\n",
        "                              steps_per_epoch=int(0.1 * len(train_dataset)), # only fit on 10% of batches for faster training time\n",
        "                              epochs=3,\n",
        "                              validation_data=valid_dataset,\n",
        "                              validation_steps=int(0.1 * len(valid_dataset))) # only validate on 10% of batches"
      ],
      "metadata": {
        "colab": {
          "base_uri": "https://localhost:8080/"
        },
        "id": "o4QvwXvUb4TW",
        "outputId": "f945be08-b6a2-41da-be14-8d05e609a50f"
      },
      "execution_count": 41,
      "outputs": [
        {
          "output_type": "stream",
          "name": "stdout",
          "text": [
            "Epoch 1/3\n",
            "562/562 [==============================] - 14s 9ms/step - loss: 0.9227 - accuracy: 0.6339 - val_loss: 0.6852 - val_accuracy: 0.7377\n",
            "Epoch 2/3\n",
            "562/562 [==============================] - 7s 12ms/step - loss: 0.6574 - accuracy: 0.7565 - val_loss: 0.6388 - val_accuracy: 0.7693\n",
            "Epoch 3/3\n",
            "562/562 [==============================] - 5s 9ms/step - loss: 0.6168 - accuracy: 0.7756 - val_loss: 0.5948 - val_accuracy: 0.7839\n"
          ]
        }
      ]
    },
    {
      "cell_type": "code",
      "source": [
        "# Evaluate on whole validation dataset (we only validated on 10% of batches during training)\n",
        "model_1.evaluate(valid_dataset)"
      ],
      "metadata": {
        "colab": {
          "base_uri": "https://localhost:8080/"
        },
        "id": "BOIhqg6Nb7Uj",
        "outputId": "685bb2cc-1f8b-488f-abf8-48d3aa8381ec"
      },
      "execution_count": 42,
      "outputs": [
        {
          "output_type": "stream",
          "name": "stdout",
          "text": [
            "945/945 [==============================] - 3s 3ms/step - loss: 0.5969 - accuracy: 0.7879\n"
          ]
        },
        {
          "output_type": "execute_result",
          "data": {
            "text/plain": [
              "[0.5968648195266724, 0.7879319190979004]"
            ]
          },
          "metadata": {},
          "execution_count": 42
        }
      ]
    },
    {
      "cell_type": "code",
      "source": [
        "# Make predictions (our model outputs prediction probabilities for each class)\n",
        "model_1_pred_probs = model_1.predict(valid_dataset)\n",
        "model_1_pred_probs"
      ],
      "metadata": {
        "colab": {
          "base_uri": "https://localhost:8080/"
        },
        "id": "AUCgALNZb9t6",
        "outputId": "b0526452-3be4-4969-e4ae-990d57b85e92"
      },
      "execution_count": 43,
      "outputs": [
        {
          "output_type": "stream",
          "name": "stdout",
          "text": [
            "945/945 [==============================] - 2s 2ms/step\n"
          ]
        },
        {
          "output_type": "execute_result",
          "data": {
            "text/plain": [
              "array([[4.8846176e-01, 1.4033945e-01, 5.3600669e-02, 2.9698226e-01,\n",
              "        2.0615965e-02],\n",
              "       [3.9553934e-01, 3.1706053e-01, 1.3964639e-02, 2.6303944e-01,\n",
              "        1.0396109e-02],\n",
              "       [1.3732208e-01, 7.7193594e-03, 1.9335760e-03, 8.5300028e-01,\n",
              "        2.4686580e-05],\n",
              "       ...,\n",
              "       [1.0589864e-05, 7.2160538e-04, 8.4273191e-04, 5.9785507e-06,\n",
              "        9.9841905e-01],\n",
              "       [5.7045795e-02, 4.2552891e-01, 1.0617716e-01, 7.6885983e-02,\n",
              "        3.3436212e-01],\n",
              "       [1.4863496e-01, 7.1567297e-01, 3.6195457e-02, 5.4162696e-02,\n",
              "        4.5333914e-02]], dtype=float32)"
            ]
          },
          "metadata": {},
          "execution_count": 43
        }
      ]
    },
    {
      "cell_type": "code",
      "source": [
        "# Convert pred probs to classes\n",
        "model_1_preds = tf.argmax(model_1_pred_probs, axis=1)\n",
        "model_1_preds"
      ],
      "metadata": {
        "colab": {
          "base_uri": "https://localhost:8080/"
        },
        "id": "2zy-WcnQb_FI",
        "outputId": "e13d225a-d030-4cae-d57e-21dc42e5720a"
      },
      "execution_count": 44,
      "outputs": [
        {
          "output_type": "execute_result",
          "data": {
            "text/plain": [
              "<tf.Tensor: shape=(30212,), dtype=int64, numpy=array([0, 0, 3, ..., 4, 1, 1])>"
            ]
          },
          "metadata": {},
          "execution_count": 44
        }
      ]
    },
    {
      "cell_type": "code",
      "source": [
        "# Calculate model_1 results\n",
        "model_1_results = calculate_results(y_true=val_labels_encoded,\n",
        "                                    y_pred=model_1_preds)\n",
        "model_1_results"
      ],
      "metadata": {
        "colab": {
          "base_uri": "https://localhost:8080/"
        },
        "id": "vg7iOVlqcAmw",
        "outputId": "69ea6286-d45b-4da2-b19b-94f2ce6ecdd6"
      },
      "execution_count": 45,
      "outputs": [
        {
          "output_type": "execute_result",
          "data": {
            "text/plain": [
              "{'accuracy': 78.79319475705017,\n",
              " 'precision': 0.7850227591165299,\n",
              " 'recall': 0.7879319475705018,\n",
              " 'f1': 0.7857676997350742}"
            ]
          },
          "metadata": {},
          "execution_count": 45
        }
      ]
    },
    {
      "cell_type": "markdown",
      "source": [
        "## Model 2: Feature extraction with pretrained token embeddings\n",
        "\n",
        "Training our own embeddings took a little while to run, slowing our experiments down.\n",
        "\n",
        "Since we're moving towards replicating the model architecture in [*Neural Networks for Joint Sentence Classification\n",
        "in Medical Paper Abstracts*](https://arxiv.org/pdf/1612.05251.pdf), it mentions they used a [pretrained GloVe embedding](https://nlp.stanford.edu/projects/glove/) as a way to initialise their token embeddings.\n",
        "\n",
        "To emulate this, let's see what results we can get with the [pretrained Universal Sentence Encoder embeddings from TensorFlow Hub](https://tfhub.dev/google/universal-sentence-encoder/4).\n",
        "\n",
        "> **Note:** We could use GloVe embeddings as per the paper but since we're working with TensorFlow, we'll use what's available from TensorFlow Hub (GloVe embeddings aren't). We'll save [using pretrained GloVe embeddings](https://keras.io/examples/nlp/pretrained_word_embeddings/) as an extension.\n",
        "\n",
        "The model structure will look like:\n",
        "\n",
        "```\n",
        "Inputs (string) -> Pretrained embeddings from TensorFlow Hub (Universal Sentence Encoder) -> Layers -> Output (prediction probabilities)\n",
        "```\n",
        "\n",
        "You'll notice the lack of tokenization layer we've used in a previous model. This is because the Universal Sentence Encoder (USE) takes care of tokenization for us.\n",
        "\n",
        "This type of model is called transfer learning, or more specifically, **feature extraction transfer learning**. In other words, taking the patterns a model has learned elsewhere and applying it to our own problem.\n",
        "\n",
        "\n",
        "To download the pretrained USE into a layer we can use in our model, we can use the [`hub.KerasLayer`](https://www.tensorflow.org/hub/api_docs/python/hub/KerasLayer) class.\n",
        "\n",
        "We'll keep the pretrained embeddings frozen (by setting `trainable=False`) and add a trainable couple of layers on the top to tailor the model outputs to our own data.\n",
        "\n"
      ],
      "metadata": {
        "id": "LpuJheP-cCiW"
      }
    },
    {
      "cell_type": "code",
      "source": [
        "# Download pretrained TensorFlow Hub USE\n",
        "import tensorflow_hub as hub\n",
        "tf_hub_embedding_layer = hub.KerasLayer(\"https://tfhub.dev/google/universal-sentence-encoder/4\",\n",
        "                                        trainable=False,\n",
        "                                        name=\"universal_sentence_encoder\")"
      ],
      "metadata": {
        "id": "jxJ7TqqZccDv"
      },
      "execution_count": 46,
      "outputs": []
    },
    {
      "cell_type": "code",
      "source": [
        "# Test out the embedding on a random sentence\n",
        "random_training_sentence = random.choice(train_sentences)\n",
        "print(f\"Random training sentence:\\n{random_training_sentence}\\n\")\n",
        "use_embedded_sentence = tf_hub_embedding_layer([random_training_sentence])\n",
        "print(f\"Sentence after embedding:\\n{use_embedded_sentence[0][:30]} (truncated output)...\\n\")\n",
        "print(f\"Length of sentence embedding:\\n{len(use_embedded_sentence[0])}\")"
      ],
      "metadata": {
        "colab": {
          "base_uri": "https://localhost:8080/"
        },
        "id": "2uQoaihzcc6S",
        "outputId": "386df420-f978-4fcb-d93f-11e1ff7dad09"
      },
      "execution_count": 47,
      "outputs": [
        {
          "output_type": "stream",
          "name": "stdout",
          "text": [
            "Random training sentence:\n",
            "in rodents , loss of @r@ promotes fatty liver .\n",
            "\n",
            "Sentence after embedding:\n",
            "[ 0.04442297  0.00807783  0.03109061 -0.03264291 -0.02757744 -0.07852846\n",
            " -0.0548318   0.00116141  0.00487781  0.00107116  0.08447516 -0.03080167\n",
            " -0.04255703  0.00314779 -0.08416026 -0.02913935 -0.0839805   0.05119556\n",
            " -0.04726596  0.05144348 -0.01729114  0.06366037  0.00440294 -0.05957388\n",
            " -0.00996067 -0.04662739 -0.009681    0.01052368 -0.03789116  0.0839417 ] (truncated output)...\n",
            "\n",
            "Length of sentence embedding:\n",
            "512\n"
          ]
        }
      ]
    },
    {
      "cell_type": "markdown",
      "source": [
        "### Building and fitting an NLP feature extraction model from TensorFlow Hub"
      ],
      "metadata": {
        "id": "pNUlTzKqcig2"
      }
    },
    {
      "cell_type": "code",
      "source": [
        "# Define feature extractor model using TF Hub layer\n",
        "inputs = layers.Input(shape=[], dtype=tf.string)\n",
        "pretrained_embedding = tf_hub_embedding_layer(inputs) # tokenize text and create embedding\n",
        "x = layers.Dense(128, activation=\"relu\")(pretrained_embedding) # add a fully connected layer on top of the embedding\n",
        "outputs = layers.Dense(5, activation=\"softmax\")(x) # create the output layer\n",
        "model_2 = tf.keras.Model(inputs=inputs,\n",
        "                        outputs=outputs)\n",
        "\n",
        "# Compile the model\n",
        "model_2.compile(loss=\"categorical_crossentropy\",\n",
        "                optimizer=tf.keras.optimizers.Adam(),\n",
        "                metrics=[\"accuracy\"])"
      ],
      "metadata": {
        "id": "lH4oice1cnx2"
      },
      "execution_count": 48,
      "outputs": []
    },
    {
      "cell_type": "code",
      "source": [
        "# Get a summary of the model\n",
        "model_2.summary()"
      ],
      "metadata": {
        "colab": {
          "base_uri": "https://localhost:8080/"
        },
        "id": "QF1CCrFEcpxS",
        "outputId": "2171cd1b-663b-4791-c4ea-8694ab5a2e7d"
      },
      "execution_count": 49,
      "outputs": [
        {
          "output_type": "stream",
          "name": "stdout",
          "text": [
            "Model: \"model_1\"\n",
            "_________________________________________________________________\n",
            " Layer (type)                Output Shape              Param #   \n",
            "=================================================================\n",
            " input_2 (InputLayer)        [(None,)]                 0         \n",
            "                                                                 \n",
            " universal_sentence_encoder   (None, 512)              256797824 \n",
            " (KerasLayer)                                                    \n",
            "                                                                 \n",
            " dense_1 (Dense)             (None, 128)               65664     \n",
            "                                                                 \n",
            " dense_2 (Dense)             (None, 5)                 645       \n",
            "                                                                 \n",
            "=================================================================\n",
            "Total params: 256,864,133\n",
            "Trainable params: 66,309\n",
            "Non-trainable params: 256,797,824\n",
            "_________________________________________________________________\n"
          ]
        }
      ]
    },
    {
      "cell_type": "code",
      "source": [
        "# Fit feature extractor model for 3 epochs\n",
        "model_2.fit(train_dataset,\n",
        "            steps_per_epoch=int(0.1 * len(train_dataset)),\n",
        "            epochs=3,\n",
        "            validation_data=valid_dataset,\n",
        "            validation_steps=int(0.1 * len(valid_dataset)))"
      ],
      "metadata": {
        "colab": {
          "base_uri": "https://localhost:8080/"
        },
        "id": "AMcDUrTcct2r",
        "outputId": "b4ee0243-9b69-4c17-8e1e-84e940e7c7e9"
      },
      "execution_count": 50,
      "outputs": [
        {
          "output_type": "stream",
          "name": "stdout",
          "text": [
            "Epoch 1/3\n",
            "562/562 [==============================] - 9s 13ms/step - loss: 0.9149 - accuracy: 0.6512 - val_loss: 0.7978 - val_accuracy: 0.6892\n",
            "Epoch 2/3\n",
            "562/562 [==============================] - 7s 12ms/step - loss: 0.7687 - accuracy: 0.7023 - val_loss: 0.7550 - val_accuracy: 0.7055\n",
            "Epoch 3/3\n",
            "562/562 [==============================] - 8s 14ms/step - loss: 0.7513 - accuracy: 0.7141 - val_loss: 0.7367 - val_accuracy: 0.7158\n"
          ]
        },
        {
          "output_type": "execute_result",
          "data": {
            "text/plain": [
              "<keras.callbacks.History at 0x7fb74c2c5b10>"
            ]
          },
          "metadata": {},
          "execution_count": 50
        }
      ]
    },
    {
      "cell_type": "code",
      "source": [
        "# Evaluate on whole validation dataset\n",
        "model_2.evaluate(valid_dataset)"
      ],
      "metadata": {
        "colab": {
          "base_uri": "https://localhost:8080/"
        },
        "id": "h7Cql_2-cwBP",
        "outputId": "367c9ffe-4cc2-4e1d-be51-f73144fe9340"
      },
      "execution_count": 51,
      "outputs": [
        {
          "output_type": "stream",
          "name": "stdout",
          "text": [
            "945/945 [==============================] - 10s 11ms/step - loss: 0.7393 - accuracy: 0.7142\n"
          ]
        },
        {
          "output_type": "execute_result",
          "data": {
            "text/plain": [
              "[0.7392522692680359, 0.714186429977417]"
            ]
          },
          "metadata": {},
          "execution_count": 51
        }
      ]
    },
    {
      "cell_type": "code",
      "source": [
        "# Make predictions with feature extraction model\n",
        "model_2_pred_probs = model_2.predict(valid_dataset)\n",
        "model_2_pred_probs"
      ],
      "metadata": {
        "colab": {
          "base_uri": "https://localhost:8080/"
        },
        "id": "0YRJqcUEcxm1",
        "outputId": "b4e19ba1-1200-4d8e-bec9-a3418d2f7d99"
      },
      "execution_count": 52,
      "outputs": [
        {
          "output_type": "stream",
          "name": "stdout",
          "text": [
            "945/945 [==============================] - 9s 9ms/step\n"
          ]
        },
        {
          "output_type": "execute_result",
          "data": {
            "text/plain": [
              "array([[0.39025003, 0.38853848, 0.00253633, 0.20858815, 0.01008708],\n",
              "       [0.375351  , 0.46354198, 0.00459581, 0.15249513, 0.00401612],\n",
              "       [0.2180546 , 0.16604617, 0.02250968, 0.5534764 , 0.03991313],\n",
              "       ...,\n",
              "       [0.00163748, 0.00543474, 0.05367282, 0.00099878, 0.9382562 ],\n",
              "       [0.0040069 , 0.0485214 , 0.19078249, 0.00133473, 0.75535446],\n",
              "       [0.17794466, 0.2485601 , 0.51953405, 0.0052581 , 0.04870309]],\n",
              "      dtype=float32)"
            ]
          },
          "metadata": {},
          "execution_count": 52
        }
      ]
    },
    {
      "cell_type": "code",
      "source": [
        "# Convert the predictions with feature extraction model to classes\n",
        "model_2_preds = tf.argmax(model_2_pred_probs, axis=1)\n",
        "model_2_preds"
      ],
      "metadata": {
        "colab": {
          "base_uri": "https://localhost:8080/"
        },
        "id": "JBhrKCCYczG_",
        "outputId": "357c4450-9cb1-4cc1-8c62-ed056f09b1ad"
      },
      "execution_count": 53,
      "outputs": [
        {
          "output_type": "execute_result",
          "data": {
            "text/plain": [
              "<tf.Tensor: shape=(30212,), dtype=int64, numpy=array([0, 1, 3, ..., 4, 4, 2])>"
            ]
          },
          "metadata": {},
          "execution_count": 53
        }
      ]
    },
    {
      "cell_type": "code",
      "source": [
        "# Calculate results from TF Hub pretrained embeddings results on validation set\n",
        "model_2_results = calculate_results(y_true=val_labels_encoded,\n",
        "                                    y_pred=model_2_preds)\n",
        "model_2_results"
      ],
      "metadata": {
        "colab": {
          "base_uri": "https://localhost:8080/"
        },
        "id": "zA_v1o31c0Qg",
        "outputId": "c0fe46a7-526c-41d1-dfa6-d53e607c9902"
      },
      "execution_count": 54,
      "outputs": [
        {
          "output_type": "execute_result",
          "data": {
            "text/plain": [
              "{'accuracy': 71.41864159936449,\n",
              " 'precision': 0.7149310416516753,\n",
              " 'recall': 0.714186415993645,\n",
              " 'f1': 0.711182437464108}"
            ]
          },
          "metadata": {},
          "execution_count": 54
        }
      ]
    },
    {
      "cell_type": "markdown",
      "source": [
        "## Model 3: Conv1D with character embeddings\n",
        "\n",
        "\n",
        "The [*Neural Networks for Joint Sentence Classification\n",
        "in Medical Paper Abstracts*](https://arxiv.org/pdf/1612.05251.pdf) paper mentions their model uses a hybrid of token and character embeddings.\n",
        "\n",
        "We've built models with a custom token embedding and a pretrained token embedding, how about we build one using a character embedding?\n",
        "\n",
        "The difference between a character and token embedding is that the **character embedding** is created using sequences split into characters (e.g. `hello` -> [`h`, `e`, `l`, `l`, `o`]) where as a **token embedding** is created on sequences split into tokens."
      ],
      "metadata": {
        "id": "inbG3xxcc1hT"
      }
    },
    {
      "cell_type": "code",
      "source": [
        "# Making function to split sentences into characters\n",
        "def split_chars(text):\n",
        "  return \" \".join(list(text))\n",
        "\n",
        "# Test splitting non-character-level sequence into characters\n",
        "split_chars(random_training_sentence)"
      ],
      "metadata": {
        "colab": {
          "base_uri": "https://localhost:8080/",
          "height": 36
        },
        "id": "56WFJOsxc_qY",
        "outputId": "c809909d-23ef-40f9-cb76-9980ef39bb58"
      },
      "execution_count": 55,
      "outputs": [
        {
          "output_type": "execute_result",
          "data": {
            "text/plain": [
              "'i n   r o d e n t s   ,   l o s s   o f   @ r @   p r o m o t e s   f a t t y   l i v e r   .'"
            ],
            "application/vnd.google.colaboratory.intrinsic+json": {
              "type": "string"
            }
          },
          "metadata": {},
          "execution_count": 55
        }
      ]
    },
    {
      "cell_type": "code",
      "source": [
        "# Split sequence-level data splits into character-level data splits\n",
        "train_chars = [split_chars(sentence) for sentence in train_sentences]\n",
        "val_chars = [split_chars(sentence) for sentence in val_sentences]\n",
        "test_chars = [split_chars(sentence) for sentence in test_sentences]\n",
        "print(train_chars[0])\n"
      ],
      "metadata": {
        "colab": {
          "base_uri": "https://localhost:8080/"
        },
        "id": "zpKJ1mGtdvPy",
        "outputId": "22c1ff4c-3d3c-4578-8e34-4a96509a2b13"
      },
      "execution_count": 56,
      "outputs": [
        {
          "output_type": "stream",
          "name": "stdout",
          "text": [
            "t o   i n v e s t i g a t e   t h e   e f f i c a c y   o f   @   w e e k s   o f   d a i l y   l o w - d o s e   o r a l   p r e d n i s o l o n e   i n   i m p r o v i n g   p a i n   ,   m o b i l i t y   ,   a n d   s y s t e m i c   l o w - g r a d e   i n f l a m m a t i o n   i n   t h e   s h o r t   t e r m   a n d   w h e t h e r   t h e   e f f e c t   w o u l d   b e   s u s t a i n e d   a t   @   w e e k s   i n   o l d e r   a d u l t s   w i t h   m o d e r a t e   t o   s e v e r e   k n e e   o s t e o a r t h r i t i s   (   o a   )   .\n"
          ]
        }
      ]
    },
    {
      "cell_type": "code",
      "source": [
        "# What's the average character length?\n",
        "char_lens = [len(sentence) for sentence in train_sentences]\n",
        "mean_char_len = np.mean(char_lens)\n",
        "mean_char_len"
      ],
      "metadata": {
        "colab": {
          "base_uri": "https://localhost:8080/"
        },
        "id": "kse9kl0YdJgK",
        "outputId": "4e0cf654-cb32-4db2-9cd3-b6597577f134"
      },
      "execution_count": 57,
      "outputs": [
        {
          "output_type": "execute_result",
          "data": {
            "text/plain": [
              "149.3662574983337"
            ]
          },
          "metadata": {},
          "execution_count": 57
        }
      ]
    },
    {
      "cell_type": "code",
      "source": [
        "# Checking the distribution of our sequences at character-level\n",
        "import matplotlib.pyplot as plt\n",
        "plt.hist(char_lens, bins=7);"
      ],
      "metadata": {
        "colab": {
          "base_uri": "https://localhost:8080/",
          "height": 265
        },
        "id": "e3cEbcaEdL6l",
        "outputId": "7de6d3b0-b943-4976-ca97-4c3cc2c466b9"
      },
      "execution_count": 58,
      "outputs": [
        {
          "output_type": "display_data",
          "data": {
            "text/plain": [
              "<Figure size 432x288 with 1 Axes>"
            ],
            "image/png": "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\n"
          },
          "metadata": {
            "needs_background": "light"
          }
        }
      ]
    },
    {
      "cell_type": "code",
      "source": [
        "# Finding what character length covers 95% of sequences\n",
        "output_seq_char_len = int(np.percentile(char_lens, 95))\n",
        "output_seq_char_len"
      ],
      "metadata": {
        "colab": {
          "base_uri": "https://localhost:8080/"
        },
        "id": "X_WRbHdbdNHh",
        "outputId": "77655f46-4060-46a5-a20e-0683994b1214"
      },
      "execution_count": 59,
      "outputs": [
        {
          "output_type": "execute_result",
          "data": {
            "text/plain": [
              "290"
            ]
          },
          "metadata": {},
          "execution_count": 59
        }
      ]
    },
    {
      "cell_type": "markdown",
      "source": [
        "We'll set `max_tokens` (the total number of different characters in our sequences) to 28, in other words, 26 letters of the alphabet + space + OOV (out of vocabulary or unknown) tokens."
      ],
      "metadata": {
        "id": "4F08m9JndPyf"
      }
    },
    {
      "cell_type": "code",
      "source": [
        "# Getting all keyboard characters for char-level embedding\n",
        "import string\n",
        "alphabet = string.ascii_lowercase + string.digits + string.punctuation\n",
        "alphabet"
      ],
      "metadata": {
        "colab": {
          "base_uri": "https://localhost:8080/",
          "height": 36
        },
        "id": "Ib4c3s1ldWZV",
        "outputId": "8ee9d09d-2b27-4c77-d369-c2506598be53"
      },
      "execution_count": 60,
      "outputs": [
        {
          "output_type": "execute_result",
          "data": {
            "text/plain": [
              "'abcdefghijklmnopqrstuvwxyz0123456789!\"#$%&\\'()*+,-./:;<=>?@[\\\\]^_`{|}~'"
            ],
            "application/vnd.google.colaboratory.intrinsic+json": {
              "type": "string"
            }
          },
          "metadata": {},
          "execution_count": 60
        }
      ]
    },
    {
      "cell_type": "code",
      "source": [
        "# Creating char-level token vectorizer instance\n",
        "NUM_CHAR_TOKENS = len(alphabet) + 2 # num characters in alphabet + space + OOV token\n",
        "char_vectorizer = TextVectorization(max_tokens=NUM_CHAR_TOKENS,  \n",
        "                                    output_sequence_length=output_seq_char_len,\n",
        "                                    standardize=\"lower_and_strip_punctuation\",\n",
        "                                    name=\"char_vectorizer\")\n",
        "\n",
        "# Adapting character vectorizer to training characters\n",
        "char_vectorizer.adapt(train_chars)"
      ],
      "metadata": {
        "id": "lraXtcqEdZaL"
      },
      "execution_count": 61,
      "outputs": []
    },
    {
      "cell_type": "markdown",
      "source": [
        "Now we've adapted our `char_vectorizer` to our character-level sequences, let's check out some characteristics about it using the [`get_vocabulary()`](https://www.tensorflow.org/api_docs/python/tf/keras/layers/experimental/preprocessing/TextVectorization#get_vocabulary) method."
      ],
      "metadata": {
        "id": "_ZBaiIPpdbql"
      }
    },
    {
      "cell_type": "code",
      "source": [
        "# Checking character vocabulary characteristics\n",
        "char_vocab = char_vectorizer.get_vocabulary()\n",
        "print(f\"Number of different characters in character vocab: {len(char_vocab)}\")\n",
        "print(f\"5 most common characters: {char_vocab[:5]}\")\n",
        "print(f\"5 least common characters: {char_vocab[-5:]}\")"
      ],
      "metadata": {
        "colab": {
          "base_uri": "https://localhost:8080/"
        },
        "id": "6ZgjnDckeCQE",
        "outputId": "04759c91-8798-4189-9496-a8fc8f248993"
      },
      "execution_count": 62,
      "outputs": [
        {
          "output_type": "stream",
          "name": "stdout",
          "text": [
            "Number of different characters in character vocab: 28\n",
            "5 most common characters: ['', '[UNK]', 'e', 't', 'i']\n",
            "5 least common characters: ['k', 'x', 'z', 'q', 'j']\n"
          ]
        }
      ]
    },
    {
      "cell_type": "code",
      "source": [
        "# Test out character vectorizer\n",
        "random_train_chars = random.choice(train_chars)\n",
        "print(f\"Charified text:\\n{random_train_chars}\")\n",
        "print(f\"\\nLength of chars: {len(random_train_chars.split())}\")\n",
        "vectorized_chars = char_vectorizer([random_train_chars])\n",
        "print(f\"\\nVectorized chars:\\n{vectorized_chars}\")\n",
        "print(f\"\\nLength of vectorized chars: {len(vectorized_chars[0])}\")"
      ],
      "metadata": {
        "colab": {
          "base_uri": "https://localhost:8080/"
        },
        "id": "b6dZYq4jeEi5",
        "outputId": "f89acfb1-b548-4141-a946-acb5bc9868aa"
      },
      "execution_count": 63,
      "outputs": [
        {
          "output_type": "stream",
          "name": "stdout",
          "text": [
            "Charified text:\n",
            "e f f i c a c y   o u t c o m e s   w e r e   h i g h - s e n s i t i v i t y   c - r e a c t i v e   p r o t e i n   (   h s c r p   )   a n d   b - t y p e   n a t r i u r e t i c   p e p t i d e   (   b n p   )   c o n c e n t r a t i o n s   a t   @   h   a n d   @   w e e k s   ,   a n d   t r o p o n i n   i   a r e a   u n d e r   t h e   c u r v e   (   a u c   )   o v e r   @   h .\n",
            "\n",
            "Length of chars: 161\n",
            "\n",
            "Vectorized chars:\n",
            "[[ 2 17 17  4 11  5 11 19  7 16  3 11  7 15  2  9 20  2  8  2 13  4 18 13\n",
            "   9  2  6  9  4  3  4 21  4  3 19 11  8  2  5 11  3  4 21  2 14  8  7  3\n",
            "   2  4  6 13  9 11  8 14  5  6 10 22  3 19 14  2  6  5  3  8  4 16  8  2\n",
            "   3  4 11 14  2 14  3  4 10  2 22  6 14 11  7  6 11  2  6  3  8  5  3  4\n",
            "   7  6  9  5  3 13  5  6 10 20  2  2 23  9  5  6 10  3  8  7 14  7  6  4\n",
            "   6  4  5  8  2  5 16  6 10  2  8  3 13  2 11 16  8 21  2  5 16 11  7 21\n",
            "   2  8 13  0  0  0  0  0  0  0  0  0  0  0  0  0  0  0  0  0  0  0  0  0\n",
            "   0  0  0  0  0  0  0  0  0  0  0  0  0  0  0  0  0  0  0  0  0  0  0  0\n",
            "   0  0  0  0  0  0  0  0  0  0  0  0  0  0  0  0  0  0  0  0  0  0  0  0\n",
            "   0  0  0  0  0  0  0  0  0  0  0  0  0  0  0  0  0  0  0  0  0  0  0  0\n",
            "   0  0  0  0  0  0  0  0  0  0  0  0  0  0  0  0  0  0  0  0  0  0  0  0\n",
            "   0  0  0  0  0  0  0  0  0  0  0  0  0  0  0  0  0  0  0  0  0  0  0  0\n",
            "   0  0]]\n",
            "\n",
            "Length of vectorized chars: 290\n"
          ]
        }
      ]
    },
    {
      "cell_type": "markdown",
      "source": [
        "We'll notice sequences with a length shorter than 290 (`output_seq_char_length`) get padded with zeros on the end, this ensures all sequences passed to our model are the same length.\n",
        "\n",
        "Also, due to the `standardize` parameter of `TextVectorization` being `\"lower_and_strip_punctuation\"` and the `split` parameter being `\"whitespace\"` by default, symbols (such as `@`) and spaces are removed.\n",
        "\n"
      ],
      "metadata": {
        "id": "iqW6AfuMeGy7"
      }
    },
    {
      "cell_type": "markdown",
      "source": [
        "### Creating a character-level embedding\n",
        "We've got a way to vectorize our character-level sequences, now's time to create a character-level embedding."
      ],
      "metadata": {
        "id": "RV6rk17EeXrf"
      }
    },
    {
      "cell_type": "code",
      "source": [
        "# Create char embedding layer\n",
        "char_embed = layers.Embedding(input_dim=NUM_CHAR_TOKENS, # number of different characters\n",
        "                              output_dim=25, # embedding dimension of each character (same as Figure 1 in https://arxiv.org/pdf/1612.05251.pdf)\n",
        "                              mask_zero=False, # don't use masks (this messes up model_5 if set to True)\n",
        "                              name=\"char_embed\")\n",
        "\n",
        "# Test out character embedding layer\n",
        "print(f\"Charified text (before vectorization and embedding):\\n{random_train_chars}\\n\")\n",
        "char_embed_example = char_embed(char_vectorizer([random_train_chars]))\n",
        "print(f\"Embedded chars (after vectorization and embedding):\\n{char_embed_example}\\n\")\n",
        "print(f\"Character embedding shape: {char_embed_example.shape}\")"
      ],
      "metadata": {
        "colab": {
          "base_uri": "https://localhost:8080/"
        },
        "id": "gmK-R-LbebRx",
        "outputId": "94df7b65-286b-4e56-c214-7e3207d3a492"
      },
      "execution_count": 64,
      "outputs": [
        {
          "output_type": "stream",
          "name": "stdout",
          "text": [
            "Charified text (before vectorization and embedding):\n",
            "e f f i c a c y   o u t c o m e s   w e r e   h i g h - s e n s i t i v i t y   c - r e a c t i v e   p r o t e i n   (   h s c r p   )   a n d   b - t y p e   n a t r i u r e t i c   p e p t i d e   (   b n p   )   c o n c e n t r a t i o n s   a t   @   h   a n d   @   w e e k s   ,   a n d   t r o p o n i n   i   a r e a   u n d e r   t h e   c u r v e   (   a u c   )   o v e r   @   h .\n",
            "\n",
            "Embedded chars (after vectorization and embedding):\n",
            "[[[-0.01342267  0.03629959  0.01407044 ...  0.03658779 -0.01837555\n",
            "    0.04676023]\n",
            "  [ 0.03223448  0.01758242 -0.04608114 ... -0.04822239  0.0404861\n",
            "    0.0080664 ]\n",
            "  [ 0.03223448  0.01758242 -0.04608114 ... -0.04822239  0.0404861\n",
            "    0.0080664 ]\n",
            "  ...\n",
            "  [-0.02214503  0.00687759  0.03290956 ...  0.03213784  0.02459743\n",
            "   -0.03197587]\n",
            "  [-0.02214503  0.00687759  0.03290956 ...  0.03213784  0.02459743\n",
            "   -0.03197587]\n",
            "  [-0.02214503  0.00687759  0.03290956 ...  0.03213784  0.02459743\n",
            "   -0.03197587]]]\n",
            "\n",
            "Character embedding shape: (1, 290, 25)\n"
          ]
        }
      ]
    },
    {
      "cell_type": "markdown",
      "source": [
        "### Building a Conv1D model to fit on character embeddings\n",
        "Now we've got a way to turn our character-level sequences into numbers (`char_vectorizer`) as well as numerically represent them as an embedding (`char_embed`) let's test how effective they are at encoding the information in our sequences by creating a character-level sequence model.\n",
        "\n",
        "The model will have the same structure as our custom token embedding model (`model_1`) except it'll take character-level sequences as input instead of token-level sequences.\n",
        "\n",
        "```\n",
        "Input (character-level text) -> Tokenize -> Embedding -> Layers (Conv1D, GlobalMaxPool1D) -> Output (label probability)\n",
        "```\n"
      ],
      "metadata": {
        "id": "Gaj6KAyyec5k"
      }
    },
    {
      "cell_type": "code",
      "source": [
        "# Make Conv1D on chars only\n",
        "inputs = layers.Input(shape=(1,), dtype=\"string\")\n",
        "char_vectors = char_vectorizer(inputs)\n",
        "char_embeddings = char_embed(char_vectors)\n",
        "x = layers.Conv1D(64, kernel_size=5, padding=\"same\", activation=\"relu\")(char_embeddings)\n",
        "x = layers.GlobalMaxPool1D()(x)\n",
        "outputs = layers.Dense(num_classes, activation=\"softmax\")(x)\n",
        "model_3 = tf.keras.Model(inputs=inputs,\n",
        "                         outputs=outputs,\n",
        "                         name=\"model_3_conv1D_char_embedding\")\n",
        "\n",
        "# Compile model\n",
        "model_3.compile(loss=\"categorical_crossentropy\",\n",
        "                optimizer=tf.keras.optimizers.Adam(),\n",
        "                metrics=[\"accuracy\"])"
      ],
      "metadata": {
        "id": "s6lhY-JmekfO"
      },
      "execution_count": 65,
      "outputs": []
    },
    {
      "cell_type": "code",
      "source": [
        "# Check the summary of conv1d_char_model\n",
        "model_3.summary()"
      ],
      "metadata": {
        "colab": {
          "base_uri": "https://localhost:8080/"
        },
        "id": "2f_Xe6aNenAd",
        "outputId": "b1db0c02-ea27-40a6-d986-21cba55e49e8"
      },
      "execution_count": 66,
      "outputs": [
        {
          "output_type": "stream",
          "name": "stdout",
          "text": [
            "Model: \"model_3_conv1D_char_embedding\"\n",
            "_________________________________________________________________\n",
            " Layer (type)                Output Shape              Param #   \n",
            "=================================================================\n",
            " input_3 (InputLayer)        [(None, 1)]               0         \n",
            "                                                                 \n",
            " char_vectorizer (TextVector  (None, 290)              0         \n",
            " ization)                                                        \n",
            "                                                                 \n",
            " char_embed (Embedding)      (None, 290, 25)           1750      \n",
            "                                                                 \n",
            " conv1d_1 (Conv1D)           (None, 290, 64)           8064      \n",
            "                                                                 \n",
            " global_max_pooling1d (Globa  (None, 64)               0         \n",
            " lMaxPooling1D)                                                  \n",
            "                                                                 \n",
            " dense_3 (Dense)             (None, 5)                 325       \n",
            "                                                                 \n",
            "=================================================================\n",
            "Total params: 10,139\n",
            "Trainable params: 10,139\n",
            "Non-trainable params: 0\n",
            "_________________________________________________________________\n"
          ]
        }
      ]
    },
    {
      "cell_type": "code",
      "source": [
        "# Create char datasets\n",
        "train_char_dataset = tf.data.Dataset.from_tensor_slices((train_chars, train_labels_one_hot)).batch(32).prefetch(tf.data.AUTOTUNE)\n",
        "val_char_dataset = tf.data.Dataset.from_tensor_slices((val_chars, val_labels_one_hot)).batch(32).prefetch(tf.data.AUTOTUNE)\n",
        "\n",
        "train_char_dataset"
      ],
      "metadata": {
        "colab": {
          "base_uri": "https://localhost:8080/"
        },
        "id": "4p6ZPOt7eoPG",
        "outputId": "45e74d3c-101f-4028-bc4b-3cc26684784c"
      },
      "execution_count": 67,
      "outputs": [
        {
          "output_type": "execute_result",
          "data": {
            "text/plain": [
              "<PrefetchDataset element_spec=(TensorSpec(shape=(None,), dtype=tf.string, name=None), TensorSpec(shape=(None, 5), dtype=tf.float64, name=None))>"
            ]
          },
          "metadata": {},
          "execution_count": 67
        }
      ]
    },
    {
      "cell_type": "code",
      "source": [
        "# Fit the model on chars only\n",
        "model_3_history = model_3.fit(train_char_dataset,\n",
        "                              steps_per_epoch=int(0.1 * len(train_char_dataset)),\n",
        "                              epochs=3,\n",
        "                              validation_data=val_char_dataset,\n",
        "                              validation_steps=int(0.1 * len(val_char_dataset)))"
      ],
      "metadata": {
        "colab": {
          "base_uri": "https://localhost:8080/"
        },
        "id": "7Du3ZXEfepxB",
        "outputId": "496bf389-a39b-4a65-9bf1-bd51780446b3"
      },
      "execution_count": 68,
      "outputs": [
        {
          "output_type": "stream",
          "name": "stdout",
          "text": [
            "Epoch 1/3\n",
            "562/562 [==============================] - 4s 5ms/step - loss: 1.2781 - accuracy: 0.4770 - val_loss: 1.0626 - val_accuracy: 0.5745\n",
            "Epoch 2/3\n",
            "562/562 [==============================] - 3s 5ms/step - loss: 1.0266 - accuracy: 0.5842 - val_loss: 0.9670 - val_accuracy: 0.6154\n",
            "Epoch 3/3\n",
            "562/562 [==============================] - 3s 5ms/step - loss: 0.9426 - accuracy: 0.6297 - val_loss: 0.8942 - val_accuracy: 0.6546\n"
          ]
        }
      ]
    },
    {
      "cell_type": "code",
      "source": [
        "# Evaluate model_3 on whole validation char dataset\n",
        "model_3.evaluate(val_char_dataset)"
      ],
      "metadata": {
        "colab": {
          "base_uri": "https://localhost:8080/"
        },
        "id": "ksgrnbSnerHm",
        "outputId": "e0d5143a-105b-4efd-f593-14fc9156884b"
      },
      "execution_count": 69,
      "outputs": [
        {
          "output_type": "stream",
          "name": "stdout",
          "text": [
            "945/945 [==============================] - 3s 3ms/step - loss: 0.8995 - accuracy: 0.6516\n"
          ]
        },
        {
          "output_type": "execute_result",
          "data": {
            "text/plain": [
              "[0.8995185494422913, 0.6515622735023499]"
            ]
          },
          "metadata": {},
          "execution_count": 69
        }
      ]
    },
    {
      "cell_type": "markdown",
      "source": [
        "Looks like our character-level model is working, let's make some predictions with it and evaluate them."
      ],
      "metadata": {
        "id": "yEPdQI3pese5"
      }
    },
    {
      "cell_type": "code",
      "source": [
        "# Make predictions with character model only\n",
        "model_3_pred_probs = model_3.predict(val_char_dataset)\n",
        "model_3_pred_probs"
      ],
      "metadata": {
        "colab": {
          "base_uri": "https://localhost:8080/"
        },
        "id": "X2MHEv6Aeufk",
        "outputId": "f1a152d7-a7c7-46f7-e627-666112ca7016"
      },
      "execution_count": 70,
      "outputs": [
        {
          "output_type": "stream",
          "name": "stdout",
          "text": [
            "945/945 [==============================] - 2s 3ms/step\n"
          ]
        },
        {
          "output_type": "execute_result",
          "data": {
            "text/plain": [
              "array([[0.18093143, 0.30013996, 0.10999444, 0.33701012, 0.07192402],\n",
              "       [0.09636791, 0.5466746 , 0.04378789, 0.14190237, 0.17126723],\n",
              "       [0.16460572, 0.21705887, 0.32217613, 0.14163809, 0.15452115],\n",
              "       ...,\n",
              "       [0.01565123, 0.04192215, 0.2115439 , 0.01702684, 0.71385586],\n",
              "       [0.01896763, 0.05031205, 0.2891763 , 0.02176097, 0.61978304],\n",
              "       [0.46726486, 0.23231007, 0.16648112, 0.10932557, 0.02461841]],\n",
              "      dtype=float32)"
            ]
          },
          "metadata": {},
          "execution_count": 70
        }
      ]
    },
    {
      "cell_type": "code",
      "source": [
        "# Convert predictions to classes\n",
        "model_3_preds = tf.argmax(model_3_pred_probs, axis=1)\n",
        "model_3_preds"
      ],
      "metadata": {
        "colab": {
          "base_uri": "https://localhost:8080/"
        },
        "id": "ZlBVQ97ZexAT",
        "outputId": "a5bd1c48-df81-493d-e9d5-4fa23c968d4c"
      },
      "execution_count": 71,
      "outputs": [
        {
          "output_type": "execute_result",
          "data": {
            "text/plain": [
              "<tf.Tensor: shape=(30212,), dtype=int64, numpy=array([3, 1, 2, ..., 4, 4, 0])>"
            ]
          },
          "metadata": {},
          "execution_count": 71
        }
      ]
    },
    {
      "cell_type": "code",
      "source": [
        "# Calculate Conv1D char only model results\n",
        "model_3_results = calculate_results(y_true=val_labels_encoded,\n",
        "                                        y_pred=model_3_preds)\n",
        "model_3_results"
      ],
      "metadata": {
        "colab": {
          "base_uri": "https://localhost:8080/"
        },
        "id": "BKqGPdXYey1q",
        "outputId": "df27a613-29ce-41f1-dfc7-dee69ad6838d"
      },
      "execution_count": 72,
      "outputs": [
        {
          "output_type": "execute_result",
          "data": {
            "text/plain": [
              "{'accuracy': 65.15622931285581,\n",
              " 'precision': 0.6486824064006347,\n",
              " 'recall': 0.6515622931285582,\n",
              " 'f1': 0.6384786566183259}"
            ]
          },
          "metadata": {},
          "execution_count": 72
        }
      ]
    },
    {
      "cell_type": "markdown",
      "source": [
        "## Model 4: Combining pretrained token embeddings + character embeddings (hybrid embedding layer)"
      ],
      "metadata": {
        "id": "-oxvMtRpe0F5"
      }
    },
    {
      "cell_type": "markdown",
      "source": [
        "Hybrid token embedding layer is a combination of token embeddings and character embeddings. In other words, they create a stacked embedding to represent sequences before passing them to the sequence label prediction layer.\n",
        "\n",
        "So far we've built two models which have used token and character-level embeddings, however, these two models have used each of these embeddings exclusively.\n",
        "\n",
        "To start replicating (or getting close to replicating) the model in Figure 1, we're going to go through the following steps:\n",
        "1. Create a token-level model (similar to `model_1`)\n",
        "2. Create a character-level model (similar to `model_3` with a slight modification to reflect the paper)\n",
        "3. Combine (using [`layers.Concatenate`](https://www.tensorflow.org/api_docs/python/tf/keras/layers/Concatenate)) the outputs of 1 and 2\n",
        "4. Build a series of output layers on top of 3 similar to Figure 1 and section 4.2 of [*Neural Networks for Joint Sentence Classification\n",
        "in Medical Paper Abstracts*](https://arxiv.org/pdf/1612.05251.pdf)\n",
        "5. Construct a model which takes token and character-level sequences as input and produces sequence label probabilities as output"
      ],
      "metadata": {
        "id": "IpkmynW0e6x1"
      }
    },
    {
      "cell_type": "code",
      "source": [
        "# 1. Setup token inputs/model\n",
        "token_inputs = layers.Input(shape=[], dtype=tf.string, name=\"token_input\")\n",
        "token_embeddings = tf_hub_embedding_layer(token_inputs)\n",
        "token_output = layers.Dense(128, activation=\"relu\")(token_embeddings)\n",
        "token_model = tf.keras.Model(inputs=token_inputs,\n",
        "                             outputs=token_output)\n",
        "\n",
        "# 2. Setup char inputs/model\n",
        "char_inputs = layers.Input(shape=(1,), dtype=tf.string, name=\"char_input\")\n",
        "char_vectors = char_vectorizer(char_inputs)\n",
        "char_embeddings = char_embed(char_vectors)\n",
        "char_bi_lstm = layers.Bidirectional(layers.LSTM(25))(char_embeddings) # bi-LSTM shown in Figure 1 of https://arxiv.org/pdf/1612.05251.pdf\n",
        "char_model = tf.keras.Model(inputs=char_inputs,\n",
        "                            outputs=char_bi_lstm)\n",
        "\n",
        "# 3. Concatenate token and char inputs (create hybrid token embedding)\n",
        "token_char_concat = layers.Concatenate(name=\"token_char_hybrid\")([token_model.output, \n",
        "                                                                  char_model.output])\n",
        "\n",
        "# 4. Create output layers - addition of dropout discussed in 4.2 of https://arxiv.org/pdf/1612.05251.pdf\n",
        "combined_dropout = layers.Dropout(0.5)(token_char_concat)\n",
        "combined_dense = layers.Dense(200, activation=\"relu\")(combined_dropout) # slightly different to Figure 1 due to different shapes of token/char embedding layers\n",
        "final_dropout = layers.Dropout(0.5)(combined_dense)\n",
        "output_layer = layers.Dense(num_classes, activation=\"softmax\")(final_dropout)\n",
        "\n",
        "# 5. Construct model with char and token inputs\n",
        "model_4 = tf.keras.Model(inputs=[token_model.input, char_model.input],\n",
        "                         outputs=output_layer,\n",
        "                         name=\"model_4_token_and_char_embeddings\")"
      ],
      "metadata": {
        "id": "gPXLO6REfDhj"
      },
      "execution_count": 73,
      "outputs": []
    },
    {
      "cell_type": "code",
      "source": [
        "# Get summary of token and character model\n",
        "model_4.summary()"
      ],
      "metadata": {
        "colab": {
          "base_uri": "https://localhost:8080/"
        },
        "id": "Y6y9NqfifGhV",
        "outputId": "3b04c813-270b-4df0-b62a-e6fc305a198e"
      },
      "execution_count": 74,
      "outputs": [
        {
          "output_type": "stream",
          "name": "stdout",
          "text": [
            "Model: \"model_4_token_and_char_embeddings\"\n",
            "__________________________________________________________________________________________________\n",
            " Layer (type)                   Output Shape         Param #     Connected to                     \n",
            "==================================================================================================\n",
            " char_input (InputLayer)        [(None, 1)]          0           []                               \n",
            "                                                                                                  \n",
            " token_input (InputLayer)       [(None,)]            0           []                               \n",
            "                                                                                                  \n",
            " char_vectorizer (TextVectoriza  (None, 290)         0           ['char_input[0][0]']             \n",
            " tion)                                                                                            \n",
            "                                                                                                  \n",
            " universal_sentence_encoder (Ke  (None, 512)         256797824   ['token_input[0][0]']            \n",
            " rasLayer)                                                                                        \n",
            "                                                                                                  \n",
            " char_embed (Embedding)         (None, 290, 25)      1750        ['char_vectorizer[1][0]']        \n",
            "                                                                                                  \n",
            " dense_4 (Dense)                (None, 128)          65664       ['universal_sentence_encoder[1][0\n",
            "                                                                 ]']                              \n",
            "                                                                                                  \n",
            " bidirectional (Bidirectional)  (None, 50)           10200       ['char_embed[1][0]']             \n",
            "                                                                                                  \n",
            " token_char_hybrid (Concatenate  (None, 178)         0           ['dense_4[0][0]',                \n",
            " )                                                                'bidirectional[0][0]']          \n",
            "                                                                                                  \n",
            " dropout (Dropout)              (None, 178)          0           ['token_char_hybrid[0][0]']      \n",
            "                                                                                                  \n",
            " dense_5 (Dense)                (None, 200)          35800       ['dropout[0][0]']                \n",
            "                                                                                                  \n",
            " dropout_1 (Dropout)            (None, 200)          0           ['dense_5[0][0]']                \n",
            "                                                                                                  \n",
            " dense_6 (Dense)                (None, 5)            1005        ['dropout_1[0][0]']              \n",
            "                                                                                                  \n",
            "==================================================================================================\n",
            "Total params: 256,912,243\n",
            "Trainable params: 114,419\n",
            "Non-trainable params: 256,797,824\n",
            "__________________________________________________________________________________________________\n"
          ]
        }
      ]
    },
    {
      "cell_type": "code",
      "source": [
        "# Plot hybrid token and character model\n",
        "from tensorflow.keras.utils import plot_model\n",
        "plot_model(model_4)"
      ],
      "metadata": {
        "colab": {
          "base_uri": "https://localhost:8080/",
          "height": 856
        },
        "id": "eBO5wYAufIL2",
        "outputId": "93be0ffd-359e-4643-f791-40e1724313ef"
      },
      "execution_count": 75,
      "outputs": [
        {
          "output_type": "execute_result",
          "data": {
            "image/png": "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\n",
            "text/plain": [
              "<IPython.core.display.Image object>"
            ]
          },
          "metadata": {},
          "execution_count": 75
        }
      ]
    },
    {
      "cell_type": "code",
      "source": [
        "# Compile token char model\n",
        "model_4.compile(loss=\"categorical_crossentropy\",\n",
        "                optimizer=tf.keras.optimizers.Adam(), # section 4.2 of https://arxiv.org/pdf/1612.05251.pdf mentions using SGD but we'll stick with Adam\n",
        "                metrics=[\"accuracy\"])"
      ],
      "metadata": {
        "id": "Q5TfBxxufKz-"
      },
      "execution_count": 76,
      "outputs": []
    },
    {
      "cell_type": "markdown",
      "source": [
        "We'll fit our token-character-hybrid model on 10% of training and validate on 10% of validation batches. However, the difference with this model is that it requires two inputs, token-level sequences and character-level sequences.\n",
        "\n",
        "We can do this by create a `tf.data.Dataset` with a tuple as it's first input, for example:\n",
        "* `((token_data, char_data), (label))`\n",
        "\n",
        "### Combining token and character data into a `tf.data` dataset"
      ],
      "metadata": {
        "id": "phovHHSafWjf"
      }
    },
    {
      "cell_type": "code",
      "source": [
        "# Combine chars and tokens into a dataset\n",
        "train_char_token_data = tf.data.Dataset.from_tensor_slices((train_sentences, train_chars)) # make data\n",
        "train_char_token_labels = tf.data.Dataset.from_tensor_slices(train_labels_one_hot) # make labels\n",
        "train_char_token_dataset = tf.data.Dataset.zip((train_char_token_data, train_char_token_labels)) # combine data and labels\n",
        "\n",
        "# Prefetch and batch train data\n",
        "train_char_token_dataset = train_char_token_dataset.batch(32).prefetch(tf.data.AUTOTUNE) \n",
        "\n",
        "# Repeat same steps validation data\n",
        "val_char_token_data = tf.data.Dataset.from_tensor_slices((val_sentences, val_chars))\n",
        "val_char_token_labels = tf.data.Dataset.from_tensor_slices(val_labels_one_hot)\n",
        "val_char_token_dataset = tf.data.Dataset.zip((val_char_token_data, val_char_token_labels))\n",
        "val_char_token_dataset = val_char_token_dataset.batch(32).prefetch(tf.data.AUTOTUNE)"
      ],
      "metadata": {
        "id": "tA2LWav8fak-"
      },
      "execution_count": 77,
      "outputs": []
    },
    {
      "cell_type": "code",
      "source": [
        "# Check out training char and token embedding dataset\n",
        "train_char_token_dataset, val_char_token_dataset"
      ],
      "metadata": {
        "colab": {
          "base_uri": "https://localhost:8080/"
        },
        "id": "3mmTgaWsfep-",
        "outputId": "9cc9cb5c-581b-4b00-ae01-41b9d19f7423"
      },
      "execution_count": 78,
      "outputs": [
        {
          "output_type": "execute_result",
          "data": {
            "text/plain": [
              "(<PrefetchDataset element_spec=((TensorSpec(shape=(None,), dtype=tf.string, name=None), TensorSpec(shape=(None,), dtype=tf.string, name=None)), TensorSpec(shape=(None, 5), dtype=tf.float64, name=None))>,\n",
              " <PrefetchDataset element_spec=((TensorSpec(shape=(None,), dtype=tf.string, name=None), TensorSpec(shape=(None,), dtype=tf.string, name=None)), TensorSpec(shape=(None, 5), dtype=tf.float64, name=None))>)"
            ]
          },
          "metadata": {},
          "execution_count": 78
        }
      ]
    },
    {
      "cell_type": "code",
      "source": [
        "# Fit the model on tokens and chars\n",
        "model_4_history = model_4.fit(train_char_token_dataset, # train on dataset of token and characters\n",
        "                              steps_per_epoch=int(0.1 * len(train_char_token_dataset)),\n",
        "                              epochs=3,\n",
        "                              validation_data=val_char_token_dataset,\n",
        "                              validation_steps=int(0.1 * len(val_char_token_dataset)))"
      ],
      "metadata": {
        "colab": {
          "base_uri": "https://localhost:8080/"
        },
        "id": "kX_T75NOfhIz",
        "outputId": "0f34cc11-c831-461c-bf8d-8c73c30daa2c"
      },
      "execution_count": 79,
      "outputs": [
        {
          "output_type": "stream",
          "name": "stdout",
          "text": [
            "Epoch 1/3\n",
            "562/562 [==============================] - 25s 36ms/step - loss: 0.9677 - accuracy: 0.6145 - val_loss: 0.7807 - val_accuracy: 0.6978\n",
            "Epoch 2/3\n",
            "562/562 [==============================] - 25s 44ms/step - loss: 0.7980 - accuracy: 0.6923 - val_loss: 0.7187 - val_accuracy: 0.7274\n",
            "Epoch 3/3\n",
            "562/562 [==============================] - 19s 34ms/step - loss: 0.7653 - accuracy: 0.7097 - val_loss: 0.6889 - val_accuracy: 0.7387\n"
          ]
        }
      ]
    },
    {
      "cell_type": "code",
      "source": [
        "# Evaluate on the whole validation dataset\n",
        "model_4.evaluate(val_char_token_dataset)"
      ],
      "metadata": {
        "colab": {
          "base_uri": "https://localhost:8080/"
        },
        "id": "nWR4zeNFfiY6",
        "outputId": "57d3cefd-d338-4d34-fea7-90f504111ba0"
      },
      "execution_count": 80,
      "outputs": [
        {
          "output_type": "stream",
          "name": "stdout",
          "text": [
            "945/945 [==============================] - 23s 24ms/step - loss: 0.6929 - accuracy: 0.7364\n"
          ]
        },
        {
          "output_type": "execute_result",
          "data": {
            "text/plain": [
              "[0.692940354347229, 0.7363961338996887]"
            ]
          },
          "metadata": {},
          "execution_count": 80
        }
      ]
    },
    {
      "cell_type": "code",
      "source": [
        "# Make predictions using the token-character model hybrid\n",
        "model_4_pred_probs = model_4.predict(val_char_token_dataset)\n",
        "model_4_pred_probs"
      ],
      "metadata": {
        "colab": {
          "base_uri": "https://localhost:8080/"
        },
        "id": "VjqwClSXfk7m",
        "outputId": "3ab0daab-98d4-43a5-f95e-01e6d0df729d"
      },
      "execution_count": 81,
      "outputs": [
        {
          "output_type": "stream",
          "name": "stdout",
          "text": [
            "945/945 [==============================] - 19s 19ms/step\n"
          ]
        },
        {
          "output_type": "execute_result",
          "data": {
            "text/plain": [
              "array([[4.51018035e-01, 3.67837816e-01, 3.52559495e-03, 1.69857845e-01,\n",
              "        7.76073802e-03],\n",
              "       [3.95079613e-01, 4.25231487e-01, 3.19512980e-03, 1.74147606e-01,\n",
              "        2.34617316e-03],\n",
              "       [3.12362492e-01, 1.20126843e-01, 5.36035337e-02, 4.74134207e-01,\n",
              "        3.97729687e-02],\n",
              "       ...,\n",
              "       [5.05215314e-04, 1.02673825e-02, 7.42799118e-02, 2.30145291e-04,\n",
              "        9.14717376e-01],\n",
              "       [3.33082862e-03, 4.95493896e-02, 1.27317578e-01, 1.35116035e-03,\n",
              "        8.18450987e-01],\n",
              "       [2.92500108e-01, 3.40475678e-01, 3.06563973e-01, 2.97127441e-02,\n",
              "        3.07475068e-02]], dtype=float32)"
            ]
          },
          "metadata": {},
          "execution_count": 81
        }
      ]
    },
    {
      "cell_type": "code",
      "source": [
        "# Turn prediction probabilities into prediction classes\n",
        "model_4_preds = tf.argmax(model_4_pred_probs, axis=1)\n",
        "model_4_preds"
      ],
      "metadata": {
        "colab": {
          "base_uri": "https://localhost:8080/"
        },
        "id": "NVwF5Na0fmjg",
        "outputId": "7813f707-81e8-4680-bc19-9951ed5b1169"
      },
      "execution_count": 82,
      "outputs": [
        {
          "output_type": "execute_result",
          "data": {
            "text/plain": [
              "<tf.Tensor: shape=(30212,), dtype=int64, numpy=array([0, 1, 3, ..., 4, 4, 1])>"
            ]
          },
          "metadata": {},
          "execution_count": 82
        }
      ]
    },
    {
      "cell_type": "code",
      "source": [
        "# Get results of token-char-hybrid model\n",
        "model_4_results = calculate_results(y_true=val_labels_encoded,\n",
        "                                    y_pred=model_4_preds)\n",
        "model_4_results"
      ],
      "metadata": {
        "colab": {
          "base_uri": "https://localhost:8080/"
        },
        "id": "DkbyH1AMfn5p",
        "outputId": "cdb4edcc-aef8-4841-9ded-06c019e072f2"
      },
      "execution_count": 83,
      "outputs": [
        {
          "output_type": "execute_result",
          "data": {
            "text/plain": [
              "{'accuracy': 73.63961339864954,\n",
              " 'precision': 0.7355467677970425,\n",
              " 'recall': 0.7363961339864954,\n",
              " 'f1': 0.7342811712752148}"
            ]
          },
          "metadata": {},
          "execution_count": 83
        }
      ]
    },
    {
      "cell_type": "markdown",
      "source": [
        "## Model 5: Transfer Learning with pretrained token embeddings + character embeddings + positional embeddings \n",
        "\n",
        "It seems like combining token embeddings and character embeddings gave our model a little performance boost.\n",
        "\n",
        "\n",
        "\n",
        "What if we engineered our own features into the model?\n",
        "\n",
        "Meaning, what if we took our own knowledge about the data and encoded it in a numerical way to give our model more information about our samples?\n",
        "\n",
        "The process of applying your own knowledge to build features as input to a model is called **feature engineering**.\n",
        "\n",
        "\n",
        "\n",
        "Doing this led to the `\"line_number\"` and `\"total_lines\"` columns of our DataFrames."
      ],
      "metadata": {
        "id": "wrp4DRO8fpli"
      }
    },
    {
      "cell_type": "code",
      "source": [
        "# Inspect training dataframe\n",
        "train_df.head()"
      ],
      "metadata": {
        "colab": {
          "base_uri": "https://localhost:8080/",
          "height": 206
        },
        "id": "yQtBe6QMgBAc",
        "outputId": "ffa5b145-1a79-4633-aa96-47e5866ab369"
      },
      "execution_count": 84,
      "outputs": [
        {
          "output_type": "execute_result",
          "data": {
            "text/plain": [
              "      target                                               text  line_number  \\\n",
              "0  OBJECTIVE  to investigate the efficacy of @ weeks of dail...            0   \n",
              "1    METHODS  a total of @ patients with primary knee oa wer...            1   \n",
              "2    METHODS  outcome measures included pain reduction and i...            2   \n",
              "3    METHODS  pain was assessed using the visual analog pain...            3   \n",
              "4    METHODS  secondary outcome measures included the wester...            4   \n",
              "\n",
              "   total_lines  \n",
              "0           11  \n",
              "1           11  \n",
              "2           11  \n",
              "3           11  \n",
              "4           11  "
            ],
            "text/html": [
              "\n",
              "  <div id=\"df-01b6ea61-2ee7-45a8-9eb0-4d078049307a\">\n",
              "    <div class=\"colab-df-container\">\n",
              "      <div>\n",
              "<style scoped>\n",
              "    .dataframe tbody tr th:only-of-type {\n",
              "        vertical-align: middle;\n",
              "    }\n",
              "\n",
              "    .dataframe tbody tr th {\n",
              "        vertical-align: top;\n",
              "    }\n",
              "\n",
              "    .dataframe thead th {\n",
              "        text-align: right;\n",
              "    }\n",
              "</style>\n",
              "<table border=\"1\" class=\"dataframe\">\n",
              "  <thead>\n",
              "    <tr style=\"text-align: right;\">\n",
              "      <th></th>\n",
              "      <th>target</th>\n",
              "      <th>text</th>\n",
              "      <th>line_number</th>\n",
              "      <th>total_lines</th>\n",
              "    </tr>\n",
              "  </thead>\n",
              "  <tbody>\n",
              "    <tr>\n",
              "      <th>0</th>\n",
              "      <td>OBJECTIVE</td>\n",
              "      <td>to investigate the efficacy of @ weeks of dail...</td>\n",
              "      <td>0</td>\n",
              "      <td>11</td>\n",
              "    </tr>\n",
              "    <tr>\n",
              "      <th>1</th>\n",
              "      <td>METHODS</td>\n",
              "      <td>a total of @ patients with primary knee oa wer...</td>\n",
              "      <td>1</td>\n",
              "      <td>11</td>\n",
              "    </tr>\n",
              "    <tr>\n",
              "      <th>2</th>\n",
              "      <td>METHODS</td>\n",
              "      <td>outcome measures included pain reduction and i...</td>\n",
              "      <td>2</td>\n",
              "      <td>11</td>\n",
              "    </tr>\n",
              "    <tr>\n",
              "      <th>3</th>\n",
              "      <td>METHODS</td>\n",
              "      <td>pain was assessed using the visual analog pain...</td>\n",
              "      <td>3</td>\n",
              "      <td>11</td>\n",
              "    </tr>\n",
              "    <tr>\n",
              "      <th>4</th>\n",
              "      <td>METHODS</td>\n",
              "      <td>secondary outcome measures included the wester...</td>\n",
              "      <td>4</td>\n",
              "      <td>11</td>\n",
              "    </tr>\n",
              "  </tbody>\n",
              "</table>\n",
              "</div>\n",
              "      <button class=\"colab-df-convert\" onclick=\"convertToInteractive('df-01b6ea61-2ee7-45a8-9eb0-4d078049307a')\"\n",
              "              title=\"Convert this dataframe to an interactive table.\"\n",
              "              style=\"display:none;\">\n",
              "        \n",
              "  <svg xmlns=\"http://www.w3.org/2000/svg\" height=\"24px\"viewBox=\"0 0 24 24\"\n",
              "       width=\"24px\">\n",
              "    <path d=\"M0 0h24v24H0V0z\" fill=\"none\"/>\n",
              "    <path d=\"M18.56 5.44l.94 2.06.94-2.06 2.06-.94-2.06-.94-.94-2.06-.94 2.06-2.06.94zm-11 1L8.5 8.5l.94-2.06 2.06-.94-2.06-.94L8.5 2.5l-.94 2.06-2.06.94zm10 10l.94 2.06.94-2.06 2.06-.94-2.06-.94-.94-2.06-.94 2.06-2.06.94z\"/><path d=\"M17.41 7.96l-1.37-1.37c-.4-.4-.92-.59-1.43-.59-.52 0-1.04.2-1.43.59L10.3 9.45l-7.72 7.72c-.78.78-.78 2.05 0 2.83L4 21.41c.39.39.9.59 1.41.59.51 0 1.02-.2 1.41-.59l7.78-7.78 2.81-2.81c.8-.78.8-2.07 0-2.86zM5.41 20L4 18.59l7.72-7.72 1.47 1.35L5.41 20z\"/>\n",
              "  </svg>\n",
              "      </button>\n",
              "      \n",
              "  <style>\n",
              "    .colab-df-container {\n",
              "      display:flex;\n",
              "      flex-wrap:wrap;\n",
              "      gap: 12px;\n",
              "    }\n",
              "\n",
              "    .colab-df-convert {\n",
              "      background-color: #E8F0FE;\n",
              "      border: none;\n",
              "      border-radius: 50%;\n",
              "      cursor: pointer;\n",
              "      display: none;\n",
              "      fill: #1967D2;\n",
              "      height: 32px;\n",
              "      padding: 0 0 0 0;\n",
              "      width: 32px;\n",
              "    }\n",
              "\n",
              "    .colab-df-convert:hover {\n",
              "      background-color: #E2EBFA;\n",
              "      box-shadow: 0px 1px 2px rgba(60, 64, 67, 0.3), 0px 1px 3px 1px rgba(60, 64, 67, 0.15);\n",
              "      fill: #174EA6;\n",
              "    }\n",
              "\n",
              "    [theme=dark] .colab-df-convert {\n",
              "      background-color: #3B4455;\n",
              "      fill: #D2E3FC;\n",
              "    }\n",
              "\n",
              "    [theme=dark] .colab-df-convert:hover {\n",
              "      background-color: #434B5C;\n",
              "      box-shadow: 0px 1px 3px 1px rgba(0, 0, 0, 0.15);\n",
              "      filter: drop-shadow(0px 1px 2px rgba(0, 0, 0, 0.3));\n",
              "      fill: #FFFFFF;\n",
              "    }\n",
              "  </style>\n",
              "\n",
              "      <script>\n",
              "        const buttonEl =\n",
              "          document.querySelector('#df-01b6ea61-2ee7-45a8-9eb0-4d078049307a button.colab-df-convert');\n",
              "        buttonEl.style.display =\n",
              "          google.colab.kernel.accessAllowed ? 'block' : 'none';\n",
              "\n",
              "        async function convertToInteractive(key) {\n",
              "          const element = document.querySelector('#df-01b6ea61-2ee7-45a8-9eb0-4d078049307a');\n",
              "          const dataTable =\n",
              "            await google.colab.kernel.invokeFunction('convertToInteractive',\n",
              "                                                     [key], {});\n",
              "          if (!dataTable) return;\n",
              "\n",
              "          const docLinkHtml = 'Like what you see? Visit the ' +\n",
              "            '<a target=\"_blank\" href=https://colab.research.google.com/notebooks/data_table.ipynb>data table notebook</a>'\n",
              "            + ' to learn more about interactive tables.';\n",
              "          element.innerHTML = '';\n",
              "          dataTable['output_type'] = 'display_data';\n",
              "          await google.colab.output.renderOutput(dataTable, element);\n",
              "          const docLink = document.createElement('div');\n",
              "          docLink.innerHTML = docLinkHtml;\n",
              "          element.appendChild(docLink);\n",
              "        }\n",
              "      </script>\n",
              "    </div>\n",
              "  </div>\n",
              "  "
            ]
          },
          "metadata": {},
          "execution_count": 84
        }
      ]
    },
    {
      "cell_type": "markdown",
      "source": [
        "The `\"line_number\"` and `\"total_lines\"` columns are features which didn't necessarily come with the training data but can be passed to our model as a **positional embedding**. In other words, the positional embedding is where the sentence appears in an abstract.\n",
        "\n",
        "We can use these features because they will be available at test time. \n",
        "\n",
        "\n",
        "\n",
        "Meaning, if we were to predict the labels of sequences in an abstract our model had never seen, we could count the number of lines and the track the position of each individual line and pass it to our model.\n",
        "\n"
      ],
      "metadata": {
        "id": "1CShO0B6gCuF"
      }
    },
    {
      "cell_type": "markdown",
      "source": [
        "### Create positional embeddings"
      ],
      "metadata": {
        "id": "jr6LzySxgKQw"
      }
    },
    {
      "cell_type": "code",
      "source": [
        "# How many different line numbers are there?\n",
        "train_df[\"line_number\"].value_counts()"
      ],
      "metadata": {
        "colab": {
          "base_uri": "https://localhost:8080/"
        },
        "id": "Fb6a2eZNgTlR",
        "outputId": "079ae6fa-8fe9-44f9-ef88-05cd171bc26c"
      },
      "execution_count": 85,
      "outputs": [
        {
          "output_type": "execute_result",
          "data": {
            "text/plain": [
              "0     15000\n",
              "1     15000\n",
              "2     15000\n",
              "3     15000\n",
              "4     14992\n",
              "5     14949\n",
              "6     14758\n",
              "7     14279\n",
              "8     13346\n",
              "9     11981\n",
              "10    10041\n",
              "11     7892\n",
              "12     5853\n",
              "13     4152\n",
              "14     2835\n",
              "15     1861\n",
              "16     1188\n",
              "17      751\n",
              "18      462\n",
              "19      286\n",
              "20      162\n",
              "21      101\n",
              "22       66\n",
              "23       33\n",
              "24       22\n",
              "25       14\n",
              "26        7\n",
              "27        4\n",
              "28        3\n",
              "29        1\n",
              "30        1\n",
              "Name: line_number, dtype: int64"
            ]
          },
          "metadata": {},
          "execution_count": 85
        }
      ]
    },
    {
      "cell_type": "code",
      "source": [
        "# Check the distribution of \"line_number\" column\n",
        "train_df.line_number.plot.hist()\n"
      ],
      "metadata": {
        "colab": {
          "base_uri": "https://localhost:8080/",
          "height": 282
        },
        "id": "RZbJj6omgVuW",
        "outputId": "b9ba0316-1022-4ddc-dc96-3aa469a9db14"
      },
      "execution_count": 86,
      "outputs": [
        {
          "output_type": "execute_result",
          "data": {
            "text/plain": [
              "<matplotlib.axes._subplots.AxesSubplot at 0x7fb76fbfae90>"
            ]
          },
          "metadata": {},
          "execution_count": 86
        },
        {
          "output_type": "display_data",
          "data": {
            "text/plain": [
              "<Figure size 432x288 with 1 Axes>"
            ],
            "image/png": "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\n"
          },
          "metadata": {
            "needs_background": "light"
          }
        }
      ]
    },
    {
      "cell_type": "markdown",
      "source": [
        "Looking at the distribution of the `\"line_number\"` column, it looks like the majority of lines have a position of 15 or less.\n",
        "\n",
        "Knowing this, let's set the `depth` parameter of `tf.one_hot` to 15."
      ],
      "metadata": {
        "id": "KQeHlb94gYvb"
      }
    },
    {
      "cell_type": "code",
      "source": [
        "# Use TensorFlow to create one-hot-encoded tensors of our \"line_number\" column \n",
        "train_line_numbers_one_hot = tf.one_hot(train_df[\"line_number\"].to_numpy(), depth=15)\n",
        "val_line_numbers_one_hot = tf.one_hot(val_df[\"line_number\"].to_numpy(), depth=15)\n",
        "test_line_numbers_one_hot = tf.one_hot(test_df[\"line_number\"].to_numpy(), depth=15)"
      ],
      "metadata": {
        "id": "IV5piRI3gbN_"
      },
      "execution_count": 87,
      "outputs": []
    },
    {
      "cell_type": "markdown",
      "source": [
        "Setting the `depth` parameter of `tf.one_hot` to 15 means any sample with a `\"line_number\"` value of over 15 gets set to a tensor of all 0's, where as any sample with a `\"line_number\"` of under 15 gets turned into a tensor of all 0's but with a 1 at the index equal to the `\"line_number\"` value."
      ],
      "metadata": {
        "id": "gheOa6khgdeY"
      }
    },
    {
      "cell_type": "code",
      "source": [
        "# Check one-hot encoded \"line_number\" feature samples\n",
        "train_line_numbers_one_hot.shape, train_line_numbers_one_hot[:20]"
      ],
      "metadata": {
        "colab": {
          "base_uri": "https://localhost:8080/"
        },
        "id": "H3P3hlbugf-8",
        "outputId": "be4b4f58-af13-4a49-9e97-f99313666eb7"
      },
      "execution_count": 88,
      "outputs": [
        {
          "output_type": "execute_result",
          "data": {
            "text/plain": [
              "(TensorShape([180040, 15]), <tf.Tensor: shape=(20, 15), dtype=float32, numpy=\n",
              " array([[1., 0., 0., 0., 0., 0., 0., 0., 0., 0., 0., 0., 0., 0., 0.],\n",
              "        [0., 1., 0., 0., 0., 0., 0., 0., 0., 0., 0., 0., 0., 0., 0.],\n",
              "        [0., 0., 1., 0., 0., 0., 0., 0., 0., 0., 0., 0., 0., 0., 0.],\n",
              "        [0., 0., 0., 1., 0., 0., 0., 0., 0., 0., 0., 0., 0., 0., 0.],\n",
              "        [0., 0., 0., 0., 1., 0., 0., 0., 0., 0., 0., 0., 0., 0., 0.],\n",
              "        [0., 0., 0., 0., 0., 1., 0., 0., 0., 0., 0., 0., 0., 0., 0.],\n",
              "        [0., 0., 0., 0., 0., 0., 1., 0., 0., 0., 0., 0., 0., 0., 0.],\n",
              "        [0., 0., 0., 0., 0., 0., 0., 1., 0., 0., 0., 0., 0., 0., 0.],\n",
              "        [0., 0., 0., 0., 0., 0., 0., 0., 1., 0., 0., 0., 0., 0., 0.],\n",
              "        [0., 0., 0., 0., 0., 0., 0., 0., 0., 1., 0., 0., 0., 0., 0.],\n",
              "        [0., 0., 0., 0., 0., 0., 0., 0., 0., 0., 1., 0., 0., 0., 0.],\n",
              "        [0., 0., 0., 0., 0., 0., 0., 0., 0., 0., 0., 1., 0., 0., 0.],\n",
              "        [1., 0., 0., 0., 0., 0., 0., 0., 0., 0., 0., 0., 0., 0., 0.],\n",
              "        [0., 1., 0., 0., 0., 0., 0., 0., 0., 0., 0., 0., 0., 0., 0.],\n",
              "        [0., 0., 1., 0., 0., 0., 0., 0., 0., 0., 0., 0., 0., 0., 0.],\n",
              "        [0., 0., 0., 1., 0., 0., 0., 0., 0., 0., 0., 0., 0., 0., 0.],\n",
              "        [0., 0., 0., 0., 1., 0., 0., 0., 0., 0., 0., 0., 0., 0., 0.],\n",
              "        [0., 0., 0., 0., 0., 1., 0., 0., 0., 0., 0., 0., 0., 0., 0.],\n",
              "        [0., 0., 0., 0., 0., 0., 1., 0., 0., 0., 0., 0., 0., 0., 0.],\n",
              "        [0., 0., 0., 0., 0., 0., 0., 1., 0., 0., 0., 0., 0., 0., 0.]],\n",
              "       dtype=float32)>)"
            ]
          },
          "metadata": {},
          "execution_count": 88
        }
      ]
    },
    {
      "cell_type": "markdown",
      "source": [
        "We can do the same as we've done for our `\"line_number\"` column witht he `\"total_lines\"` column. First, let's find an appropriate value for the `depth` parameter of `tf.one_hot`."
      ],
      "metadata": {
        "id": "7nAcEwPwgjcy"
      }
    },
    {
      "cell_type": "code",
      "source": [
        "# How many different numbers of lines are there?\n",
        "train_df[\"total_lines\"].value_counts()"
      ],
      "metadata": {
        "colab": {
          "base_uri": "https://localhost:8080/"
        },
        "id": "v8qhhrL7glyN",
        "outputId": "f502ba02-ba85-4962-be9a-266d0574db9c"
      },
      "execution_count": 89,
      "outputs": [
        {
          "output_type": "execute_result",
          "data": {
            "text/plain": [
              "11    24468\n",
              "10    23639\n",
              "12    22113\n",
              "9     19400\n",
              "13    18438\n",
              "14    14610\n",
              "8     12285\n",
              "15    10768\n",
              "7      7464\n",
              "16     7429\n",
              "17     5202\n",
              "6      3353\n",
              "18     3344\n",
              "19     2480\n",
              "20     1281\n",
              "5      1146\n",
              "21      770\n",
              "22      759\n",
              "23      264\n",
              "4       215\n",
              "24      200\n",
              "25      182\n",
              "26       81\n",
              "28       58\n",
              "3        32\n",
              "30       31\n",
              "27       28\n",
              "Name: total_lines, dtype: int64"
            ]
          },
          "metadata": {},
          "execution_count": 89
        }
      ]
    },
    {
      "cell_type": "code",
      "source": [
        "# Check the distribution of total lines\n",
        "train_df.total_lines.plot.hist();"
      ],
      "metadata": {
        "colab": {
          "base_uri": "https://localhost:8080/",
          "height": 267
        },
        "id": "HGLpDhLZgnha",
        "outputId": "bcba0a5c-4137-4e8c-e0fc-207476a03dd1"
      },
      "execution_count": 90,
      "outputs": [
        {
          "output_type": "display_data",
          "data": {
            "text/plain": [
              "<Figure size 432x288 with 1 Axes>"
            ],
            "image/png": "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\n"
          },
          "metadata": {
            "needs_background": "light"
          }
        }
      ]
    },
    {
      "cell_type": "code",
      "source": [
        "# Check the coverage of a \"total_lines\" value of 20\n",
        "np.percentile(train_df.total_lines, 98) # a value of 20 covers 98% of samples"
      ],
      "metadata": {
        "colab": {
          "base_uri": "https://localhost:8080/"
        },
        "id": "V6X63E0sgqzM",
        "outputId": "ff2a1b45-bb84-4186-c174-5e817967d758"
      },
      "execution_count": 91,
      "outputs": [
        {
          "output_type": "execute_result",
          "data": {
            "text/plain": [
              "20.0"
            ]
          },
          "metadata": {},
          "execution_count": 91
        }
      ]
    },
    {
      "cell_type": "code",
      "source": [
        "# Use TensorFlow to create one-hot-encoded tensors of our \"total_lines\" column \n",
        "train_total_lines_one_hot = tf.one_hot(train_df[\"total_lines\"].to_numpy(), depth=20)\n",
        "val_total_lines_one_hot = tf.one_hot(val_df[\"total_lines\"].to_numpy(), depth=20)\n",
        "test_total_lines_one_hot = tf.one_hot(test_df[\"total_lines\"].to_numpy(), depth=20)\n",
        "\n",
        "# Check shape and samples of total lines one-hot tensor\n",
        "train_total_lines_one_hot.shape, train_total_lines_one_hot[:10]"
      ],
      "metadata": {
        "colab": {
          "base_uri": "https://localhost:8080/"
        },
        "id": "WCYHiRZvgseB",
        "outputId": "d1538d4e-3a50-43aa-cc18-979bf8965f55"
      },
      "execution_count": 92,
      "outputs": [
        {
          "output_type": "execute_result",
          "data": {
            "text/plain": [
              "(TensorShape([180040, 20]), <tf.Tensor: shape=(10, 20), dtype=float32, numpy=\n",
              " array([[0., 0., 0., 0., 0., 0., 0., 0., 0., 0., 0., 1., 0., 0., 0., 0.,\n",
              "         0., 0., 0., 0.],\n",
              "        [0., 0., 0., 0., 0., 0., 0., 0., 0., 0., 0., 1., 0., 0., 0., 0.,\n",
              "         0., 0., 0., 0.],\n",
              "        [0., 0., 0., 0., 0., 0., 0., 0., 0., 0., 0., 1., 0., 0., 0., 0.,\n",
              "         0., 0., 0., 0.],\n",
              "        [0., 0., 0., 0., 0., 0., 0., 0., 0., 0., 0., 1., 0., 0., 0., 0.,\n",
              "         0., 0., 0., 0.],\n",
              "        [0., 0., 0., 0., 0., 0., 0., 0., 0., 0., 0., 1., 0., 0., 0., 0.,\n",
              "         0., 0., 0., 0.],\n",
              "        [0., 0., 0., 0., 0., 0., 0., 0., 0., 0., 0., 1., 0., 0., 0., 0.,\n",
              "         0., 0., 0., 0.],\n",
              "        [0., 0., 0., 0., 0., 0., 0., 0., 0., 0., 0., 1., 0., 0., 0., 0.,\n",
              "         0., 0., 0., 0.],\n",
              "        [0., 0., 0., 0., 0., 0., 0., 0., 0., 0., 0., 1., 0., 0., 0., 0.,\n",
              "         0., 0., 0., 0.],\n",
              "        [0., 0., 0., 0., 0., 0., 0., 0., 0., 0., 0., 1., 0., 0., 0., 0.,\n",
              "         0., 0., 0., 0.],\n",
              "        [0., 0., 0., 0., 0., 0., 0., 0., 0., 0., 0., 1., 0., 0., 0., 0.,\n",
              "         0., 0., 0., 0.]], dtype=float32)>)"
            ]
          },
          "metadata": {},
          "execution_count": 92
        }
      ]
    },
    {
      "cell_type": "markdown",
      "source": [
        "### Building a tribrid embedding model\n",
        "\n",
        "\n",
        "\n",
        "Specifically we're going to go through the following steps:\n",
        "\n",
        "1. Create a token-level model (similar to `model_1`)\n",
        "2. Create a character-level model (similar to `model_3` with a slight modification to reflect the paper)\n",
        "3. Create a `\"line_number\"` model (takes in one-hot-encoded `\"line_number\"` tensor and passes it through a non-linear layer)\n",
        "4. Create a `\"total_lines\"` model (takes in one-hot-encoded `\"total_lines\"` tensor and passes it through a non-linear layer)\n",
        "5. Combine (using [`layers.Concatenate`](https://www.tensorflow.org/api_docs/python/tf/keras/layers/Concatenate)) the outputs of 1 and 2 into a token-character-hybrid embedding and pass it series of output to Figure 1 and section 4.2 of [*Neural Networks for Joint Sentence Classification\n",
        "in Medical Paper Abstracts*](https://arxiv.org/pdf/1612.05251.pdf)\n",
        "6. Combine (using [`layers.Concatenate`](https://www.tensorflow.org/api_docs/python/tf/keras/layers/Concatenate)) the outputs of 3, 4 and 5 into a token-character-positional tribrid embedding \n",
        "7. Create an output layer to accept the tribrid embedding and output predicted label probabilities\n",
        "8. Combine the inputs of 1, 2, 3, 4 and outputs of 7 into a [`tf.keras.Model`](https://www.tensorflow.org/api_docs/python/tf/keras/Model)"
      ],
      "metadata": {
        "id": "9QNSW6cbguH-"
      }
    },
    {
      "cell_type": "code",
      "source": [
        "# 1. Token inputs\n",
        "token_inputs = layers.Input(shape=[], dtype=\"string\", name=\"token_inputs\")\n",
        "token_embeddings = tf_hub_embedding_layer(token_inputs)\n",
        "token_outputs = layers.Dense(128, activation=\"relu\")(token_embeddings)\n",
        "token_model = tf.keras.Model(inputs=token_inputs,\n",
        "                             outputs=token_outputs)\n",
        "\n",
        "# 2. Char inputs\n",
        "char_inputs = layers.Input(shape=(1,), dtype=\"string\", name=\"char_inputs\")\n",
        "char_vectors = char_vectorizer(char_inputs)\n",
        "char_embeddings = char_embed(char_vectors)\n",
        "char_bi_lstm = layers.Bidirectional(layers.LSTM(32))(char_embeddings)\n",
        "char_model = tf.keras.Model(inputs=char_inputs,\n",
        "                            outputs=char_bi_lstm)\n",
        "\n",
        "# 3. Line numbers inputs\n",
        "line_number_inputs = layers.Input(shape=(15,), dtype=tf.int32, name=\"line_number_input\")\n",
        "x = layers.Dense(32, activation=\"relu\")(line_number_inputs)\n",
        "line_number_model = tf.keras.Model(inputs=line_number_inputs,\n",
        "                                   outputs=x)\n",
        "\n",
        "# 4. Total lines inputs\n",
        "total_lines_inputs = layers.Input(shape=(20,), dtype=tf.int32, name=\"total_lines_input\")\n",
        "y = layers.Dense(32, activation=\"relu\")(total_lines_inputs)\n",
        "total_line_model = tf.keras.Model(inputs=total_lines_inputs,\n",
        "                                  outputs=y)\n",
        "\n",
        "# 5. Combine token and char embeddings into a hybrid embedding\n",
        "combined_embeddings = layers.Concatenate(name=\"token_char_hybrid_embedding\")([token_model.output, \n",
        "                                                                              char_model.output])\n",
        "z = layers.Dense(256, activation=\"relu\")(combined_embeddings)\n",
        "z = layers.Dropout(0.5)(z)\n",
        "\n",
        "# 6. Combine positional embeddings with combined token and char embeddings into a tribrid embedding\n",
        "z = layers.Concatenate(name=\"token_char_positional_embedding\")([line_number_model.output,\n",
        "                                                                total_line_model.output,\n",
        "                                                                z])\n",
        "\n",
        "# 7. Create output layer\n",
        "output_layer = layers.Dense(5, activation=\"softmax\", name=\"output_layer\")(z)\n",
        "\n",
        "# 8. Put together model\n",
        "model_5 = tf.keras.Model(inputs=[line_number_model.input,\n",
        "                                 total_line_model.input,\n",
        "                                 token_model.input, \n",
        "                                 char_model.input],\n",
        "                         outputs=output_layer)"
      ],
      "metadata": {
        "id": "8GiqQmDzg72H"
      },
      "execution_count": 93,
      "outputs": []
    },
    {
      "cell_type": "code",
      "source": [
        "# Get a summary of our token, char and positional embedding model\n",
        "model_5.summary()"
      ],
      "metadata": {
        "colab": {
          "base_uri": "https://localhost:8080/"
        },
        "id": "X7r-LNiDg-AW",
        "outputId": "6242e749-abf4-4e27-9e4a-c397c0beb1ad"
      },
      "execution_count": 94,
      "outputs": [
        {
          "output_type": "stream",
          "name": "stdout",
          "text": [
            "Model: \"model_8\"\n",
            "__________________________________________________________________________________________________\n",
            " Layer (type)                   Output Shape         Param #     Connected to                     \n",
            "==================================================================================================\n",
            " char_inputs (InputLayer)       [(None, 1)]          0           []                               \n",
            "                                                                                                  \n",
            " token_inputs (InputLayer)      [(None,)]            0           []                               \n",
            "                                                                                                  \n",
            " char_vectorizer (TextVectoriza  (None, 290)         0           ['char_inputs[0][0]']            \n",
            " tion)                                                                                            \n",
            "                                                                                                  \n",
            " universal_sentence_encoder (Ke  (None, 512)         256797824   ['token_inputs[0][0]']           \n",
            " rasLayer)                                                                                        \n",
            "                                                                                                  \n",
            " char_embed (Embedding)         (None, 290, 25)      1750        ['char_vectorizer[2][0]']        \n",
            "                                                                                                  \n",
            " dense_7 (Dense)                (None, 128)          65664       ['universal_sentence_encoder[2][0\n",
            "                                                                 ]']                              \n",
            "                                                                                                  \n",
            " bidirectional_1 (Bidirectional  (None, 64)          14848       ['char_embed[2][0]']             \n",
            " )                                                                                                \n",
            "                                                                                                  \n",
            " token_char_hybrid_embedding (C  (None, 192)         0           ['dense_7[0][0]',                \n",
            " oncatenate)                                                      'bidirectional_1[0][0]']        \n",
            "                                                                                                  \n",
            " line_number_input (InputLayer)  [(None, 15)]        0           []                               \n",
            "                                                                                                  \n",
            " total_lines_input (InputLayer)  [(None, 20)]        0           []                               \n",
            "                                                                                                  \n",
            " dense_10 (Dense)               (None, 256)          49408       ['token_char_hybrid_embedding[0][\n",
            "                                                                 0]']                             \n",
            "                                                                                                  \n",
            " dense_8 (Dense)                (None, 32)           512         ['line_number_input[0][0]']      \n",
            "                                                                                                  \n",
            " dense_9 (Dense)                (None, 32)           672         ['total_lines_input[0][0]']      \n",
            "                                                                                                  \n",
            " dropout_2 (Dropout)            (None, 256)          0           ['dense_10[0][0]']               \n",
            "                                                                                                  \n",
            " token_char_positional_embeddin  (None, 320)         0           ['dense_8[0][0]',                \n",
            " g (Concatenate)                                                  'dense_9[0][0]',                \n",
            "                                                                  'dropout_2[0][0]']              \n",
            "                                                                                                  \n",
            " output_layer (Dense)           (None, 5)            1605        ['token_char_positional_embedding\n",
            "                                                                 [0][0]']                         \n",
            "                                                                                                  \n",
            "==================================================================================================\n",
            "Total params: 256,932,283\n",
            "Trainable params: 134,459\n",
            "Non-trainable params: 256,797,824\n",
            "__________________________________________________________________________________________________\n"
          ]
        }
      ]
    },
    {
      "cell_type": "code",
      "source": [
        "# Plot the token, char, positional embedding model\n",
        "from tensorflow.keras.utils import plot_model\n",
        "plot_model(model_5)"
      ],
      "metadata": {
        "colab": {
          "base_uri": "https://localhost:8080/",
          "height": 856
        },
        "id": "V6qJnOPZg_S_",
        "outputId": "26927b4c-b770-40e0-adff-69fa08d950c8"
      },
      "execution_count": 95,
      "outputs": [
        {
          "output_type": "execute_result",
          "data": {
            "image/png": "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\n",
            "text/plain": [
              "<IPython.core.display.Image object>"
            ]
          },
          "metadata": {},
          "execution_count": 95
        }
      ]
    },
    {
      "cell_type": "markdown",
      "source": [
        "Visualizing the model makes it much easier to understand.\n",
        "\n",
        "Essentially what we're doing is trying to encode as much information about our sequences as possible into various embeddings (the inputs to our model) so our model has the best chance to figure out what label belongs to a sequence (the outputs of our model).\n",
        "\n",
        "You'll notice our model is looking very similar to the model shown in Figure 1 of [*Neural Networks for Joint Sentence Classification\n",
        "in Medical Paper Abstracts*](https://arxiv.org/pdf/1612.05251.pdf). However, a few differences still remain:\n",
        "* We're using pretrained TensorFlow Hub token embeddings instead of GloVe emebddings.\n",
        "* We're using a Dense layer on top of our token-character hybrid embeddings instead of a bi-LSTM layer.\n",
        "* Section 3.1.3 of the paper mentions a label sequence optimization layer (which helps to make sure sequence labels come out in a respectable order) but it isn't shown in Figure 1. To makeup for the lack of this layer in our model, we've created the positional embeddings layers.\n",
        "* Section 4.2 of the paper mentions the token and character embeddings are updated during training, our pretrained TensorFlow Hub embeddings remain frozen.\n",
        "* The paper uses the [`SGD`](https://www.tensorflow.org/api_docs/python/tf/keras/optimizers/SGD) optimizer, we're going to stick with [`Adam`](https://www.tensorflow.org/api_docs/python/tf/keras/optimizers/Adam).\n",
        "\n",
        "All of the differences above are potential extensions of this project."
      ],
      "metadata": {
        "id": "FWupHigMhBu9"
      }
    },
    {
      "cell_type": "code",
      "source": [
        "# Check which layers of our model are trainable or not\n",
        "for layer in model_5.layers:\n",
        "  print(layer, layer.trainable)"
      ],
      "metadata": {
        "colab": {
          "base_uri": "https://localhost:8080/"
        },
        "id": "4x1jDWUZhODM",
        "outputId": "b2e837b7-fbed-4cc2-8204-1080bbb94ef0"
      },
      "execution_count": 96,
      "outputs": [
        {
          "output_type": "stream",
          "name": "stdout",
          "text": [
            "<keras.engine.input_layer.InputLayer object at 0x7fb7817a3d90> True\n",
            "<keras.engine.input_layer.InputLayer object at 0x7fb7816eb390> True\n",
            "<keras.layers.preprocessing.text_vectorization.TextVectorization object at 0x7fb6aadde450> True\n",
            "<tensorflow_hub.keras_layer.KerasLayer object at 0x7fb771386610> False\n",
            "<keras.layers.core.embedding.Embedding object at 0x7fb6a9d49210> True\n",
            "<keras.layers.core.dense.Dense object at 0x7fb6aade4590> True\n",
            "<keras.layers.rnn.bidirectional.Bidirectional object at 0x7fb7816b8e90> True\n",
            "<keras.layers.merging.concatenate.Concatenate object at 0x7fb781677f50> True\n",
            "<keras.engine.input_layer.InputLayer object at 0x7fb76fcaafd0> True\n",
            "<keras.engine.input_layer.InputLayer object at 0x7fb78174e1d0> True\n",
            "<keras.layers.core.dense.Dense object at 0x7fb7816bd9d0> True\n",
            "<keras.layers.core.dense.Dense object at 0x7fb781772cd0> True\n",
            "<keras.layers.core.dense.Dense object at 0x7fb76fc37150> True\n",
            "<keras.layers.regularization.dropout.Dropout object at 0x7fb7815a3750> True\n",
            "<keras.layers.merging.concatenate.Concatenate object at 0x7fb7815195d0> True\n",
            "<keras.layers.core.dense.Dense object at 0x7fb781521d90> True\n"
          ]
        }
      ]
    },
    {
      "cell_type": "code",
      "source": [
        "# Compile token, char, positional embedding model\n",
        "model_5.compile(loss=tf.keras.losses.CategoricalCrossentropy(label_smoothing=0.2), # add label smoothing (examples which are really confident get smoothed a little)\n",
        "                optimizer=tf.keras.optimizers.Adam(),\n",
        "                metrics=[\"accuracy\"])"
      ],
      "metadata": {
        "id": "WcX0FrhFhTh_"
      },
      "execution_count": 97,
      "outputs": []
    },
    {
      "cell_type": "code",
      "source": [
        "# Create training and validation datasets (all four kinds of inputs)\n",
        "train_pos_char_token_data = tf.data.Dataset.from_tensor_slices((train_line_numbers_one_hot, # line numbers\n",
        "                                                                train_total_lines_one_hot, # total lines\n",
        "                                                                train_sentences, # train tokens\n",
        "                                                                train_chars)) # train chars\n",
        "train_pos_char_token_labels = tf.data.Dataset.from_tensor_slices(train_labels_one_hot) # train labels\n",
        "train_pos_char_token_dataset = tf.data.Dataset.zip((train_pos_char_token_data, train_pos_char_token_labels)) # combine data and labels\n",
        "train_pos_char_token_dataset = train_pos_char_token_dataset.batch(32).prefetch(tf.data.AUTOTUNE) # turn into batches and prefetch appropriately\n",
        "\n",
        "# Validation dataset\n",
        "val_pos_char_token_data = tf.data.Dataset.from_tensor_slices((val_line_numbers_one_hot,\n",
        "                                                              val_total_lines_one_hot,\n",
        "                                                              val_sentences,\n",
        "                                                              val_chars))\n",
        "val_pos_char_token_labels = tf.data.Dataset.from_tensor_slices(val_labels_one_hot)\n",
        "val_pos_char_token_dataset = tf.data.Dataset.zip((val_pos_char_token_data, val_pos_char_token_labels))\n",
        "val_pos_char_token_dataset = val_pos_char_token_dataset.batch(32).prefetch(tf.data.AUTOTUNE) # turn into batches and prefetch appropriately\n",
        "\n",
        "# Check input shapes\n",
        "train_pos_char_token_dataset, val_pos_char_token_dataset"
      ],
      "metadata": {
        "colab": {
          "base_uri": "https://localhost:8080/"
        },
        "id": "K4ojLtfphVXV",
        "outputId": "f0303c02-6105-4866-8195-b80722428719"
      },
      "execution_count": 98,
      "outputs": [
        {
          "output_type": "execute_result",
          "data": {
            "text/plain": [
              "(<PrefetchDataset element_spec=((TensorSpec(shape=(None, 15), dtype=tf.float32, name=None), TensorSpec(shape=(None, 20), dtype=tf.float32, name=None), TensorSpec(shape=(None,), dtype=tf.string, name=None), TensorSpec(shape=(None,), dtype=tf.string, name=None)), TensorSpec(shape=(None, 5), dtype=tf.float64, name=None))>,\n",
              " <PrefetchDataset element_spec=((TensorSpec(shape=(None, 15), dtype=tf.float32, name=None), TensorSpec(shape=(None, 20), dtype=tf.float32, name=None), TensorSpec(shape=(None,), dtype=tf.string, name=None), TensorSpec(shape=(None,), dtype=tf.string, name=None)), TensorSpec(shape=(None, 5), dtype=tf.float64, name=None))>)"
            ]
          },
          "metadata": {},
          "execution_count": 98
        }
      ]
    },
    {
      "cell_type": "code",
      "source": [
        "# Fit the token, char and positional embedding model\n",
        "history_model_5 = model_5.fit(train_pos_char_token_dataset,\n",
        "                              steps_per_epoch=int(0.1 * len(train_pos_char_token_dataset)),\n",
        "                              epochs=3,\n",
        "                              validation_data=val_pos_char_token_dataset,\n",
        "                              validation_steps=int(0.1 * len(val_pos_char_token_dataset)))"
      ],
      "metadata": {
        "colab": {
          "base_uri": "https://localhost:8080/"
        },
        "id": "RQdfnZEBhe_T",
        "outputId": "85a1496a-ddce-4173-b59b-87d13c3949e0"
      },
      "execution_count": 99,
      "outputs": [
        {
          "output_type": "stream",
          "name": "stdout",
          "text": [
            "Epoch 1/3\n",
            "562/562 [==============================] - 25s 37ms/step - loss: 1.0993 - accuracy: 0.7257 - val_loss: 0.9852 - val_accuracy: 0.8009\n",
            "Epoch 2/3\n",
            "562/562 [==============================] - 19s 34ms/step - loss: 0.9716 - accuracy: 0.8123 - val_loss: 0.9520 - val_accuracy: 0.8281\n",
            "Epoch 3/3\n",
            "562/562 [==============================] - 20s 36ms/step - loss: 0.9518 - accuracy: 0.8230 - val_loss: 0.9406 - val_accuracy: 0.8305\n"
          ]
        }
      ]
    },
    {
      "cell_type": "code",
      "source": [
        "# Make predictions with token-char-positional hybrid model\n",
        "model_5_pred_probs = model_5.predict(val_pos_char_token_dataset, verbose=1)\n",
        "model_5_pred_probs"
      ],
      "metadata": {
        "colab": {
          "base_uri": "https://localhost:8080/"
        },
        "id": "SwSsnnrIhjNL",
        "outputId": "eef7b300-497c-4464-d7da-a70d05a9a7fe"
      },
      "execution_count": 100,
      "outputs": [
        {
          "output_type": "stream",
          "name": "stdout",
          "text": [
            "945/945 [==============================] - 19s 19ms/step\n"
          ]
        },
        {
          "output_type": "execute_result",
          "data": {
            "text/plain": [
              "array([[0.48858774, 0.08572512, 0.010312  , 0.40002877, 0.01534639],\n",
              "       [0.58586615, 0.07106841, 0.03531573, 0.29959154, 0.00815813],\n",
              "       [0.27293444, 0.09279393, 0.09145004, 0.46937427, 0.0734473 ],\n",
              "       ...,\n",
              "       [0.03868144, 0.0889633 , 0.03251953, 0.03492283, 0.80491287],\n",
              "       [0.03598268, 0.23217538, 0.06064118, 0.02775495, 0.6434458 ],\n",
              "       [0.24695206, 0.5669585 , 0.08666568, 0.04544366, 0.0539801 ]],\n",
              "      dtype=float32)"
            ]
          },
          "metadata": {},
          "execution_count": 100
        }
      ]
    },
    {
      "cell_type": "code",
      "source": [
        "# Turn prediction probabilities into prediction classes\n",
        "model_5_preds = tf.argmax(model_5_pred_probs, axis=1)\n",
        "model_5_preds"
      ],
      "metadata": {
        "colab": {
          "base_uri": "https://localhost:8080/"
        },
        "id": "AeqUEvELhkpS",
        "outputId": "14351b6d-f683-457d-e79c-c7dfdd21f103"
      },
      "execution_count": 101,
      "outputs": [
        {
          "output_type": "execute_result",
          "data": {
            "text/plain": [
              "<tf.Tensor: shape=(30212,), dtype=int64, numpy=array([0, 0, 3, ..., 4, 4, 1])>"
            ]
          },
          "metadata": {},
          "execution_count": 101
        }
      ]
    },
    {
      "cell_type": "code",
      "source": [
        "# Calculate results of token-char-positional hybrid model\n",
        "model_5_results = calculate_results(y_true=val_labels_encoded,\n",
        "                                    y_pred=model_5_preds)\n",
        "model_5_results"
      ],
      "metadata": {
        "colab": {
          "base_uri": "https://localhost:8080/"
        },
        "id": "KG4Il8Sjhl3U",
        "outputId": "5373865a-0cec-4e39-9611-750a89eef240"
      },
      "execution_count": 102,
      "outputs": [
        {
          "output_type": "execute_result",
          "data": {
            "text/plain": [
              "{'accuracy': 82.96703296703298,\n",
              " 'precision': 0.8290813746233144,\n",
              " 'recall': 0.8296703296703297,\n",
              " 'f1': 0.8291054518703651}"
            ]
          },
          "metadata": {},
          "execution_count": 102
        }
      ]
    },
    {
      "cell_type": "markdown",
      "source": [
        "## Compare model results \n",
        "\n",
        "\n",
        "\n",
        "Now it's time to compare each model's performance against each other.\n",
        "\n",
        "We'll also be able to compare our model's to the [*PubMed 200k RCT:\n",
        "a Dataset for Sequential Sentence Classification in Medical Abstracts*](https://arxiv.org/pdf/1710.06071.pdf) paper.\n",
        "\n",
        "Since all of our model results are in dictionaries, let's combine them into a pandas DataFrame to visualize them."
      ],
      "metadata": {
        "id": "OVj6Mpm1hntF"
      }
    },
    {
      "cell_type": "code",
      "source": [
        "# Combine model results into a DataFrame\n",
        "all_model_results = pd.DataFrame({\"baseline\": baseline_results,\n",
        "                                  \"custom_token_embed_conv1d\": model_1_results,\n",
        "                                  \"pretrained_token_embed\": model_2_results,\n",
        "                                  \"custom_char_embed_conv1d\": model_3_results,\n",
        "                                  \"hybrid_char_token_embed\": model_4_results,\n",
        "                                  \"tribrid_pos_char_token_embed\": model_5_results})\n",
        "all_model_results = all_model_results.transpose()\n",
        "all_model_results"
      ],
      "metadata": {
        "colab": {
          "base_uri": "https://localhost:8080/",
          "height": 237
        },
        "id": "Kd0WtWcBhwG0",
        "outputId": "e67a0824-6ab4-45ef-b527-c00223f5609a"
      },
      "execution_count": 103,
      "outputs": [
        {
          "output_type": "execute_result",
          "data": {
            "text/plain": [
              "                               accuracy  precision    recall        f1\n",
              "baseline                      72.183238   0.718647  0.721832  0.698925\n",
              "custom_token_embed_conv1d     78.793195   0.785023  0.787932  0.785768\n",
              "pretrained_token_embed        71.418642   0.714931  0.714186  0.711182\n",
              "custom_char_embed_conv1d      65.156229   0.648682  0.651562  0.638479\n",
              "hybrid_char_token_embed       73.639613   0.735547  0.736396  0.734281\n",
              "tribrid_pos_char_token_embed  82.967033   0.829081  0.829670  0.829105"
            ],
            "text/html": [
              "\n",
              "  <div id=\"df-8397e1a1-b608-4965-8826-32030d8e411b\">\n",
              "    <div class=\"colab-df-container\">\n",
              "      <div>\n",
              "<style scoped>\n",
              "    .dataframe tbody tr th:only-of-type {\n",
              "        vertical-align: middle;\n",
              "    }\n",
              "\n",
              "    .dataframe tbody tr th {\n",
              "        vertical-align: top;\n",
              "    }\n",
              "\n",
              "    .dataframe thead th {\n",
              "        text-align: right;\n",
              "    }\n",
              "</style>\n",
              "<table border=\"1\" class=\"dataframe\">\n",
              "  <thead>\n",
              "    <tr style=\"text-align: right;\">\n",
              "      <th></th>\n",
              "      <th>accuracy</th>\n",
              "      <th>precision</th>\n",
              "      <th>recall</th>\n",
              "      <th>f1</th>\n",
              "    </tr>\n",
              "  </thead>\n",
              "  <tbody>\n",
              "    <tr>\n",
              "      <th>baseline</th>\n",
              "      <td>72.183238</td>\n",
              "      <td>0.718647</td>\n",
              "      <td>0.721832</td>\n",
              "      <td>0.698925</td>\n",
              "    </tr>\n",
              "    <tr>\n",
              "      <th>custom_token_embed_conv1d</th>\n",
              "      <td>78.793195</td>\n",
              "      <td>0.785023</td>\n",
              "      <td>0.787932</td>\n",
              "      <td>0.785768</td>\n",
              "    </tr>\n",
              "    <tr>\n",
              "      <th>pretrained_token_embed</th>\n",
              "      <td>71.418642</td>\n",
              "      <td>0.714931</td>\n",
              "      <td>0.714186</td>\n",
              "      <td>0.711182</td>\n",
              "    </tr>\n",
              "    <tr>\n",
              "      <th>custom_char_embed_conv1d</th>\n",
              "      <td>65.156229</td>\n",
              "      <td>0.648682</td>\n",
              "      <td>0.651562</td>\n",
              "      <td>0.638479</td>\n",
              "    </tr>\n",
              "    <tr>\n",
              "      <th>hybrid_char_token_embed</th>\n",
              "      <td>73.639613</td>\n",
              "      <td>0.735547</td>\n",
              "      <td>0.736396</td>\n",
              "      <td>0.734281</td>\n",
              "    </tr>\n",
              "    <tr>\n",
              "      <th>tribrid_pos_char_token_embed</th>\n",
              "      <td>82.967033</td>\n",
              "      <td>0.829081</td>\n",
              "      <td>0.829670</td>\n",
              "      <td>0.829105</td>\n",
              "    </tr>\n",
              "  </tbody>\n",
              "</table>\n",
              "</div>\n",
              "      <button class=\"colab-df-convert\" onclick=\"convertToInteractive('df-8397e1a1-b608-4965-8826-32030d8e411b')\"\n",
              "              title=\"Convert this dataframe to an interactive table.\"\n",
              "              style=\"display:none;\">\n",
              "        \n",
              "  <svg xmlns=\"http://www.w3.org/2000/svg\" height=\"24px\"viewBox=\"0 0 24 24\"\n",
              "       width=\"24px\">\n",
              "    <path d=\"M0 0h24v24H0V0z\" fill=\"none\"/>\n",
              "    <path d=\"M18.56 5.44l.94 2.06.94-2.06 2.06-.94-2.06-.94-.94-2.06-.94 2.06-2.06.94zm-11 1L8.5 8.5l.94-2.06 2.06-.94-2.06-.94L8.5 2.5l-.94 2.06-2.06.94zm10 10l.94 2.06.94-2.06 2.06-.94-2.06-.94-.94-2.06-.94 2.06-2.06.94z\"/><path d=\"M17.41 7.96l-1.37-1.37c-.4-.4-.92-.59-1.43-.59-.52 0-1.04.2-1.43.59L10.3 9.45l-7.72 7.72c-.78.78-.78 2.05 0 2.83L4 21.41c.39.39.9.59 1.41.59.51 0 1.02-.2 1.41-.59l7.78-7.78 2.81-2.81c.8-.78.8-2.07 0-2.86zM5.41 20L4 18.59l7.72-7.72 1.47 1.35L5.41 20z\"/>\n",
              "  </svg>\n",
              "      </button>\n",
              "      \n",
              "  <style>\n",
              "    .colab-df-container {\n",
              "      display:flex;\n",
              "      flex-wrap:wrap;\n",
              "      gap: 12px;\n",
              "    }\n",
              "\n",
              "    .colab-df-convert {\n",
              "      background-color: #E8F0FE;\n",
              "      border: none;\n",
              "      border-radius: 50%;\n",
              "      cursor: pointer;\n",
              "      display: none;\n",
              "      fill: #1967D2;\n",
              "      height: 32px;\n",
              "      padding: 0 0 0 0;\n",
              "      width: 32px;\n",
              "    }\n",
              "\n",
              "    .colab-df-convert:hover {\n",
              "      background-color: #E2EBFA;\n",
              "      box-shadow: 0px 1px 2px rgba(60, 64, 67, 0.3), 0px 1px 3px 1px rgba(60, 64, 67, 0.15);\n",
              "      fill: #174EA6;\n",
              "    }\n",
              "\n",
              "    [theme=dark] .colab-df-convert {\n",
              "      background-color: #3B4455;\n",
              "      fill: #D2E3FC;\n",
              "    }\n",
              "\n",
              "    [theme=dark] .colab-df-convert:hover {\n",
              "      background-color: #434B5C;\n",
              "      box-shadow: 0px 1px 3px 1px rgba(0, 0, 0, 0.15);\n",
              "      filter: drop-shadow(0px 1px 2px rgba(0, 0, 0, 0.3));\n",
              "      fill: #FFFFFF;\n",
              "    }\n",
              "  </style>\n",
              "\n",
              "      <script>\n",
              "        const buttonEl =\n",
              "          document.querySelector('#df-8397e1a1-b608-4965-8826-32030d8e411b button.colab-df-convert');\n",
              "        buttonEl.style.display =\n",
              "          google.colab.kernel.accessAllowed ? 'block' : 'none';\n",
              "\n",
              "        async function convertToInteractive(key) {\n",
              "          const element = document.querySelector('#df-8397e1a1-b608-4965-8826-32030d8e411b');\n",
              "          const dataTable =\n",
              "            await google.colab.kernel.invokeFunction('convertToInteractive',\n",
              "                                                     [key], {});\n",
              "          if (!dataTable) return;\n",
              "\n",
              "          const docLinkHtml = 'Like what you see? Visit the ' +\n",
              "            '<a target=\"_blank\" href=https://colab.research.google.com/notebooks/data_table.ipynb>data table notebook</a>'\n",
              "            + ' to learn more about interactive tables.';\n",
              "          element.innerHTML = '';\n",
              "          dataTable['output_type'] = 'display_data';\n",
              "          await google.colab.output.renderOutput(dataTable, element);\n",
              "          const docLink = document.createElement('div');\n",
              "          docLink.innerHTML = docLinkHtml;\n",
              "          element.appendChild(docLink);\n",
              "        }\n",
              "      </script>\n",
              "    </div>\n",
              "  </div>\n",
              "  "
            ]
          },
          "metadata": {},
          "execution_count": 103
        }
      ]
    },
    {
      "cell_type": "code",
      "source": [
        "# Reduce the accuracy to same scale as other metrics\n",
        "all_model_results[\"accuracy\"] = all_model_results[\"accuracy\"]/100"
      ],
      "metadata": {
        "id": "6ZvXr1z9hyV5"
      },
      "execution_count": 104,
      "outputs": []
    },
    {
      "cell_type": "code",
      "source": [
        "# Plot and compare all of the model results\n",
        "all_model_results.plot(kind=\"bar\", figsize=(10, 7)).legend(bbox_to_anchor=(1.0, 1.0));"
      ],
      "metadata": {
        "colab": {
          "base_uri": "https://localhost:8080/",
          "height": 571
        },
        "id": "QAcZ2s5eh1pK",
        "outputId": "9b2fab77-c076-4be8-a608-54fc8e1a0793"
      },
      "execution_count": 105,
      "outputs": [
        {
          "output_type": "display_data",
          "data": {
            "text/plain": [
              "<Figure size 720x504 with 1 Axes>"
            ],
            "image/png": "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\n"
          },
          "metadata": {
            "needs_background": "light"
          }
        }
      ]
    },
    {
      "cell_type": "markdown",
      "source": [
        "Since the [*PubMed 200k RCT:\n",
        "a Dataset for Sequential Sentence Classification in Medical Abstracts*](https://arxiv.org/pdf/1710.06071.pdf) paper compares their tested model's F1-scores on the test dataset, let's take at our model's F1-scores.\n",
        "\n",
        "> 🔑 **Note:** We could've also made these comparisons in TensorBoard using the [`TensorBoard`](https://www.tensorflow.org/api_docs/python/tf/keras/callbacks/TensorBoard) callback during training."
      ],
      "metadata": {
        "id": "TVlwqIuYh2ve"
      }
    },
    {
      "cell_type": "code",
      "source": [
        "# Sort model results by f1-score\n",
        "all_model_results.sort_values(\"f1\", ascending=False)[\"f1\"].plot(kind=\"bar\", figsize=(10, 7));"
      ],
      "metadata": {
        "colab": {
          "base_uri": "https://localhost:8080/",
          "height": 571
        },
        "id": "HEIHdu1ch5TQ",
        "outputId": "0b4b75b2-4c0f-4411-eee1-c412b97fd970"
      },
      "execution_count": 106,
      "outputs": [
        {
          "output_type": "display_data",
          "data": {
            "text/plain": [
              "<Figure size 720x504 with 1 Axes>"
            ],
            "image/png": "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\n"
          },
          "metadata": {
            "needs_background": "light"
          }
        }
      ]
    },
    {
      "cell_type": "markdown",
      "source": [
        "Based on F1-scores, it looks like our tribrid embedding model performs the best by a fair margin.\n",
        "\n",
        "Though, in comparison to the results reported in Table 3 of the [*PubMed 200k RCT:\n",
        "a Dataset for Sequential Sentence Classification in Medical Abstracts*](https://arxiv.org/pdf/1710.06071.pdf) paper, our model's F1-score is still underperforming (the authors model achieves an F1-score of 90.0 on the 20k RCT dataset versus our F1-score of ~82.6).\n",
        "\n",
        "There are some things to note about this difference:\n",
        "* Our models (with an exception for the baseline) have been trained on ~18,000 (10% of batches) samples of sequences and labels rather than the full ~180,000 in the 20k RCT dataset.\n",
        "  * This is often the case in machine learning experiments though, make sure training works on a smaller number of samples, then upscale when needed (an extension to this project will be training a model on the full dataset).\n",
        "* Our model's prediction performance levels have been evaluated on the validation dataset not the test dataset (we'll evaluate our best model on the test dataset shortly)."
      ],
      "metadata": {
        "id": "W_9_9YX7h7nX"
      }
    },
    {
      "cell_type": "markdown",
      "source": [
        "## Save and load best performing model\n",
        "\n",
        "Since we've been through a fair few experiments, it's a good idea to save our best performing model so we can reuse it without having to retrain it.\n",
        "\n",
        "We can save our best performing model by calling the [`save()`](https://www.tensorflow.org/guide/keras/save_and_serialize#the_short_answer_to_saving_loading) method on it."
      ],
      "metadata": {
        "id": "kT-8Lo7NiB62"
      }
    },
    {
      "cell_type": "code",
      "source": [
        "# Save best performing model to SavedModel format (default)\n",
        "model_5.save(\"skimlit_tribrid_model\") # model will be saved to path specified by string"
      ],
      "metadata": {
        "colab": {
          "base_uri": "https://localhost:8080/"
        },
        "id": "FTAglgsTiE7v",
        "outputId": "0d4db2e3-f95f-4f47-8561-d6bfb0fb36b7"
      },
      "execution_count": 107,
      "outputs": [
        {
          "output_type": "stream",
          "name": "stderr",
          "text": [
            "WARNING:absl:Found untraced functions such as lstm_cell_4_layer_call_fn, lstm_cell_4_layer_call_and_return_conditional_losses, lstm_cell_5_layer_call_fn, lstm_cell_5_layer_call_and_return_conditional_losses while saving (showing 4 of 4). These functions will not be directly callable after loading.\n"
          ]
        }
      ]
    },
    {
      "cell_type": "code",
      "source": [
        "# Download pretrained model from Google Storage\n",
        "!wget https://storage.googleapis.com/ztm_tf_course/skimlit/skimlit_tribrid_model.zip\n",
        "!mkdir skimlit_gs_model\n",
        "!unzip skimlit_tribrid_model.zip -d skimlit_gs_model"
      ],
      "metadata": {
        "colab": {
          "base_uri": "https://localhost:8080/"
        },
        "id": "6NpertzaiIDL",
        "outputId": "be8c19a1-2f0e-483d-dcc0-3c7368726e23"
      },
      "execution_count": 108,
      "outputs": [
        {
          "output_type": "stream",
          "name": "stdout",
          "text": [
            "--2022-11-12 07:29:03--  https://storage.googleapis.com/ztm_tf_course/skimlit/skimlit_tribrid_model.zip\n",
            "Resolving storage.googleapis.com (storage.googleapis.com)... 172.217.194.128, 142.251.10.128, 142.251.12.128, ...\n",
            "Connecting to storage.googleapis.com (storage.googleapis.com)|172.217.194.128|:443... connected.\n",
            "HTTP request sent, awaiting response... 200 OK\n",
            "Length: 962561955 (918M) [application/zip]\n",
            "Saving to: ‘skimlit_tribrid_model.zip’\n",
            "\n",
            "skimlit_tribrid_mod 100%[===================>] 917.97M  22.3MB/s    in 42s     \n",
            "\n",
            "2022-11-12 07:29:46 (21.8 MB/s) - ‘skimlit_tribrid_model.zip’ saved [962561955/962561955]\n",
            "\n",
            "Archive:  skimlit_tribrid_model.zip\n",
            "   creating: skimlit_gs_model/skimlit_tribrid_model/\n",
            "   creating: skimlit_gs_model/skimlit_tribrid_model/variables/\n",
            "  inflating: skimlit_gs_model/skimlit_tribrid_model/variables/variables.index  \n",
            "  inflating: skimlit_gs_model/skimlit_tribrid_model/variables/variables.data-00000-of-00001  \n",
            "  inflating: skimlit_gs_model/skimlit_tribrid_model/keras_metadata.pb  \n",
            "  inflating: skimlit_gs_model/skimlit_tribrid_model/saved_model.pb  \n",
            "   creating: skimlit_gs_model/skimlit_tribrid_model/assets/\n"
          ]
        }
      ]
    },
    {
      "cell_type": "code",
      "source": [
        "# Import TensorFlow model dependencies (if needed) - https://github.com/tensorflow/tensorflow/issues/38250 \n",
        "import tensorflow_hub as hub\n",
        "import tensorflow as tf\n",
        "\n",
        "\n",
        "\n",
        "\n",
        "# Load downloaded model from Google Storage\n",
        "loaded_model = tf.keras.models.load_model(\"skimlit_tribrid_model\")#,\n",
        "                                          # Note: with TensorFlow 2.5+ if your SavedModel has a keras_metadata.pb file \n",
        "                                          # (created when using model.save()), you shouldn't need the custom_objects\n",
        "                                          # parameter. I'm leaving the code below here in case you do.\n",
        "                                          # custom_objects={\"TextVectorization\": TextVectorization, # required for char vectorization\n",
        "                                          #                 \"KerasLayer\": hub.KerasLayer}) # required for token embedding"
      ],
      "metadata": {
        "id": "K-CR1c68iP8o"
      },
      "execution_count": 114,
      "outputs": []
    },
    {
      "cell_type": "markdown",
      "source": [
        "### Make predictions and evalaute them against the truth labels\n",
        "\n",
        "To make sure our model saved and loaded correctly, let's make predictions with it, evaluate them and then compare them to the prediction results we calculated earlier."
      ],
      "metadata": {
        "id": "3nmzClvNiSc6"
      }
    },
    {
      "cell_type": "code",
      "source": [
        "# Make predictions with the loaded model on the validation set\n",
        "loaded_pred_probs = loaded_model.predict(val_pos_char_token_dataset, verbose=1)\n",
        "loaded_preds = tf.argmax(loaded_pred_probs, axis=1)\n",
        "loaded_preds[:10]"
      ],
      "metadata": {
        "colab": {
          "base_uri": "https://localhost:8080/"
        },
        "id": "0LxzPrhJiVZS",
        "outputId": "0bacfb38-594d-46f5-a128-7031cfa01e63"
      },
      "execution_count": 115,
      "outputs": [
        {
          "output_type": "stream",
          "name": "stdout",
          "text": [
            "945/945 [==============================] - 24s 24ms/step\n"
          ]
        },
        {
          "output_type": "execute_result",
          "data": {
            "text/plain": [
              "<tf.Tensor: shape=(10,), dtype=int64, numpy=array([0, 0, 3, 2, 2, 4, 4, 4, 4, 1])>"
            ]
          },
          "metadata": {},
          "execution_count": 115
        }
      ]
    },
    {
      "cell_type": "code",
      "source": [
        "# Evaluate loaded model's predictions\n",
        "loaded_model_results = calculate_results(val_labels_encoded,\n",
        "                                         loaded_preds)\n",
        "loaded_model_results"
      ],
      "metadata": {
        "colab": {
          "base_uri": "https://localhost:8080/"
        },
        "id": "oCVAogvpiXZR",
        "outputId": "e94f6f51-6cf3-460f-c518-dd347fcefd61"
      },
      "execution_count": 116,
      "outputs": [
        {
          "output_type": "execute_result",
          "data": {
            "text/plain": [
              "{'accuracy': 82.96703296703298,\n",
              " 'precision': 0.8290813746233144,\n",
              " 'recall': 0.8296703296703297,\n",
              " 'f1': 0.8291054518703651}"
            ]
          },
          "metadata": {},
          "execution_count": 116
        }
      ]
    },
    {
      "cell_type": "code",
      "source": [
        "#Compare loaded model results with original trained model results (should be quite close)\n",
        "np.isclose(list(model_5_results.values()), list(loaded_model_results.values()), rtol=1e-02)"
      ],
      "metadata": {
        "colab": {
          "base_uri": "https://localhost:8080/"
        },
        "id": "72FI_dwxuV1l",
        "outputId": "ecf3a5ad-18e8-4c30-b0ac-0fd4a25a9b50"
      },
      "execution_count": 117,
      "outputs": [
        {
          "output_type": "execute_result",
          "data": {
            "text/plain": [
              "array([ True,  True,  True,  True])"
            ]
          },
          "metadata": {},
          "execution_count": 117
        }
      ]
    },
    {
      "cell_type": "code",
      "source": [
        "# Check loaded model summary (note the number of trainable parameters)\n",
        "loaded_model.summary()\n"
      ],
      "metadata": {
        "colab": {
          "base_uri": "https://localhost:8080/"
        },
        "id": "LwIsWOeWutvI",
        "outputId": "856ccf29-df71-455d-ec88-09598248cca9"
      },
      "execution_count": 118,
      "outputs": [
        {
          "output_type": "stream",
          "name": "stdout",
          "text": [
            "Model: \"model_8\"\n",
            "__________________________________________________________________________________________________\n",
            " Layer (type)                   Output Shape         Param #     Connected to                     \n",
            "==================================================================================================\n",
            " char_inputs (InputLayer)       [(None, 1)]          0           []                               \n",
            "                                                                                                  \n",
            " token_inputs (InputLayer)      [(None,)]            0           []                               \n",
            "                                                                                                  \n",
            " char_vectorizer (TextVectoriza  (None, 290)         0           ['char_inputs[0][0]']            \n",
            " tion)                                                                                            \n",
            "                                                                                                  \n",
            " universal_sentence_encoder (Ke  (None, 512)         256797824   ['token_inputs[0][0]']           \n",
            " rasLayer)                                                                                        \n",
            "                                                                                                  \n",
            " char_embed (Embedding)         (None, 290, 25)      1750        ['char_vectorizer[0][0]']        \n",
            "                                                                                                  \n",
            " dense_7 (Dense)                (None, 128)          65664       ['universal_sentence_encoder[0][0\n",
            "                                                                 ]']                              \n",
            "                                                                                                  \n",
            " bidirectional_1 (Bidirectional  (None, 64)          14848       ['char_embed[0][0]']             \n",
            " )                                                                                                \n",
            "                                                                                                  \n",
            " token_char_hybrid_embedding (C  (None, 192)         0           ['dense_7[0][0]',                \n",
            " oncatenate)                                                      'bidirectional_1[0][0]']        \n",
            "                                                                                                  \n",
            " line_number_input (InputLayer)  [(None, 15)]        0           []                               \n",
            "                                                                                                  \n",
            " total_lines_input (InputLayer)  [(None, 20)]        0           []                               \n",
            "                                                                                                  \n",
            " dense_10 (Dense)               (None, 256)          49408       ['token_char_hybrid_embedding[0][\n",
            "                                                                 0]']                             \n",
            "                                                                                                  \n",
            " dense_8 (Dense)                (None, 32)           512         ['line_number_input[0][0]']      \n",
            "                                                                                                  \n",
            " dense_9 (Dense)                (None, 32)           672         ['total_lines_input[0][0]']      \n",
            "                                                                                                  \n",
            " dropout_2 (Dropout)            (None, 256)          0           ['dense_10[0][0]']               \n",
            "                                                                                                  \n",
            " token_char_positional_embeddin  (None, 320)         0           ['dense_8[0][0]',                \n",
            " g (Concatenate)                                                  'dense_9[0][0]',                \n",
            "                                                                  'dropout_2[0][0]']              \n",
            "                                                                                                  \n",
            " output_layer (Dense)           (None, 5)            1605        ['token_char_positional_embedding\n",
            "                                                                 [0][0]']                         \n",
            "                                                                                                  \n",
            "==================================================================================================\n",
            "Total params: 256,932,283\n",
            "Trainable params: 134,459\n",
            "Non-trainable params: 256,797,824\n",
            "__________________________________________________________________________________________________\n"
          ]
        }
      ]
    },
    {
      "cell_type": "markdown",
      "source": [
        "## Evaluate model on test dataset\n",
        "\n",
        "To make our model's performance more comparable with the results reported in Table 3 of the [*PubMed 200k RCT:\n",
        "a Dataset for Sequential Sentence Classification in Medical Abstracts*](https://arxiv.org/pdf/1710.06071.pdf) paper, let's make predictions on the test dataset and evaluate them."
      ],
      "metadata": {
        "id": "rGF8i0oJvZqO"
      }
    },
    {
      "cell_type": "code",
      "source": [
        "# Create test dataset batch and prefetched\n",
        "test_pos_char_token_data = tf.data.Dataset.from_tensor_slices((test_line_numbers_one_hot,\n",
        "                                                               test_total_lines_one_hot,\n",
        "                                                               test_sentences,\n",
        "                                                               test_chars))\n",
        "test_pos_char_token_labels = tf.data.Dataset.from_tensor_slices(test_labels_one_hot)\n",
        "test_pos_char_token_dataset = tf.data.Dataset.zip((test_pos_char_token_data, test_pos_char_token_labels))\n",
        "test_pos_char_token_dataset = test_pos_char_token_dataset.batch(32).prefetch(tf.data.AUTOTUNE)\n",
        "\n",
        "# Check shapes\n",
        "test_pos_char_token_dataset"
      ],
      "metadata": {
        "colab": {
          "base_uri": "https://localhost:8080/"
        },
        "id": "CZ_huy4Qvagh",
        "outputId": "3c1552f0-4f95-476f-8140-825b6ff6f191"
      },
      "execution_count": 119,
      "outputs": [
        {
          "output_type": "execute_result",
          "data": {
            "text/plain": [
              "<PrefetchDataset element_spec=((TensorSpec(shape=(None, 15), dtype=tf.float32, name=None), TensorSpec(shape=(None, 20), dtype=tf.float32, name=None), TensorSpec(shape=(None,), dtype=tf.string, name=None), TensorSpec(shape=(None,), dtype=tf.string, name=None)), TensorSpec(shape=(None, 5), dtype=tf.float64, name=None))>"
            ]
          },
          "metadata": {},
          "execution_count": 119
        }
      ]
    },
    {
      "cell_type": "code",
      "source": [
        "# Make predictions on the test dataset\n",
        "test_pred_probs = loaded_model.predict(test_pos_char_token_dataset,\n",
        "                                       verbose=1)\n",
        "test_preds = tf.argmax(test_pred_probs, axis=1)\n",
        "test_preds[:10]"
      ],
      "metadata": {
        "colab": {
          "base_uri": "https://localhost:8080/"
        },
        "id": "xeIsgf0Evb82",
        "outputId": "ff257bf0-f362-4041-c08e-1f7e47d36378"
      },
      "execution_count": 120,
      "outputs": [
        {
          "output_type": "stream",
          "name": "stdout",
          "text": [
            "942/942 [==============================] - 20s 21ms/step\n"
          ]
        },
        {
          "output_type": "execute_result",
          "data": {
            "text/plain": [
              "<tf.Tensor: shape=(10,), dtype=int64, numpy=array([3, 0, 2, 2, 4, 4, 4, 1, 4, 0])>"
            ]
          },
          "metadata": {},
          "execution_count": 120
        }
      ]
    },
    {
      "cell_type": "code",
      "source": [
        "# Evaluate loaded model test predictions\n",
        "loaded_model_test_results = calculate_results(y_true=test_labels_encoded,\n",
        "                                              y_pred=test_preds)\n",
        "loaded_model_test_results"
      ],
      "metadata": {
        "colab": {
          "base_uri": "https://localhost:8080/"
        },
        "id": "Ps1e4MrQvdW_",
        "outputId": "a5dc7002-8f59-4e66-ca12-b2b55e3f05d3"
      },
      "execution_count": 121,
      "outputs": [
        {
          "output_type": "execute_result",
          "data": {
            "text/plain": [
              "{'accuracy': 82.62817322050772,\n",
              " 'precision': 0.8255314062153287,\n",
              " 'recall': 0.8262817322050772,\n",
              " 'f1': 0.825692818623878}"
            ]
          },
          "metadata": {},
          "execution_count": 121
        }
      ]
    },
    {
      "cell_type": "markdown",
      "source": [
        "## Find most wrong\n",
        "\n",
        "One of the best ways to investigate where your model is going wrong (or potentially where your data is wrong) is to visualize the \"most wrong\" predictions.\n",
        "\n",
        "The most wrong predictions are samples where the model has made a prediction with a high probability but has gotten it wrong (the model's prediction disagreess with the ground truth label).\n",
        "\n",
        "Looking at the most wrong predictions can give us valuable information on how to improve further models or fix the labels in our data.\n",
        "\n",
        "Let's write some code to help us visualize the most wrong predictions from the test dataset.\n",
        "\n",
        "First we'll convert all of our integer-based test predictions into their string-based class names."
      ],
      "metadata": {
        "id": "-mWBSSWBveou"
      }
    },
    {
      "cell_type": "code",
      "source": [
        "%%time\n",
        "# Get list of class names of test predictions\n",
        "test_pred_classes = [label_encoder.classes_[pred] for pred in test_preds]\n",
        "test_pred_classes"
      ],
      "metadata": {
        "colab": {
          "base_uri": "https://localhost:8080/"
        },
        "id": "7Lsgwjuhvl3b",
        "outputId": "c783a1ad-4bb4-4a42-ba15-aea2547bd3a4"
      },
      "execution_count": 122,
      "outputs": [
        {
          "output_type": "stream",
          "name": "stdout",
          "text": [
            "CPU times: user 12.2 s, sys: 969 ms, total: 13.1 s\n",
            "Wall time: 11.5 s\n"
          ]
        },
        {
          "output_type": "execute_result",
          "data": {
            "text/plain": [
              "['OBJECTIVE',\n",
              " 'BACKGROUND',\n",
              " 'METHODS',\n",
              " 'METHODS',\n",
              " 'RESULTS',\n",
              " 'RESULTS',\n",
              " 'RESULTS',\n",
              " 'CONCLUSIONS',\n",
              " 'RESULTS',\n",
              " 'BACKGROUND',\n",
              " 'OBJECTIVE',\n",
              " 'METHODS',\n",
              " 'METHODS',\n",
              " 'METHODS',\n",
              " 'RESULTS',\n",
              " 'RESULTS',\n",
              " 'RESULTS',\n",
              " 'RESULTS',\n",
              " 'RESULTS',\n",
              " 'RESULTS',\n",
              " 'CONCLUSIONS',\n",
              " 'CONCLUSIONS',\n",
              " 'BACKGROUND',\n",
              " 'OBJECTIVE',\n",
              " 'METHODS',\n",
              " 'METHODS',\n",
              " 'RESULTS',\n",
              " 'RESULTS',\n",
              " 'RESULTS',\n",
              " 'CONCLUSIONS',\n",
              " 'CONCLUSIONS',\n",
              " 'BACKGROUND',\n",
              " 'METHODS',\n",
              " 'BACKGROUND',\n",
              " 'METHODS',\n",
              " 'METHODS',\n",
              " 'METHODS',\n",
              " 'METHODS',\n",
              " 'RESULTS',\n",
              " 'RESULTS',\n",
              " 'RESULTS',\n",
              " 'RESULTS',\n",
              " 'CONCLUSIONS',\n",
              " 'CONCLUSIONS',\n",
              " 'BACKGROUND',\n",
              " 'BACKGROUND',\n",
              " 'BACKGROUND',\n",
              " 'OBJECTIVE',\n",
              " 'METHODS',\n",
              " 'METHODS',\n",
              " 'METHODS',\n",
              " 'METHODS',\n",
              " 'METHODS',\n",
              " 'METHODS',\n",
              " 'RESULTS',\n",
              " 'RESULTS',\n",
              " 'CONCLUSIONS',\n",
              " 'CONCLUSIONS',\n",
              " 'OBJECTIVE',\n",
              " 'METHODS',\n",
              " 'METHODS',\n",
              " 'METHODS',\n",
              " 'METHODS',\n",
              " 'METHODS',\n",
              " 'RESULTS',\n",
              " 'RESULTS',\n",
              " 'RESULTS',\n",
              " 'CONCLUSIONS',\n",
              " 'RESULTS',\n",
              " 'OBJECTIVE',\n",
              " 'METHODS',\n",
              " 'METHODS',\n",
              " 'METHODS',\n",
              " 'RESULTS',\n",
              " 'METHODS',\n",
              " 'RESULTS',\n",
              " 'RESULTS',\n",
              " 'RESULTS',\n",
              " 'RESULTS',\n",
              " 'CONCLUSIONS',\n",
              " 'CONCLUSIONS',\n",
              " 'BACKGROUND',\n",
              " 'OBJECTIVE',\n",
              " 'METHODS',\n",
              " 'METHODS',\n",
              " 'METHODS',\n",
              " 'METHODS',\n",
              " 'METHODS',\n",
              " 'METHODS',\n",
              " 'METHODS',\n",
              " 'RESULTS',\n",
              " 'RESULTS',\n",
              " 'RESULTS',\n",
              " 'CONCLUSIONS',\n",
              " 'BACKGROUND',\n",
              " 'OBJECTIVE',\n",
              " 'METHODS',\n",
              " 'RESULTS',\n",
              " 'RESULTS',\n",
              " 'RESULTS',\n",
              " 'CONCLUSIONS',\n",
              " 'OBJECTIVE',\n",
              " 'METHODS',\n",
              " 'METHODS',\n",
              " 'BACKGROUND',\n",
              " 'METHODS',\n",
              " 'METHODS',\n",
              " 'METHODS',\n",
              " 'METHODS',\n",
              " 'RESULTS',\n",
              " 'RESULTS',\n",
              " 'RESULTS',\n",
              " 'CONCLUSIONS',\n",
              " 'BACKGROUND',\n",
              " 'BACKGROUND',\n",
              " 'METHODS',\n",
              " 'METHODS',\n",
              " 'METHODS',\n",
              " 'METHODS',\n",
              " 'METHODS',\n",
              " 'METHODS',\n",
              " 'BACKGROUND',\n",
              " 'RESULTS',\n",
              " 'RESULTS',\n",
              " 'RESULTS',\n",
              " 'RESULTS',\n",
              " 'RESULTS',\n",
              " 'CONCLUSIONS',\n",
              " 'BACKGROUND',\n",
              " 'OBJECTIVE',\n",
              " 'METHODS',\n",
              " 'METHODS',\n",
              " 'RESULTS',\n",
              " 'METHODS',\n",
              " 'RESULTS',\n",
              " 'RESULTS',\n",
              " 'RESULTS',\n",
              " 'RESULTS',\n",
              " 'OBJECTIVE',\n",
              " 'METHODS',\n",
              " 'METHODS',\n",
              " 'METHODS',\n",
              " 'RESULTS',\n",
              " 'RESULTS',\n",
              " 'RESULTS',\n",
              " 'RESULTS',\n",
              " 'RESULTS',\n",
              " 'RESULTS',\n",
              " 'CONCLUSIONS',\n",
              " 'CONCLUSIONS',\n",
              " 'BACKGROUND',\n",
              " 'BACKGROUND',\n",
              " 'METHODS',\n",
              " 'BACKGROUND',\n",
              " 'METHODS',\n",
              " 'METHODS',\n",
              " 'METHODS',\n",
              " 'METHODS',\n",
              " 'METHODS',\n",
              " 'METHODS',\n",
              " 'CONCLUSIONS',\n",
              " 'CONCLUSIONS',\n",
              " 'RESULTS',\n",
              " 'BACKGROUND',\n",
              " 'CONCLUSIONS',\n",
              " 'BACKGROUND',\n",
              " 'OBJECTIVE',\n",
              " 'OBJECTIVE',\n",
              " 'METHODS',\n",
              " 'METHODS',\n",
              " 'RESULTS',\n",
              " 'RESULTS',\n",
              " 'RESULTS',\n",
              " 'RESULTS',\n",
              " 'RESULTS',\n",
              " 'CONCLUSIONS',\n",
              " 'BACKGROUND',\n",
              " 'OBJECTIVE',\n",
              " 'METHODS',\n",
              " 'METHODS',\n",
              " 'METHODS',\n",
              " 'RESULTS',\n",
              " 'RESULTS',\n",
              " 'RESULTS',\n",
              " 'RESULTS',\n",
              " 'RESULTS',\n",
              " 'RESULTS',\n",
              " 'RESULTS',\n",
              " 'CONCLUSIONS',\n",
              " 'BACKGROUND',\n",
              " 'BACKGROUND',\n",
              " 'METHODS',\n",
              " 'METHODS',\n",
              " 'METHODS',\n",
              " 'METHODS',\n",
              " 'BACKGROUND',\n",
              " 'RESULTS',\n",
              " 'RESULTS',\n",
              " 'BACKGROUND',\n",
              " 'RESULTS',\n",
              " 'RESULTS',\n",
              " 'CONCLUSIONS',\n",
              " 'CONCLUSIONS',\n",
              " 'CONCLUSIONS',\n",
              " 'OBJECTIVE',\n",
              " 'METHODS',\n",
              " 'METHODS',\n",
              " 'METHODS',\n",
              " 'METHODS',\n",
              " 'RESULTS',\n",
              " 'RESULTS',\n",
              " 'RESULTS',\n",
              " 'RESULTS',\n",
              " 'CONCLUSIONS',\n",
              " 'BACKGROUND',\n",
              " 'METHODS',\n",
              " 'METHODS',\n",
              " 'METHODS',\n",
              " 'METHODS',\n",
              " 'METHODS',\n",
              " 'RESULTS',\n",
              " 'RESULTS',\n",
              " 'RESULTS',\n",
              " 'RESULTS',\n",
              " 'CONCLUSIONS',\n",
              " 'RESULTS',\n",
              " 'RESULTS',\n",
              " 'BACKGROUND',\n",
              " 'BACKGROUND',\n",
              " 'BACKGROUND',\n",
              " 'METHODS',\n",
              " 'METHODS',\n",
              " 'RESULTS',\n",
              " 'METHODS',\n",
              " 'METHODS',\n",
              " 'RESULTS',\n",
              " 'RESULTS',\n",
              " 'CONCLUSIONS',\n",
              " 'OBJECTIVE',\n",
              " 'OBJECTIVE',\n",
              " 'OBJECTIVE',\n",
              " 'METHODS',\n",
              " 'METHODS',\n",
              " 'RESULTS',\n",
              " 'RESULTS',\n",
              " 'RESULTS',\n",
              " 'RESULTS',\n",
              " 'CONCLUSIONS',\n",
              " 'CONCLUSIONS',\n",
              " 'OBJECTIVE',\n",
              " 'METHODS',\n",
              " 'METHODS',\n",
              " 'METHODS',\n",
              " 'RESULTS',\n",
              " 'RESULTS',\n",
              " 'RESULTS',\n",
              " 'RESULTS',\n",
              " 'RESULTS',\n",
              " 'CONCLUSIONS',\n",
              " 'CONCLUSIONS',\n",
              " 'BACKGROUND',\n",
              " 'OBJECTIVE',\n",
              " 'METHODS',\n",
              " 'METHODS',\n",
              " 'METHODS',\n",
              " 'METHODS',\n",
              " 'METHODS',\n",
              " 'METHODS',\n",
              " 'RESULTS',\n",
              " 'METHODS',\n",
              " 'RESULTS',\n",
              " 'RESULTS',\n",
              " 'CONCLUSIONS',\n",
              " 'CONCLUSIONS',\n",
              " 'RESULTS',\n",
              " 'CONCLUSIONS',\n",
              " 'METHODS',\n",
              " 'CONCLUSIONS',\n",
              " 'BACKGROUND',\n",
              " 'OBJECTIVE',\n",
              " 'METHODS',\n",
              " 'METHODS',\n",
              " 'METHODS',\n",
              " 'METHODS',\n",
              " 'METHODS',\n",
              " 'RESULTS',\n",
              " 'METHODS',\n",
              " 'CONCLUSIONS',\n",
              " 'BACKGROUND',\n",
              " 'BACKGROUND',\n",
              " 'METHODS',\n",
              " 'METHODS',\n",
              " 'METHODS',\n",
              " 'METHODS',\n",
              " 'RESULTS',\n",
              " 'RESULTS',\n",
              " 'RESULTS',\n",
              " 'RESULTS',\n",
              " 'CONCLUSIONS',\n",
              " 'CONCLUSIONS',\n",
              " 'BACKGROUND',\n",
              " 'OBJECTIVE',\n",
              " 'METHODS',\n",
              " 'METHODS',\n",
              " 'METHODS',\n",
              " 'RESULTS',\n",
              " 'RESULTS',\n",
              " 'RESULTS',\n",
              " 'CONCLUSIONS',\n",
              " 'CONCLUSIONS',\n",
              " 'CONCLUSIONS',\n",
              " 'OBJECTIVE',\n",
              " 'METHODS',\n",
              " 'METHODS',\n",
              " 'METHODS',\n",
              " 'RESULTS',\n",
              " 'RESULTS',\n",
              " 'RESULTS',\n",
              " 'RESULTS',\n",
              " 'RESULTS',\n",
              " 'RESULTS',\n",
              " 'BACKGROUND',\n",
              " 'BACKGROUND',\n",
              " 'METHODS',\n",
              " 'RESULTS',\n",
              " 'RESULTS',\n",
              " 'RESULTS',\n",
              " 'RESULTS',\n",
              " 'CONCLUSIONS',\n",
              " 'BACKGROUND',\n",
              " 'OBJECTIVE',\n",
              " 'METHODS',\n",
              " 'METHODS',\n",
              " 'RESULTS',\n",
              " 'RESULTS',\n",
              " 'RESULTS',\n",
              " 'RESULTS',\n",
              " 'RESULTS',\n",
              " 'RESULTS',\n",
              " 'CONCLUSIONS',\n",
              " 'CONCLUSIONS',\n",
              " 'OBJECTIVE',\n",
              " 'METHODS',\n",
              " 'METHODS',\n",
              " 'METHODS',\n",
              " 'METHODS',\n",
              " 'RESULTS',\n",
              " 'RESULTS',\n",
              " 'RESULTS',\n",
              " 'RESULTS',\n",
              " 'RESULTS',\n",
              " 'CONCLUSIONS',\n",
              " 'CONCLUSIONS',\n",
              " 'BACKGROUND',\n",
              " 'BACKGROUND',\n",
              " 'BACKGROUND',\n",
              " 'METHODS',\n",
              " 'METHODS',\n",
              " 'METHODS',\n",
              " 'METHODS',\n",
              " 'RESULTS',\n",
              " 'RESULTS',\n",
              " 'RESULTS',\n",
              " 'RESULTS',\n",
              " 'RESULTS',\n",
              " 'RESULTS',\n",
              " 'RESULTS',\n",
              " 'RESULTS',\n",
              " 'CONCLUSIONS',\n",
              " 'CONCLUSIONS',\n",
              " 'CONCLUSIONS',\n",
              " 'BACKGROUND',\n",
              " 'BACKGROUND',\n",
              " 'OBJECTIVE',\n",
              " 'METHODS',\n",
              " 'METHODS',\n",
              " 'RESULTS',\n",
              " 'METHODS',\n",
              " 'RESULTS',\n",
              " 'RESULTS',\n",
              " 'RESULTS',\n",
              " 'RESULTS',\n",
              " 'RESULTS',\n",
              " 'RESULTS',\n",
              " 'CONCLUSIONS',\n",
              " 'CONCLUSIONS',\n",
              " 'OBJECTIVE',\n",
              " 'OBJECTIVE',\n",
              " 'RESULTS',\n",
              " 'RESULTS',\n",
              " 'METHODS',\n",
              " 'RESULTS',\n",
              " 'RESULTS',\n",
              " 'RESULTS',\n",
              " 'RESULTS',\n",
              " 'RESULTS',\n",
              " 'CONCLUSIONS',\n",
              " 'CONCLUSIONS',\n",
              " 'BACKGROUND',\n",
              " 'OBJECTIVE',\n",
              " 'METHODS',\n",
              " 'METHODS',\n",
              " 'METHODS',\n",
              " 'METHODS',\n",
              " 'RESULTS',\n",
              " 'RESULTS',\n",
              " 'RESULTS',\n",
              " 'CONCLUSIONS',\n",
              " 'OBJECTIVE',\n",
              " 'METHODS',\n",
              " 'METHODS',\n",
              " 'METHODS',\n",
              " 'RESULTS',\n",
              " 'RESULTS',\n",
              " 'RESULTS',\n",
              " 'RESULTS',\n",
              " 'RESULTS',\n",
              " 'CONCLUSIONS',\n",
              " 'CONCLUSIONS',\n",
              " 'OBJECTIVE',\n",
              " 'METHODS',\n",
              " 'METHODS',\n",
              " 'METHODS',\n",
              " 'RESULTS',\n",
              " 'RESULTS',\n",
              " 'RESULTS',\n",
              " 'RESULTS',\n",
              " 'RESULTS',\n",
              " 'RESULTS',\n",
              " 'RESULTS',\n",
              " 'CONCLUSIONS',\n",
              " 'OBJECTIVE',\n",
              " 'OBJECTIVE',\n",
              " 'RESULTS',\n",
              " 'RESULTS',\n",
              " 'RESULTS',\n",
              " 'RESULTS',\n",
              " 'METHODS',\n",
              " 'METHODS',\n",
              " 'RESULTS',\n",
              " 'BACKGROUND',\n",
              " 'BACKGROUND',\n",
              " 'METHODS',\n",
              " 'METHODS',\n",
              " 'RESULTS',\n",
              " 'RESULTS',\n",
              " 'RESULTS',\n",
              " 'RESULTS',\n",
              " 'CONCLUSIONS',\n",
              " 'CONCLUSIONS',\n",
              " 'CONCLUSIONS',\n",
              " 'BACKGROUND',\n",
              " 'BACKGROUND',\n",
              " 'BACKGROUND',\n",
              " 'OBJECTIVE',\n",
              " 'METHODS',\n",
              " 'METHODS',\n",
              " 'METHODS',\n",
              " 'RESULTS',\n",
              " 'CONCLUSIONS',\n",
              " 'METHODS',\n",
              " 'CONCLUSIONS',\n",
              " 'BACKGROUND',\n",
              " 'BACKGROUND',\n",
              " 'BACKGROUND',\n",
              " 'BACKGROUND',\n",
              " 'METHODS',\n",
              " 'METHODS',\n",
              " 'METHODS',\n",
              " 'RESULTS',\n",
              " 'RESULTS',\n",
              " 'RESULTS',\n",
              " 'RESULTS',\n",
              " 'CONCLUSIONS',\n",
              " 'CONCLUSIONS',\n",
              " 'CONCLUSIONS',\n",
              " 'CONCLUSIONS',\n",
              " 'BACKGROUND',\n",
              " 'BACKGROUND',\n",
              " 'BACKGROUND',\n",
              " 'METHODS',\n",
              " 'METHODS',\n",
              " 'RESULTS',\n",
              " 'METHODS',\n",
              " 'RESULTS',\n",
              " 'RESULTS',\n",
              " 'RESULTS',\n",
              " 'RESULTS',\n",
              " 'CONCLUSIONS',\n",
              " 'CONCLUSIONS',\n",
              " 'CONCLUSIONS',\n",
              " 'BACKGROUND',\n",
              " 'BACKGROUND',\n",
              " 'BACKGROUND',\n",
              " 'OBJECTIVE',\n",
              " 'METHODS',\n",
              " 'METHODS',\n",
              " 'RESULTS',\n",
              " 'RESULTS',\n",
              " 'RESULTS',\n",
              " 'CONCLUSIONS',\n",
              " 'CONCLUSIONS',\n",
              " 'BACKGROUND',\n",
              " 'BACKGROUND',\n",
              " 'METHODS',\n",
              " 'METHODS',\n",
              " 'RESULTS',\n",
              " 'RESULTS',\n",
              " 'RESULTS',\n",
              " 'RESULTS',\n",
              " 'RESULTS',\n",
              " 'CONCLUSIONS',\n",
              " 'CONCLUSIONS',\n",
              " 'BACKGROUND',\n",
              " 'OBJECTIVE',\n",
              " 'METHODS',\n",
              " 'METHODS',\n",
              " 'METHODS',\n",
              " 'RESULTS',\n",
              " 'RESULTS',\n",
              " 'RESULTS',\n",
              " 'RESULTS',\n",
              " 'RESULTS',\n",
              " 'CONCLUSIONS',\n",
              " 'CONCLUSIONS',\n",
              " 'BACKGROUND',\n",
              " 'OBJECTIVE',\n",
              " 'METHODS',\n",
              " 'RESULTS',\n",
              " 'METHODS',\n",
              " 'RESULTS',\n",
              " 'CONCLUSIONS',\n",
              " 'CONCLUSIONS',\n",
              " 'CONCLUSIONS',\n",
              " 'OBJECTIVE',\n",
              " 'METHODS',\n",
              " 'METHODS',\n",
              " 'RESULTS',\n",
              " 'RESULTS',\n",
              " 'RESULTS',\n",
              " 'RESULTS',\n",
              " 'RESULTS',\n",
              " 'CONCLUSIONS',\n",
              " 'BACKGROUND',\n",
              " 'BACKGROUND',\n",
              " 'METHODS',\n",
              " 'METHODS',\n",
              " 'METHODS',\n",
              " 'METHODS',\n",
              " 'RESULTS',\n",
              " 'RESULTS',\n",
              " 'RESULTS',\n",
              " 'RESULTS',\n",
              " 'RESULTS',\n",
              " 'CONCLUSIONS',\n",
              " 'BACKGROUND',\n",
              " 'BACKGROUND',\n",
              " 'BACKGROUND',\n",
              " 'BACKGROUND',\n",
              " 'OBJECTIVE',\n",
              " 'METHODS',\n",
              " 'METHODS',\n",
              " 'METHODS',\n",
              " 'METHODS',\n",
              " 'METHODS',\n",
              " 'RESULTS',\n",
              " 'RESULTS',\n",
              " 'RESULTS',\n",
              " 'CONCLUSIONS',\n",
              " 'CONCLUSIONS',\n",
              " 'OBJECTIVE',\n",
              " 'OBJECTIVE',\n",
              " 'METHODS',\n",
              " 'METHODS',\n",
              " 'RESULTS',\n",
              " 'RESULTS',\n",
              " 'RESULTS',\n",
              " 'CONCLUSIONS',\n",
              " 'CONCLUSIONS',\n",
              " 'BACKGROUND',\n",
              " 'BACKGROUND',\n",
              " 'BACKGROUND',\n",
              " 'METHODS',\n",
              " 'METHODS',\n",
              " 'METHODS',\n",
              " 'METHODS',\n",
              " 'METHODS',\n",
              " 'METHODS',\n",
              " 'RESULTS',\n",
              " 'RESULTS',\n",
              " 'RESULTS',\n",
              " 'CONCLUSIONS',\n",
              " 'METHODS',\n",
              " 'CONCLUSIONS',\n",
              " 'RESULTS',\n",
              " 'RESULTS',\n",
              " 'CONCLUSIONS',\n",
              " 'RESULTS',\n",
              " 'BACKGROUND',\n",
              " 'OBJECTIVE',\n",
              " 'METHODS',\n",
              " 'METHODS',\n",
              " 'METHODS',\n",
              " 'RESULTS',\n",
              " 'METHODS',\n",
              " 'RESULTS',\n",
              " 'RESULTS',\n",
              " 'RESULTS',\n",
              " 'RESULTS',\n",
              " 'CONCLUSIONS',\n",
              " 'CONCLUSIONS',\n",
              " 'CONCLUSIONS',\n",
              " 'CONCLUSIONS',\n",
              " 'BACKGROUND',\n",
              " 'BACKGROUND',\n",
              " 'METHODS',\n",
              " 'METHODS',\n",
              " 'RESULTS',\n",
              " 'METHODS',\n",
              " 'METHODS',\n",
              " 'METHODS',\n",
              " 'RESULTS',\n",
              " 'RESULTS',\n",
              " 'CONCLUSIONS',\n",
              " 'CONCLUSIONS',\n",
              " 'CONCLUSIONS',\n",
              " 'BACKGROUND',\n",
              " 'BACKGROUND',\n",
              " 'OBJECTIVE',\n",
              " 'METHODS',\n",
              " 'METHODS',\n",
              " 'RESULTS',\n",
              " 'RESULTS',\n",
              " 'RESULTS',\n",
              " 'RESULTS',\n",
              " 'RESULTS',\n",
              " 'RESULTS',\n",
              " 'CONCLUSIONS',\n",
              " 'CONCLUSIONS',\n",
              " 'BACKGROUND',\n",
              " 'OBJECTIVE',\n",
              " 'METHODS',\n",
              " 'METHODS',\n",
              " 'RESULTS',\n",
              " 'RESULTS',\n",
              " 'RESULTS',\n",
              " 'CONCLUSIONS',\n",
              " 'CONCLUSIONS',\n",
              " 'OBJECTIVE',\n",
              " 'METHODS',\n",
              " 'METHODS',\n",
              " 'CONCLUSIONS',\n",
              " 'METHODS',\n",
              " 'RESULTS',\n",
              " 'RESULTS',\n",
              " 'OBJECTIVE',\n",
              " 'BACKGROUND',\n",
              " 'BACKGROUND',\n",
              " 'METHODS',\n",
              " 'METHODS',\n",
              " 'METHODS',\n",
              " 'METHODS',\n",
              " 'RESULTS',\n",
              " 'RESULTS',\n",
              " 'METHODS',\n",
              " 'RESULTS',\n",
              " 'RESULTS',\n",
              " 'RESULTS',\n",
              " 'CONCLUSIONS',\n",
              " 'CONCLUSIONS',\n",
              " 'CONCLUSIONS',\n",
              " 'OBJECTIVE',\n",
              " 'METHODS',\n",
              " 'METHODS',\n",
              " 'RESULTS',\n",
              " 'RESULTS',\n",
              " 'METHODS',\n",
              " 'RESULTS',\n",
              " 'CONCLUSIONS',\n",
              " 'BACKGROUND',\n",
              " 'BACKGROUND',\n",
              " 'METHODS',\n",
              " 'METHODS',\n",
              " 'METHODS',\n",
              " 'METHODS',\n",
              " 'RESULTS',\n",
              " 'RESULTS',\n",
              " 'RESULTS',\n",
              " 'RESULTS',\n",
              " 'RESULTS',\n",
              " 'RESULTS',\n",
              " 'CONCLUSIONS',\n",
              " 'CONCLUSIONS',\n",
              " 'BACKGROUND',\n",
              " 'BACKGROUND',\n",
              " 'BACKGROUND',\n",
              " 'METHODS',\n",
              " 'METHODS',\n",
              " 'METHODS',\n",
              " 'RESULTS',\n",
              " 'RESULTS',\n",
              " 'METHODS',\n",
              " 'RESULTS',\n",
              " 'RESULTS',\n",
              " 'CONCLUSIONS',\n",
              " 'CONCLUSIONS',\n",
              " 'CONCLUSIONS',\n",
              " 'CONCLUSIONS',\n",
              " 'OBJECTIVE',\n",
              " 'METHODS',\n",
              " 'METHODS',\n",
              " 'METHODS',\n",
              " 'METHODS',\n",
              " 'METHODS',\n",
              " 'METHODS',\n",
              " 'RESULTS',\n",
              " 'RESULTS',\n",
              " 'RESULTS',\n",
              " 'RESULTS',\n",
              " 'RESULTS',\n",
              " 'RESULTS',\n",
              " 'CONCLUSIONS',\n",
              " 'CONCLUSIONS',\n",
              " 'BACKGROUND',\n",
              " 'METHODS',\n",
              " 'BACKGROUND',\n",
              " 'OBJECTIVE',\n",
              " 'METHODS',\n",
              " 'RESULTS',\n",
              " 'METHODS',\n",
              " 'RESULTS',\n",
              " 'RESULTS',\n",
              " 'RESULTS',\n",
              " 'CONCLUSIONS',\n",
              " 'RESULTS',\n",
              " 'BACKGROUND',\n",
              " 'BACKGROUND',\n",
              " 'METHODS',\n",
              " 'METHODS',\n",
              " 'METHODS',\n",
              " 'RESULTS',\n",
              " 'RESULTS',\n",
              " 'RESULTS',\n",
              " 'RESULTS',\n",
              " 'RESULTS',\n",
              " 'RESULTS',\n",
              " 'CONCLUSIONS',\n",
              " 'CONCLUSIONS',\n",
              " 'BACKGROUND',\n",
              " 'BACKGROUND',\n",
              " 'BACKGROUND',\n",
              " 'OBJECTIVE',\n",
              " 'METHODS',\n",
              " 'METHODS',\n",
              " 'METHODS',\n",
              " 'METHODS',\n",
              " 'METHODS',\n",
              " 'METHODS',\n",
              " 'RESULTS',\n",
              " 'RESULTS',\n",
              " 'RESULTS',\n",
              " 'RESULTS',\n",
              " 'RESULTS',\n",
              " 'RESULTS',\n",
              " 'RESULTS',\n",
              " 'RESULTS',\n",
              " 'RESULTS',\n",
              " 'CONCLUSIONS',\n",
              " 'CONCLUSIONS',\n",
              " 'BACKGROUND',\n",
              " 'OBJECTIVE',\n",
              " 'METHODS',\n",
              " 'METHODS',\n",
              " 'RESULTS',\n",
              " 'METHODS',\n",
              " 'RESULTS',\n",
              " 'RESULTS',\n",
              " 'RESULTS',\n",
              " 'CONCLUSIONS',\n",
              " 'CONCLUSIONS',\n",
              " 'CONCLUSIONS',\n",
              " 'BACKGROUND',\n",
              " 'BACKGROUND',\n",
              " 'METHODS',\n",
              " 'METHODS',\n",
              " 'METHODS',\n",
              " 'METHODS',\n",
              " 'METHODS',\n",
              " 'METHODS',\n",
              " 'RESULTS',\n",
              " 'RESULTS',\n",
              " 'CONCLUSIONS',\n",
              " 'CONCLUSIONS',\n",
              " 'CONCLUSIONS',\n",
              " 'BACKGROUND',\n",
              " 'BACKGROUND',\n",
              " 'BACKGROUND',\n",
              " 'BACKGROUND',\n",
              " 'BACKGROUND',\n",
              " 'OBJECTIVE',\n",
              " 'METHODS',\n",
              " 'METHODS',\n",
              " 'RESULTS',\n",
              " 'RESULTS',\n",
              " 'RESULTS',\n",
              " 'CONCLUSIONS',\n",
              " 'CONCLUSIONS',\n",
              " 'BACKGROUND',\n",
              " 'BACKGROUND',\n",
              " 'BACKGROUND',\n",
              " 'BACKGROUND',\n",
              " 'METHODS',\n",
              " 'METHODS',\n",
              " 'RESULTS',\n",
              " 'METHODS',\n",
              " 'RESULTS',\n",
              " 'RESULTS',\n",
              " 'RESULTS',\n",
              " 'RESULTS',\n",
              " 'RESULTS',\n",
              " 'RESULTS',\n",
              " 'CONCLUSIONS',\n",
              " 'BACKGROUND',\n",
              " 'BACKGROUND',\n",
              " 'BACKGROUND',\n",
              " 'METHODS',\n",
              " 'METHODS',\n",
              " 'METHODS',\n",
              " 'RESULTS',\n",
              " 'METHODS',\n",
              " 'RESULTS',\n",
              " 'RESULTS',\n",
              " 'RESULTS',\n",
              " 'RESULTS',\n",
              " 'CONCLUSIONS',\n",
              " 'OBJECTIVE',\n",
              " 'RESULTS',\n",
              " 'METHODS',\n",
              " 'RESULTS',\n",
              " 'METHODS',\n",
              " 'RESULTS',\n",
              " 'RESULTS',\n",
              " 'RESULTS',\n",
              " 'CONCLUSIONS',\n",
              " 'RESULTS',\n",
              " 'CONCLUSIONS',\n",
              " 'CONCLUSIONS',\n",
              " 'BACKGROUND',\n",
              " 'OBJECTIVE',\n",
              " 'METHODS',\n",
              " 'METHODS',\n",
              " 'RESULTS',\n",
              " 'RESULTS',\n",
              " 'METHODS',\n",
              " 'RESULTS',\n",
              " 'RESULTS',\n",
              " 'CONCLUSIONS',\n",
              " 'CONCLUSIONS',\n",
              " 'CONCLUSIONS',\n",
              " 'BACKGROUND',\n",
              " 'BACKGROUND',\n",
              " 'METHODS',\n",
              " 'METHODS',\n",
              " 'METHODS',\n",
              " 'METHODS',\n",
              " 'METHODS',\n",
              " 'RESULTS',\n",
              " 'RESULTS',\n",
              " 'RESULTS',\n",
              " 'RESULTS',\n",
              " 'CONCLUSIONS',\n",
              " 'OBJECTIVE',\n",
              " 'METHODS',\n",
              " 'METHODS',\n",
              " 'METHODS',\n",
              " 'METHODS',\n",
              " 'RESULTS',\n",
              " 'RESULTS',\n",
              " 'RESULTS',\n",
              " 'CONCLUSIONS',\n",
              " 'RESULTS',\n",
              " 'BACKGROUND',\n",
              " 'BACKGROUND',\n",
              " 'METHODS',\n",
              " 'METHODS',\n",
              " 'METHODS',\n",
              " 'METHODS',\n",
              " 'METHODS',\n",
              " 'RESULTS',\n",
              " 'RESULTS',\n",
              " 'RESULTS',\n",
              " 'RESULTS',\n",
              " 'RESULTS',\n",
              " 'CONCLUSIONS',\n",
              " 'BACKGROUND',\n",
              " 'METHODS',\n",
              " 'RESULTS',\n",
              " 'RESULTS',\n",
              " 'RESULTS',\n",
              " 'RESULTS',\n",
              " 'RESULTS',\n",
              " 'CONCLUSIONS',\n",
              " 'CONCLUSIONS',\n",
              " 'BACKGROUND',\n",
              " 'BACKGROUND',\n",
              " 'BACKGROUND',\n",
              " 'BACKGROUND',\n",
              " 'METHODS',\n",
              " 'RESULTS',\n",
              " 'METHODS',\n",
              " 'METHODS',\n",
              " 'RESULTS',\n",
              " 'RESULTS',\n",
              " 'METHODS',\n",
              " 'RESULTS',\n",
              " 'RESULTS',\n",
              " 'CONCLUSIONS',\n",
              " 'CONCLUSIONS',\n",
              " 'BACKGROUND',\n",
              " 'BACKGROUND',\n",
              " 'METHODS',\n",
              " 'METHODS',\n",
              " 'METHODS',\n",
              " 'RESULTS',\n",
              " 'METHODS',\n",
              " 'METHODS',\n",
              " 'RESULTS',\n",
              " 'RESULTS',\n",
              " 'RESULTS',\n",
              " 'CONCLUSIONS',\n",
              " 'CONCLUSIONS',\n",
              " 'CONCLUSIONS',\n",
              " 'CONCLUSIONS',\n",
              " 'OBJECTIVE',\n",
              " 'METHODS',\n",
              " 'METHODS',\n",
              " 'METHODS',\n",
              " 'METHODS',\n",
              " 'METHODS',\n",
              " 'RESULTS',\n",
              " 'RESULTS',\n",
              " 'RESULTS',\n",
              " 'RESULTS',\n",
              " 'RESULTS',\n",
              " 'RESULTS',\n",
              " 'CONCLUSIONS',\n",
              " 'RESULTS',\n",
              " 'METHODS',\n",
              " 'OBJECTIVE',\n",
              " 'METHODS',\n",
              " 'RESULTS',\n",
              " 'METHODS',\n",
              " 'RESULTS',\n",
              " 'RESULTS',\n",
              " 'RESULTS',\n",
              " 'RESULTS',\n",
              " 'RESULTS',\n",
              " 'CONCLUSIONS',\n",
              " 'CONCLUSIONS',\n",
              " 'BACKGROUND',\n",
              " 'BACKGROUND',\n",
              " 'BACKGROUND',\n",
              " 'OBJECTIVE',\n",
              " 'METHODS',\n",
              " 'METHODS',\n",
              " 'METHODS',\n",
              " 'METHODS',\n",
              " 'RESULTS',\n",
              " 'RESULTS',\n",
              " 'RESULTS',\n",
              " 'RESULTS',\n",
              " 'RESULTS',\n",
              " 'RESULTS',\n",
              " 'RESULTS',\n",
              " 'CONCLUSIONS',\n",
              " 'RESULTS',\n",
              " 'CONCLUSIONS',\n",
              " 'CONCLUSIONS',\n",
              " 'BACKGROUND',\n",
              " 'OBJECTIVE',\n",
              " 'METHODS',\n",
              " 'METHODS',\n",
              " 'METHODS',\n",
              " 'RESULTS',\n",
              " 'RESULTS',\n",
              " 'RESULTS',\n",
              " 'CONCLUSIONS',\n",
              " 'BACKGROUND',\n",
              " 'BACKGROUND',\n",
              " 'METHODS',\n",
              " 'METHODS',\n",
              " 'METHODS',\n",
              " 'METHODS',\n",
              " 'METHODS',\n",
              " 'METHODS',\n",
              " 'RESULTS',\n",
              " 'RESULTS',\n",
              " 'RESULTS',\n",
              " 'CONCLUSIONS',\n",
              " 'CONCLUSIONS',\n",
              " ...]"
            ]
          },
          "metadata": {},
          "execution_count": 122
        }
      ]
    },
    {
      "cell_type": "markdown",
      "source": [
        "Now we'll enrich our test DataFame with a few values:\n",
        "* A `\"prediction\"` (string) column containing our model's prediction for a given sample.\n",
        "* A `\"pred_prob\"` (float) column containing the model's maximum prediction probabiliy for a given sample.\n",
        "* A `\"correct\"` (bool) column to indicate whether or not the model's prediction matches the sample's target label."
      ],
      "metadata": {
        "id": "7YYlTAvmvntH"
      }
    },
    {
      "cell_type": "code",
      "source": [
        "# Create prediction-enriched test dataframe\n",
        "test_df[\"prediction\"] = test_pred_classes # create column with test prediction class names\n",
        "test_df[\"pred_prob\"] = tf.reduce_max(test_pred_probs, axis=1).numpy() # get the maximum prediction probability\n",
        "test_df[\"correct\"] = test_df[\"prediction\"] == test_df[\"target\"] # create binary column for whether the prediction is right or not\n",
        "test_df.head(20)"
      ],
      "metadata": {
        "colab": {
          "base_uri": "https://localhost:8080/",
          "height": 676
        },
        "id": "3nZ8xJY3vr-2",
        "outputId": "4b25f97e-dad4-4941-ea84-f4343275f30c"
      },
      "execution_count": 123,
      "outputs": [
        {
          "output_type": "execute_result",
          "data": {
            "text/plain": [
              "         target                                               text  \\\n",
              "0    BACKGROUND  this study analyzed liver function abnormaliti...   \n",
              "1       RESULTS  a post hoc analysis was conducted with the use...   \n",
              "2       RESULTS  liver function tests ( lfts ) were measured at...   \n",
              "3       RESULTS  survival analyses were used to assess the asso...   \n",
              "4       RESULTS  the percentage of patients with abnormal lfts ...   \n",
              "5       RESULTS  when mean hemodynamic profiles were compared i...   \n",
              "6       RESULTS  multivariable analyses revealed that patients ...   \n",
              "7   CONCLUSIONS  abnormal lfts are common in the adhf populatio...   \n",
              "8   CONCLUSIONS  elevated meld-xi scores are associated with po...   \n",
              "9    BACKGROUND  minimally invasive endovascular aneurysm repai...   \n",
              "10   BACKGROUND  the aim of this study was to analyse the cost-...   \n",
              "11      METHODS  resource use was determined from the amsterdam...   \n",
              "12      METHODS  the analysis was performed from a provider per...   \n",
              "13      METHODS  all costs were calculated as if all patients h...   \n",
              "14      RESULTS            a total of @ patients were randomized .   \n",
              "15      RESULTS  the @-day mortality rate was @ per cent after ...   \n",
              "16      RESULTS  at @months , the total mortality rate for evar...   \n",
              "17      RESULTS  the mean cost difference between evar and or w...   \n",
              "18      RESULTS  the incremental cost-effectiveness ratio per p...   \n",
              "19      RESULTS  there was no significant difference in quality...   \n",
              "\n",
              "    line_number  total_lines   prediction  pred_prob  correct  \n",
              "0             0            8    OBJECTIVE   0.472122    False  \n",
              "1             1            8   BACKGROUND   0.353513    False  \n",
              "2             2            8      METHODS   0.808753    False  \n",
              "3             3            8      METHODS   0.657945    False  \n",
              "4             4            8      RESULTS   0.723483     True  \n",
              "5             5            8      RESULTS   0.881278     True  \n",
              "6             6            8      RESULTS   0.564140     True  \n",
              "7             7            8  CONCLUSIONS   0.532728     True  \n",
              "8             8            8      RESULTS   0.463361    False  \n",
              "9             0           12   BACKGROUND   0.564041     True  \n",
              "10            1           12    OBJECTIVE   0.500743    False  \n",
              "11            2           12      METHODS   0.594177     True  \n",
              "12            3           12      METHODS   0.867655     True  \n",
              "13            4           12      METHODS   0.592486     True  \n",
              "14            5           12      RESULTS   0.720295     True  \n",
              "15            6           12      RESULTS   0.662032     True  \n",
              "16            7           12      RESULTS   0.879356     True  \n",
              "17            8           12      RESULTS   0.859079     True  \n",
              "18            9           12      RESULTS   0.815089     True  \n",
              "19           10           12      RESULTS   0.752624     True  "
            ],
            "text/html": [
              "\n",
              "  <div id=\"df-46607139-afaf-4e41-b21e-acf562b7b0f4\">\n",
              "    <div class=\"colab-df-container\">\n",
              "      <div>\n",
              "<style scoped>\n",
              "    .dataframe tbody tr th:only-of-type {\n",
              "        vertical-align: middle;\n",
              "    }\n",
              "\n",
              "    .dataframe tbody tr th {\n",
              "        vertical-align: top;\n",
              "    }\n",
              "\n",
              "    .dataframe thead th {\n",
              "        text-align: right;\n",
              "    }\n",
              "</style>\n",
              "<table border=\"1\" class=\"dataframe\">\n",
              "  <thead>\n",
              "    <tr style=\"text-align: right;\">\n",
              "      <th></th>\n",
              "      <th>target</th>\n",
              "      <th>text</th>\n",
              "      <th>line_number</th>\n",
              "      <th>total_lines</th>\n",
              "      <th>prediction</th>\n",
              "      <th>pred_prob</th>\n",
              "      <th>correct</th>\n",
              "    </tr>\n",
              "  </thead>\n",
              "  <tbody>\n",
              "    <tr>\n",
              "      <th>0</th>\n",
              "      <td>BACKGROUND</td>\n",
              "      <td>this study analyzed liver function abnormaliti...</td>\n",
              "      <td>0</td>\n",
              "      <td>8</td>\n",
              "      <td>OBJECTIVE</td>\n",
              "      <td>0.472122</td>\n",
              "      <td>False</td>\n",
              "    </tr>\n",
              "    <tr>\n",
              "      <th>1</th>\n",
              "      <td>RESULTS</td>\n",
              "      <td>a post hoc analysis was conducted with the use...</td>\n",
              "      <td>1</td>\n",
              "      <td>8</td>\n",
              "      <td>BACKGROUND</td>\n",
              "      <td>0.353513</td>\n",
              "      <td>False</td>\n",
              "    </tr>\n",
              "    <tr>\n",
              "      <th>2</th>\n",
              "      <td>RESULTS</td>\n",
              "      <td>liver function tests ( lfts ) were measured at...</td>\n",
              "      <td>2</td>\n",
              "      <td>8</td>\n",
              "      <td>METHODS</td>\n",
              "      <td>0.808753</td>\n",
              "      <td>False</td>\n",
              "    </tr>\n",
              "    <tr>\n",
              "      <th>3</th>\n",
              "      <td>RESULTS</td>\n",
              "      <td>survival analyses were used to assess the asso...</td>\n",
              "      <td>3</td>\n",
              "      <td>8</td>\n",
              "      <td>METHODS</td>\n",
              "      <td>0.657945</td>\n",
              "      <td>False</td>\n",
              "    </tr>\n",
              "    <tr>\n",
              "      <th>4</th>\n",
              "      <td>RESULTS</td>\n",
              "      <td>the percentage of patients with abnormal lfts ...</td>\n",
              "      <td>4</td>\n",
              "      <td>8</td>\n",
              "      <td>RESULTS</td>\n",
              "      <td>0.723483</td>\n",
              "      <td>True</td>\n",
              "    </tr>\n",
              "    <tr>\n",
              "      <th>5</th>\n",
              "      <td>RESULTS</td>\n",
              "      <td>when mean hemodynamic profiles were compared i...</td>\n",
              "      <td>5</td>\n",
              "      <td>8</td>\n",
              "      <td>RESULTS</td>\n",
              "      <td>0.881278</td>\n",
              "      <td>True</td>\n",
              "    </tr>\n",
              "    <tr>\n",
              "      <th>6</th>\n",
              "      <td>RESULTS</td>\n",
              "      <td>multivariable analyses revealed that patients ...</td>\n",
              "      <td>6</td>\n",
              "      <td>8</td>\n",
              "      <td>RESULTS</td>\n",
              "      <td>0.564140</td>\n",
              "      <td>True</td>\n",
              "    </tr>\n",
              "    <tr>\n",
              "      <th>7</th>\n",
              "      <td>CONCLUSIONS</td>\n",
              "      <td>abnormal lfts are common in the adhf populatio...</td>\n",
              "      <td>7</td>\n",
              "      <td>8</td>\n",
              "      <td>CONCLUSIONS</td>\n",
              "      <td>0.532728</td>\n",
              "      <td>True</td>\n",
              "    </tr>\n",
              "    <tr>\n",
              "      <th>8</th>\n",
              "      <td>CONCLUSIONS</td>\n",
              "      <td>elevated meld-xi scores are associated with po...</td>\n",
              "      <td>8</td>\n",
              "      <td>8</td>\n",
              "      <td>RESULTS</td>\n",
              "      <td>0.463361</td>\n",
              "      <td>False</td>\n",
              "    </tr>\n",
              "    <tr>\n",
              "      <th>9</th>\n",
              "      <td>BACKGROUND</td>\n",
              "      <td>minimally invasive endovascular aneurysm repai...</td>\n",
              "      <td>0</td>\n",
              "      <td>12</td>\n",
              "      <td>BACKGROUND</td>\n",
              "      <td>0.564041</td>\n",
              "      <td>True</td>\n",
              "    </tr>\n",
              "    <tr>\n",
              "      <th>10</th>\n",
              "      <td>BACKGROUND</td>\n",
              "      <td>the aim of this study was to analyse the cost-...</td>\n",
              "      <td>1</td>\n",
              "      <td>12</td>\n",
              "      <td>OBJECTIVE</td>\n",
              "      <td>0.500743</td>\n",
              "      <td>False</td>\n",
              "    </tr>\n",
              "    <tr>\n",
              "      <th>11</th>\n",
              "      <td>METHODS</td>\n",
              "      <td>resource use was determined from the amsterdam...</td>\n",
              "      <td>2</td>\n",
              "      <td>12</td>\n",
              "      <td>METHODS</td>\n",
              "      <td>0.594177</td>\n",
              "      <td>True</td>\n",
              "    </tr>\n",
              "    <tr>\n",
              "      <th>12</th>\n",
              "      <td>METHODS</td>\n",
              "      <td>the analysis was performed from a provider per...</td>\n",
              "      <td>3</td>\n",
              "      <td>12</td>\n",
              "      <td>METHODS</td>\n",
              "      <td>0.867655</td>\n",
              "      <td>True</td>\n",
              "    </tr>\n",
              "    <tr>\n",
              "      <th>13</th>\n",
              "      <td>METHODS</td>\n",
              "      <td>all costs were calculated as if all patients h...</td>\n",
              "      <td>4</td>\n",
              "      <td>12</td>\n",
              "      <td>METHODS</td>\n",
              "      <td>0.592486</td>\n",
              "      <td>True</td>\n",
              "    </tr>\n",
              "    <tr>\n",
              "      <th>14</th>\n",
              "      <td>RESULTS</td>\n",
              "      <td>a total of @ patients were randomized .</td>\n",
              "      <td>5</td>\n",
              "      <td>12</td>\n",
              "      <td>RESULTS</td>\n",
              "      <td>0.720295</td>\n",
              "      <td>True</td>\n",
              "    </tr>\n",
              "    <tr>\n",
              "      <th>15</th>\n",
              "      <td>RESULTS</td>\n",
              "      <td>the @-day mortality rate was @ per cent after ...</td>\n",
              "      <td>6</td>\n",
              "      <td>12</td>\n",
              "      <td>RESULTS</td>\n",
              "      <td>0.662032</td>\n",
              "      <td>True</td>\n",
              "    </tr>\n",
              "    <tr>\n",
              "      <th>16</th>\n",
              "      <td>RESULTS</td>\n",
              "      <td>at @months , the total mortality rate for evar...</td>\n",
              "      <td>7</td>\n",
              "      <td>12</td>\n",
              "      <td>RESULTS</td>\n",
              "      <td>0.879356</td>\n",
              "      <td>True</td>\n",
              "    </tr>\n",
              "    <tr>\n",
              "      <th>17</th>\n",
              "      <td>RESULTS</td>\n",
              "      <td>the mean cost difference between evar and or w...</td>\n",
              "      <td>8</td>\n",
              "      <td>12</td>\n",
              "      <td>RESULTS</td>\n",
              "      <td>0.859079</td>\n",
              "      <td>True</td>\n",
              "    </tr>\n",
              "    <tr>\n",
              "      <th>18</th>\n",
              "      <td>RESULTS</td>\n",
              "      <td>the incremental cost-effectiveness ratio per p...</td>\n",
              "      <td>9</td>\n",
              "      <td>12</td>\n",
              "      <td>RESULTS</td>\n",
              "      <td>0.815089</td>\n",
              "      <td>True</td>\n",
              "    </tr>\n",
              "    <tr>\n",
              "      <th>19</th>\n",
              "      <td>RESULTS</td>\n",
              "      <td>there was no significant difference in quality...</td>\n",
              "      <td>10</td>\n",
              "      <td>12</td>\n",
              "      <td>RESULTS</td>\n",
              "      <td>0.752624</td>\n",
              "      <td>True</td>\n",
              "    </tr>\n",
              "  </tbody>\n",
              "</table>\n",
              "</div>\n",
              "      <button class=\"colab-df-convert\" onclick=\"convertToInteractive('df-46607139-afaf-4e41-b21e-acf562b7b0f4')\"\n",
              "              title=\"Convert this dataframe to an interactive table.\"\n",
              "              style=\"display:none;\">\n",
              "        \n",
              "  <svg xmlns=\"http://www.w3.org/2000/svg\" height=\"24px\"viewBox=\"0 0 24 24\"\n",
              "       width=\"24px\">\n",
              "    <path d=\"M0 0h24v24H0V0z\" fill=\"none\"/>\n",
              "    <path d=\"M18.56 5.44l.94 2.06.94-2.06 2.06-.94-2.06-.94-.94-2.06-.94 2.06-2.06.94zm-11 1L8.5 8.5l.94-2.06 2.06-.94-2.06-.94L8.5 2.5l-.94 2.06-2.06.94zm10 10l.94 2.06.94-2.06 2.06-.94-2.06-.94-.94-2.06-.94 2.06-2.06.94z\"/><path d=\"M17.41 7.96l-1.37-1.37c-.4-.4-.92-.59-1.43-.59-.52 0-1.04.2-1.43.59L10.3 9.45l-7.72 7.72c-.78.78-.78 2.05 0 2.83L4 21.41c.39.39.9.59 1.41.59.51 0 1.02-.2 1.41-.59l7.78-7.78 2.81-2.81c.8-.78.8-2.07 0-2.86zM5.41 20L4 18.59l7.72-7.72 1.47 1.35L5.41 20z\"/>\n",
              "  </svg>\n",
              "      </button>\n",
              "      \n",
              "  <style>\n",
              "    .colab-df-container {\n",
              "      display:flex;\n",
              "      flex-wrap:wrap;\n",
              "      gap: 12px;\n",
              "    }\n",
              "\n",
              "    .colab-df-convert {\n",
              "      background-color: #E8F0FE;\n",
              "      border: none;\n",
              "      border-radius: 50%;\n",
              "      cursor: pointer;\n",
              "      display: none;\n",
              "      fill: #1967D2;\n",
              "      height: 32px;\n",
              "      padding: 0 0 0 0;\n",
              "      width: 32px;\n",
              "    }\n",
              "\n",
              "    .colab-df-convert:hover {\n",
              "      background-color: #E2EBFA;\n",
              "      box-shadow: 0px 1px 2px rgba(60, 64, 67, 0.3), 0px 1px 3px 1px rgba(60, 64, 67, 0.15);\n",
              "      fill: #174EA6;\n",
              "    }\n",
              "\n",
              "    [theme=dark] .colab-df-convert {\n",
              "      background-color: #3B4455;\n",
              "      fill: #D2E3FC;\n",
              "    }\n",
              "\n",
              "    [theme=dark] .colab-df-convert:hover {\n",
              "      background-color: #434B5C;\n",
              "      box-shadow: 0px 1px 3px 1px rgba(0, 0, 0, 0.15);\n",
              "      filter: drop-shadow(0px 1px 2px rgba(0, 0, 0, 0.3));\n",
              "      fill: #FFFFFF;\n",
              "    }\n",
              "  </style>\n",
              "\n",
              "      <script>\n",
              "        const buttonEl =\n",
              "          document.querySelector('#df-46607139-afaf-4e41-b21e-acf562b7b0f4 button.colab-df-convert');\n",
              "        buttonEl.style.display =\n",
              "          google.colab.kernel.accessAllowed ? 'block' : 'none';\n",
              "\n",
              "        async function convertToInteractive(key) {\n",
              "          const element = document.querySelector('#df-46607139-afaf-4e41-b21e-acf562b7b0f4');\n",
              "          const dataTable =\n",
              "            await google.colab.kernel.invokeFunction('convertToInteractive',\n",
              "                                                     [key], {});\n",
              "          if (!dataTable) return;\n",
              "\n",
              "          const docLinkHtml = 'Like what you see? Visit the ' +\n",
              "            '<a target=\"_blank\" href=https://colab.research.google.com/notebooks/data_table.ipynb>data table notebook</a>'\n",
              "            + ' to learn more about interactive tables.';\n",
              "          element.innerHTML = '';\n",
              "          dataTable['output_type'] = 'display_data';\n",
              "          await google.colab.output.renderOutput(dataTable, element);\n",
              "          const docLink = document.createElement('div');\n",
              "          docLink.innerHTML = docLinkHtml;\n",
              "          element.appendChild(docLink);\n",
              "        }\n",
              "      </script>\n",
              "    </div>\n",
              "  </div>\n",
              "  "
            ]
          },
          "metadata": {},
          "execution_count": 123
        }
      ]
    },
    {
      "cell_type": "markdown",
      "source": [
        "Looking good! Having our data like this, makes it very easy to manipulate and view in different ways.\n",
        "\n",
        "How about we sort our DataFrame to find the samples with the highest `\"pred_prob\"` and where the prediction was wrong (`\"correct\" == False`)?"
      ],
      "metadata": {
        "id": "RoEzEOiXvtvv"
      }
    },
    {
      "cell_type": "code",
      "source": [
        "# Find top 100 most wrong samples (note: 100 is an abitrary number, you could go through all of them if you wanted)\n",
        "top_100_wrong = test_df[test_df[\"correct\"] == False].sort_values(\"pred_prob\", ascending=False)[:100]\n",
        "top_100_wrong"
      ],
      "metadata": {
        "colab": {
          "base_uri": "https://localhost:8080/",
          "height": 424
        },
        "id": "Xxe4o5VQvwJ-",
        "outputId": "e689531b-fcd7-4054-beb6-d4b7d0a9ca93"
      },
      "execution_count": 124,
      "outputs": [
        {
          "output_type": "execute_result",
          "data": {
            "text/plain": [
              "            target                                               text  \\\n",
              "13874  CONCLUSIONS  symptom outcomes will be assessed and estimate...   \n",
              "16347   BACKGROUND  to evaluate the effects of the lactic acid bac...   \n",
              "2388       RESULTS  the primary endpoint is the cumulative three-y...   \n",
              "16633  CONCLUSIONS             clinicaltrials.gov identifier : nct@ .   \n",
              "1827   CONCLUSIONS                      nct@ ( clinicaltrials.gov ) .   \n",
              "...            ...                                                ...   \n",
              "29007      RESULTS  control group patients received a wallet card ...   \n",
              "3859       RESULTS  this suggests that generalisation of habituati...   \n",
              "13490      RESULTS  data were analyzed at baseline and longitudina...   \n",
              "29097   BACKGROUND  the primary endpoint was change from baseline ...   \n",
              "16634   BACKGROUND  to investigate whether remote ischemic conditi...   \n",
              "\n",
              "       line_number  total_lines   prediction  pred_prob  correct  \n",
              "13874            4            6      METHODS   0.953500    False  \n",
              "16347            0           12    OBJECTIVE   0.945251    False  \n",
              "2388             4           13      METHODS   0.930955    False  \n",
              "16633           19           19   BACKGROUND   0.930414    False  \n",
              "1827            18           18   BACKGROUND   0.926684    False  \n",
              "...            ...          ...          ...        ...      ...  \n",
              "29007            5           14      METHODS   0.847934    False  \n",
              "3859             9           11  CONCLUSIONS   0.847045    False  \n",
              "13490            4           14      METHODS   0.846668    False  \n",
              "29097            4           15      METHODS   0.846460    False  \n",
              "16634            0           11    OBJECTIVE   0.846081    False  \n",
              "\n",
              "[100 rows x 7 columns]"
            ],
            "text/html": [
              "\n",
              "  <div id=\"df-590c2229-4857-41fb-8101-0d1a1ed938d3\">\n",
              "    <div class=\"colab-df-container\">\n",
              "      <div>\n",
              "<style scoped>\n",
              "    .dataframe tbody tr th:only-of-type {\n",
              "        vertical-align: middle;\n",
              "    }\n",
              "\n",
              "    .dataframe tbody tr th {\n",
              "        vertical-align: top;\n",
              "    }\n",
              "\n",
              "    .dataframe thead th {\n",
              "        text-align: right;\n",
              "    }\n",
              "</style>\n",
              "<table border=\"1\" class=\"dataframe\">\n",
              "  <thead>\n",
              "    <tr style=\"text-align: right;\">\n",
              "      <th></th>\n",
              "      <th>target</th>\n",
              "      <th>text</th>\n",
              "      <th>line_number</th>\n",
              "      <th>total_lines</th>\n",
              "      <th>prediction</th>\n",
              "      <th>pred_prob</th>\n",
              "      <th>correct</th>\n",
              "    </tr>\n",
              "  </thead>\n",
              "  <tbody>\n",
              "    <tr>\n",
              "      <th>13874</th>\n",
              "      <td>CONCLUSIONS</td>\n",
              "      <td>symptom outcomes will be assessed and estimate...</td>\n",
              "      <td>4</td>\n",
              "      <td>6</td>\n",
              "      <td>METHODS</td>\n",
              "      <td>0.953500</td>\n",
              "      <td>False</td>\n",
              "    </tr>\n",
              "    <tr>\n",
              "      <th>16347</th>\n",
              "      <td>BACKGROUND</td>\n",
              "      <td>to evaluate the effects of the lactic acid bac...</td>\n",
              "      <td>0</td>\n",
              "      <td>12</td>\n",
              "      <td>OBJECTIVE</td>\n",
              "      <td>0.945251</td>\n",
              "      <td>False</td>\n",
              "    </tr>\n",
              "    <tr>\n",
              "      <th>2388</th>\n",
              "      <td>RESULTS</td>\n",
              "      <td>the primary endpoint is the cumulative three-y...</td>\n",
              "      <td>4</td>\n",
              "      <td>13</td>\n",
              "      <td>METHODS</td>\n",
              "      <td>0.930955</td>\n",
              "      <td>False</td>\n",
              "    </tr>\n",
              "    <tr>\n",
              "      <th>16633</th>\n",
              "      <td>CONCLUSIONS</td>\n",
              "      <td>clinicaltrials.gov identifier : nct@ .</td>\n",
              "      <td>19</td>\n",
              "      <td>19</td>\n",
              "      <td>BACKGROUND</td>\n",
              "      <td>0.930414</td>\n",
              "      <td>False</td>\n",
              "    </tr>\n",
              "    <tr>\n",
              "      <th>1827</th>\n",
              "      <td>CONCLUSIONS</td>\n",
              "      <td>nct@ ( clinicaltrials.gov ) .</td>\n",
              "      <td>18</td>\n",
              "      <td>18</td>\n",
              "      <td>BACKGROUND</td>\n",
              "      <td>0.926684</td>\n",
              "      <td>False</td>\n",
              "    </tr>\n",
              "    <tr>\n",
              "      <th>...</th>\n",
              "      <td>...</td>\n",
              "      <td>...</td>\n",
              "      <td>...</td>\n",
              "      <td>...</td>\n",
              "      <td>...</td>\n",
              "      <td>...</td>\n",
              "      <td>...</td>\n",
              "    </tr>\n",
              "    <tr>\n",
              "      <th>29007</th>\n",
              "      <td>RESULTS</td>\n",
              "      <td>control group patients received a wallet card ...</td>\n",
              "      <td>5</td>\n",
              "      <td>14</td>\n",
              "      <td>METHODS</td>\n",
              "      <td>0.847934</td>\n",
              "      <td>False</td>\n",
              "    </tr>\n",
              "    <tr>\n",
              "      <th>3859</th>\n",
              "      <td>RESULTS</td>\n",
              "      <td>this suggests that generalisation of habituati...</td>\n",
              "      <td>9</td>\n",
              "      <td>11</td>\n",
              "      <td>CONCLUSIONS</td>\n",
              "      <td>0.847045</td>\n",
              "      <td>False</td>\n",
              "    </tr>\n",
              "    <tr>\n",
              "      <th>13490</th>\n",
              "      <td>RESULTS</td>\n",
              "      <td>data were analyzed at baseline and longitudina...</td>\n",
              "      <td>4</td>\n",
              "      <td>14</td>\n",
              "      <td>METHODS</td>\n",
              "      <td>0.846668</td>\n",
              "      <td>False</td>\n",
              "    </tr>\n",
              "    <tr>\n",
              "      <th>29097</th>\n",
              "      <td>BACKGROUND</td>\n",
              "      <td>the primary endpoint was change from baseline ...</td>\n",
              "      <td>4</td>\n",
              "      <td>15</td>\n",
              "      <td>METHODS</td>\n",
              "      <td>0.846460</td>\n",
              "      <td>False</td>\n",
              "    </tr>\n",
              "    <tr>\n",
              "      <th>16634</th>\n",
              "      <td>BACKGROUND</td>\n",
              "      <td>to investigate whether remote ischemic conditi...</td>\n",
              "      <td>0</td>\n",
              "      <td>11</td>\n",
              "      <td>OBJECTIVE</td>\n",
              "      <td>0.846081</td>\n",
              "      <td>False</td>\n",
              "    </tr>\n",
              "  </tbody>\n",
              "</table>\n",
              "<p>100 rows × 7 columns</p>\n",
              "</div>\n",
              "      <button class=\"colab-df-convert\" onclick=\"convertToInteractive('df-590c2229-4857-41fb-8101-0d1a1ed938d3')\"\n",
              "              title=\"Convert this dataframe to an interactive table.\"\n",
              "              style=\"display:none;\">\n",
              "        \n",
              "  <svg xmlns=\"http://www.w3.org/2000/svg\" height=\"24px\"viewBox=\"0 0 24 24\"\n",
              "       width=\"24px\">\n",
              "    <path d=\"M0 0h24v24H0V0z\" fill=\"none\"/>\n",
              "    <path d=\"M18.56 5.44l.94 2.06.94-2.06 2.06-.94-2.06-.94-.94-2.06-.94 2.06-2.06.94zm-11 1L8.5 8.5l.94-2.06 2.06-.94-2.06-.94L8.5 2.5l-.94 2.06-2.06.94zm10 10l.94 2.06.94-2.06 2.06-.94-2.06-.94-.94-2.06-.94 2.06-2.06.94z\"/><path d=\"M17.41 7.96l-1.37-1.37c-.4-.4-.92-.59-1.43-.59-.52 0-1.04.2-1.43.59L10.3 9.45l-7.72 7.72c-.78.78-.78 2.05 0 2.83L4 21.41c.39.39.9.59 1.41.59.51 0 1.02-.2 1.41-.59l7.78-7.78 2.81-2.81c.8-.78.8-2.07 0-2.86zM5.41 20L4 18.59l7.72-7.72 1.47 1.35L5.41 20z\"/>\n",
              "  </svg>\n",
              "      </button>\n",
              "      \n",
              "  <style>\n
              
